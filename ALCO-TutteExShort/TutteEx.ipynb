{
 "cells": [
  {
   "cell_type": "code",
   "execution_count": 1,
   "id": "903c8502",
   "metadata": {},
   "outputs": [
    {
     "data": {
      "text/plain": [
       "(n, p)"
      ]
     },
     "execution_count": 1,
     "metadata": {},
     "output_type": "execute_result"
    }
   ],
   "source": [
    "var('n,p')"
   ]
  },
  {
   "cell_type": "code",
   "execution_count": 2,
   "id": "bc50c1f3",
   "metadata": {},
   "outputs": [],
   "source": [
    "n=6; p=2"
   ]
  },
  {
   "cell_type": "code",
   "execution_count": 3,
   "id": "264afada",
   "metadata": {},
   "outputs": [],
   "source": [
    "Crg = PolynomialRing(QQ, ['r%s'%i for i in range(1, n+1)] + ['g%s'%i for i in range(1,n+1)])"
   ]
  },
  {
   "cell_type": "code",
   "execution_count": 4,
   "id": "9a52c738",
   "metadata": {},
   "outputs": [
    {
     "name": "stdout",
     "output_type": "stream",
     "text": [
      "Defining r1, r2, r3, r4, r5, r6, g1, g2, g3, g4, g5, g6\n"
     ]
    }
   ],
   "source": [
    "Crg.inject_variables()"
   ]
  },
  {
   "cell_type": "code",
   "execution_count": 5,
   "id": "92eabe61",
   "metadata": {},
   "outputs": [],
   "source": [
    "Ext=ExteriorAlgebra(Crg,['p%s'%i for i in range(1,p+1)]+\n",
    "                    ['pa%s'%i for i in range (1,p+1)]+\n",
    "                    ['pb%s'%i for i in range (1,p+1)]+\n",
    "                    ['e%s'%i for i in range(1, n+1)])"
   ]
  },
  {
   "cell_type": "code",
   "execution_count": 6,
   "id": "80a4c0ee",
   "metadata": {
    "scrolled": true
   },
   "outputs": [
    {
     "name": "stdout",
     "output_type": "stream",
     "text": [
      "Defining p1, p2, pa1, pa2, pb1, pb2, e1, e2, e3, e4, e5, e6\n"
     ]
    }
   ],
   "source": [
    "Ext.inject_variables()"
   ]
  },
  {
   "cell_type": "code",
   "execution_count": 7,
   "id": "f04467e6",
   "metadata": {},
   "outputs": [
    {
     "data": {
      "text/plain": [
       "(p1, p2, pa1, pa2, pb1, pb2, e1, e2, e3, e4, e5, e6)"
      ]
     },
     "execution_count": 7,
     "metadata": {},
     "output_type": "execute_result"
    }
   ],
   "source": [
    "Ext.gens()"
   ]
  },
  {
   "cell_type": "code",
   "execution_count": 8,
   "id": "8bcb671b",
   "metadata": {},
   "outputs": [
    {
     "data": {
      "text/plain": [
       "True"
      ]
     },
     "execution_count": 8,
     "metadata": {},
     "output_type": "execute_result"
    }
   ],
   "source": [
    "product(Ext.gens()[0:3*p])==p1*p2*pa1*pa2*pb1*pb2"
   ]
  },
  {
   "cell_type": "code",
   "execution_count": null,
   "id": "fbc4885b",
   "metadata": {},
   "outputs": [],
   "source": []
  },
  {
   "cell_type": "code",
   "execution_count": 9,
   "id": "3bf161bd",
   "metadata": {},
   "outputs": [
    {
     "data": {
      "text/plain": [
       "-2*p1*p2 - 2*p1*e2 + 2*p2*e1 - 2*e1*e2"
      ]
     },
     "execution_count": 9,
     "metadata": {},
     "output_type": "execute_result"
    }
   ],
   "source": [
    "(p1+p2+e1+e2)*(+p1-p2+e1-e2)"
   ]
  },
  {
   "cell_type": "code",
   "execution_count": 10,
   "id": "b8515b4f",
   "metadata": {},
   "outputs": [
    {
     "data": {
      "text/plain": [
       "(r, cr)"
      ]
     },
     "execution_count": 10,
     "metadata": {},
     "output_type": "execute_result"
    }
   ],
   "source": [
    "var('r cr')"
   ]
  },
  {
   "cell_type": "code",
   "execution_count": 11,
   "id": "e602c4d8",
   "metadata": {},
   "outputs": [],
   "source": [
    "r = 4"
   ]
  },
  {
   "cell_type": "code",
   "execution_count": 12,
   "id": "8f49e698",
   "metadata": {},
   "outputs": [],
   "source": [
    "cr = n+p-r"
   ]
  },
  {
   "cell_type": "code",
   "execution_count": 13,
   "id": "b4615e52",
   "metadata": {},
   "outputs": [],
   "source": [
    "Nal = matrix(Crg,    r,  n+p)\n",
    "NbePe = matrix(Crg, cr,  n+p)\n"
   ]
  },
  {
   "cell_type": "code",
   "execution_count": 14,
   "id": "1d335f04",
   "metadata": {},
   "outputs": [
    {
     "data": {
      "text/plain": [
       "[0 0 0 0 0 0 0 0]\n",
       "[0 0 0 0 0 0 0 0]\n",
       "[0 0 0 0 0 0 0 0]\n",
       "[0 0 0 0 0 0 0 0]"
      ]
     },
     "execution_count": 14,
     "metadata": {},
     "output_type": "execute_result"
    }
   ],
   "source": [
    "Nal\n"
   ]
  },
  {
   "cell_type": "code",
   "execution_count": 15,
   "id": "0cff38bd",
   "metadata": {},
   "outputs": [
    {
     "data": {
      "text/plain": [
       "[0 0 0 0 0 0 0 0]\n",
       "[0 0 0 0 0 0 0 0]\n",
       "[0 0 0 0 0 0 0 0]\n",
       "[0 0 0 0 0 0 0 0]"
      ]
     },
     "execution_count": 15,
     "metadata": {},
     "output_type": "execute_result"
    }
   ],
   "source": [
    "NbePe"
   ]
  },
  {
   "cell_type": "code",
   "execution_count": 16,
   "id": "65e7318c",
   "metadata": {},
   "outputs": [],
   "source": [
    "Graph1=DiGraph(\n",
    "        {2: {1: 'p1', 3: 'e2', 4: 'e4'},\n",
    "         4: { 3: 'p2', 1: 'e3'},\n",
    "         1: {3: 'e1', 5: 'e5'}, \n",
    "         3: {}, \n",
    "         5: {3: 'e6'}})"
   ]
  },
  {
   "cell_type": "code",
   "execution_count": 17,
   "id": "c2dbfbca",
   "metadata": {},
   "outputs": [
    {
     "data": {
      "image/png": "[encoded data removed]",
      "text/plain": [
       "Graphics object consisting of 22 graphics primitives"
      ]
     },
     "execution_count": 17,
     "metadata": {},
     "output_type": "execute_result"
    }
   ],
   "source": [
    "Graph1.plot(edge_labels=True)"
   ]
  },
  {
   "cell_type": "code",
   "execution_count": 18,
   "id": "c12cb8c7",
   "metadata": {},
   "outputs": [
    {
     "data": {
      "text/plain": [
       "[-1 -1  1  0  0  1  0  0]\n",
       "[ 0  0 -1 -1 -1  0  0  0]\n",
       "[ 1  0  0  1  0  0  1  1]\n",
       "[ 0  0  0  0  1 -1 -1  0]\n",
       "[ 0  1  0  0  0  0  0 -1]"
      ]
     },
     "execution_count": 18,
     "metadata": {},
     "output_type": "execute_result"
    }
   ],
   "source": [
    "Graph1.incidence_matrix(oriented=True)"
   ]
  },
  {
   "cell_type": "code",
   "execution_count": 19,
   "id": "44688d7a",
   "metadata": {
    "scrolled": true
   },
   "outputs": [
    {
     "data": {
      "text/plain": [
       "[ 1  0 -1  0  1  0 -1  0]\n",
       "[-1  0  0 -1  0 -1  0  0]\n",
       "[ 0  1  1  1  0  0  0  1]\n",
       "[ 0 -1  0  0 -1  1  0  0]\n",
       "[ 0  0  0  0  0  0  1 -1]"
      ]
     },
     "execution_count": 19,
     "metadata": {},
     "output_type": "execute_result"
    }
   ],
   "source": [
    "#Graph1.incidence_matrix(oriented=True, edges=[3,7,1,4,6,5,2,7])\n",
    "#Graph1.incidence_matrix(oriented=True, edges=['p1','p2','e1','e2','e3','e4','e5'])\n",
    "Graph1.edges()\n",
    "NalFull=Graph1.incidence_matrix(oriented=True, edges=\n",
    "                        [(2, 1, 'p1'), (4, 3, 'p2'), (1, 3, 'e1'),  (2, 3, 'e2'), (4, 1, 'e3'), (2, 4, 'e4'), (1, 5, 'e5'),  (5, 3, 'e6')])\n",
    "NalFull"
   ]
  },
  {
   "cell_type": "code",
   "execution_count": 20,
   "id": "46d2e174",
   "metadata": {},
   "outputs": [
    {
     "data": {
      "text/plain": [
       "[ 1  0 -1  0  1  0 -1  0]\n",
       "[-1  0  0 -1  0 -1  0  0]\n",
       "[ 0  1  1  1  0  0  0  1]\n",
       "[ 0 -1  0  0 -1  1  0  0]"
      ]
     },
     "execution_count": 20,
     "metadata": {},
     "output_type": "execute_result"
    }
   ],
   "source": [
    "Nal=NalFull.delete_rows([4])\n",
    "Nal"
   ]
  },
  {
   "cell_type": "code",
   "execution_count": 21,
   "id": "f296a613",
   "metadata": {},
   "outputs": [],
   "source": [
    "NbePe = matrix([\n",
    "    [0,  0,  -1,  0,  0,  0, 1, 1],\n",
    "    [-1,  0, -1,  1,  0,  0, 0, 0],\n",
    "    [-1, +1, -1,  0,  0, +1, 0, 0],\n",
    "    [0,  -1, +1,  0, +1,  0, 0, 0]\n",
    "    ])"
   ]
  },
  {
   "cell_type": "code",
   "execution_count": 22,
   "id": "89ea2016",
   "metadata": {},
   "outputs": [
    {
     "data": {
      "text/plain": [
       "[ 0  0 -1  0  0  0  1  1]\n",
       "[-1  0 -1  1  0  0  0  0]\n",
       "[-1  1 -1  0  0  1  0  0]\n",
       "[ 0 -1  1  0  1  0  0  0]"
      ]
     },
     "execution_count": 22,
     "metadata": {},
     "output_type": "execute_result"
    }
   ],
   "source": [
    "NbePe\n"
   ]
  },
  {
   "cell_type": "code",
   "execution_count": 23,
   "id": "916a1ddf",
   "metadata": {},
   "outputs": [
    {
     "data": {
      "text/plain": [
       "[  1   0 -g1   0  g3   0 -g5   0]\n",
       "[ -1   0   0 -g2   0 -g4   0   0]\n",
       "[  0   1  g1  g2   0   0   0  g6]\n",
       "[  0  -1   0   0 -g3  g4   0   0]"
      ]
     },
     "execution_count": 23,
     "metadata": {},
     "output_type": "execute_result"
    }
   ],
   "source": [
    "NalG=Nal*diagonal_matrix([1,1,g1,g2,g3,g4,g5,g6]);NalG"
   ]
  },
  {
   "cell_type": "code",
   "execution_count": 24,
   "id": "d6a58f3f",
   "metadata": {},
   "outputs": [
    {
     "data": {
      "text/plain": [
       "[  0   0 -r1   0   0   0  r5  r6]\n",
       "[ -1   0 -r1  r2   0   0   0   0]\n",
       "[ -1   1 -r1   0   0  r4   0   0]\n",
       "[  0  -1  r1   0  r3   0   0   0]"
      ]
     },
     "execution_count": 24,
     "metadata": {},
     "output_type": "execute_result"
    }
   ],
   "source": [
    "NbePeR=NbePe*diagonal_matrix([1,1,r1,r2,r3,r4,r5,r6]);NbePeR"
   ]
  },
  {
   "cell_type": "code",
   "execution_count": 25,
   "id": "e3abff17",
   "metadata": {},
   "outputs": [
    {
     "name": "stdout",
     "output_type": "stream",
     "text": [
      "r1*g1 - r5*g5\n",
      "0\n",
      "-r1*g1 + r6*g6\n",
      "0\n",
      "r1*g1 - 1\n",
      "-r2*g2 + 1\n",
      "-r1*g1 + r2*g2\n",
      "0\n",
      "r1*g1 - 1\n",
      "-r4*g4 + 1\n",
      "-r1*g1 + 1\n",
      "r4*g4 - 1\n",
      "-r1*g1 + r3*g3\n",
      "0\n",
      "r1*g1 - 1\n",
      "-r3*g3 + 1\n"
     ]
    }
   ],
   "source": [
    "for i in range(0,cr): \n",
    "    for j in range(0,r):\n",
    "        print(NbePeR[i]*NalG[j])\n"
   ]
  },
  {
   "cell_type": "code",
   "execution_count": 26,
   "id": "83f2ba2b",
   "metadata": {},
   "outputs": [
    {
     "data": {
      "text/plain": [
       "[pa1 - g1*e1 + g3*e3 - g5*e5]\n",
       "[       -pa1 - g2*e2 - g4*e4]\n",
       "[pa2 + g1*e1 + g2*e2 + g6*e6]\n",
       "[       -pa2 - g3*e3 + g4*e4]"
      ]
     },
     "execution_count": 26,
     "metadata": {},
     "output_type": "execute_result"
    }
   ],
   "source": [
    "Lal=NalG*(matrix([[pa1,pa2,e1,e2,e3,e4,e5,e6]]).transpose());Lal"
   ]
  },
  {
   "cell_type": "code",
   "execution_count": 27,
   "id": "1749b794",
   "metadata": {},
   "outputs": [
    {
     "data": {
      "text/plain": [
       "[    -r1*e1 + r5*e5 + r6*e6]\n",
       "[      -pb1 - r1*e1 + r2*e2]\n",
       "[-pb1 + pb2 - r1*e1 + r4*e4]\n",
       "[      -pb2 + r1*e1 + r3*e3]"
      ]
     },
     "execution_count": 27,
     "metadata": {},
     "output_type": "execute_result"
    }
   ],
   "source": [
    "Lbe=NbePeR*(matrix([[pb1,pb2,e1,e2,e3,e4,e5,e6]]).transpose());Lbe"
   ]
  },
  {
   "cell_type": "code",
   "execution_count": 28,
   "id": "4a9fd8c8",
   "metadata": {
    "scrolled": false
   },
   "outputs": [
    {
     "data": {
      "text/plain": [
       "{(0, 0): pa1 - g1*e1 + g3*e3 - g5*e5,\n",
       " (1, 0): -pa1 - g2*e2 - g4*e4,\n",
       " (2, 0): pa2 + g1*e1 + g2*e2 + g6*e6,\n",
       " (3, 0): -pa2 - g3*e3 + g4*e4}"
      ]
     },
     "execution_count": 28,
     "metadata": {},
     "output_type": "execute_result"
    }
   ],
   "source": [
    "dictLal=Lal.dict();dictLal"
   ]
  },
  {
   "cell_type": "code",
   "execution_count": 29,
   "id": "1b1269b5",
   "metadata": {},
   "outputs": [
    {
     "data": {
      "text/plain": [
       "{(0, 0): -r1*e1 + r5*e5 + r6*e6,\n",
       " (1, 0): -pb1 - r1*e1 + r2*e2,\n",
       " (2, 0): -pb1 + pb2 - r1*e1 + r4*e4,\n",
       " (3, 0): -pb2 + r1*e1 + r3*e3}"
      ]
     },
     "execution_count": 29,
     "metadata": {},
     "output_type": "execute_result"
    }
   ],
   "source": [
    "dictLbe=Lbe.dict();dictLbe"
   ]
  },
  {
   "cell_type": "code",
   "execution_count": 30,
   "id": "e50a02da",
   "metadata": {
    "scrolled": true
   },
   "outputs": [
    {
     "data": {
      "text/plain": [
       "pa1 - g1*e1 + g3*e3 - g5*e5"
      ]
     },
     "execution_count": 30,
     "metadata": {},
     "output_type": "execute_result"
    }
   ],
   "source": [
    "hack1=dictLal.get((0,0));hack1"
   ]
  },
  {
   "cell_type": "code",
   "execution_count": 31,
   "id": "5a09ec0a",
   "metadata": {
    "scrolled": true
   },
   "outputs": [
    {
     "data": {
      "text/plain": [
       "-pa1 - g2*e2 - g4*e4"
      ]
     },
     "execution_count": 31,
     "metadata": {},
     "output_type": "execute_result"
    }
   ],
   "source": [
    "hack2=dictLal.get((1,0));hack2"
   ]
  },
  {
   "cell_type": "code",
   "execution_count": 32,
   "id": "9e074257",
   "metadata": {},
   "outputs": [
    {
     "data": {
      "text/plain": [
       "-g1*pa1*e1 - g2*pa1*e2 + g3*pa1*e3 - g4*pa1*e4 - g5*pa1*e5 + g1*g2*e1*e2 + g1*g4*e1*e4 + g2*g3*e2*e3 - g2*g5*e2*e5 - g3*g4*e3*e4 - g4*g5*e4*e5"
      ]
     },
     "execution_count": 32,
     "metadata": {},
     "output_type": "execute_result"
    }
   ],
   "source": [
    "hack1*hack2"
   ]
  },
  {
   "cell_type": "code",
   "execution_count": 33,
   "id": "51081039",
   "metadata": {
    "scrolled": false
   },
   "outputs": [
    {
     "name": "stdout",
     "output_type": "stream",
     "text": [
      "0\n",
      "pa1 - g1*e1 + g3*e3 - g5*e5\n",
      "1\n",
      "-pa1 - g2*e2 - g4*e4\n",
      "2\n",
      "pa2 + g1*e1 + g2*e2 + g6*e6\n",
      "3\n",
      "-pa2 - g3*e3 + g4*e4\n",
      "ResAl\n",
      "-g1*g5*pa1*pa2*e1*e5 + g1*g6*pa1*pa2*e1*e6 - g2*g5*pa1*pa2*e2*e5 + g2*g6*pa1*pa2*e2*e6 + g3*g5*pa1*pa2*e3*e5 - g3*g6*pa1*pa2*e3*e6 - g4*g5*pa1*pa2*e4*e5 + g4*g6*pa1*pa2*e4*e6 + g5*g6*pa1*pa2*e5*e6 + g1*g3*g5*pa1*e1*e3*e5 - g1*g3*g6*pa1*e1*e3*e6 - g1*g4*g5*pa1*e1*e4*e5 + g1*g4*g6*pa1*e1*e4*e6 + g2*g3*g5*pa1*e2*e3*e5 - g2*g3*g6*pa1*e2*e3*e6 - g2*g4*g5*pa1*e2*e4*e5 + g2*g4*g6*pa1*e2*e4*e6 + g3*g5*g6*pa1*e3*e5*e6 - g4*g5*g6*pa1*e4*e5*e6 - g1*g2*g5*pa2*e1*e2*e5 + g1*g2*g6*pa2*e1*e2*e6 - g1*g4*g5*pa2*e1*e4*e5 + g1*g4*g6*pa2*e1*e4*e6 - g2*g3*g5*pa2*e2*e3*e5 + g2*g3*g6*pa2*e2*e3*e6 - g2*g5*g6*pa2*e2*e5*e6 + g3*g4*g5*pa2*e3*e4*e5 - g3*g4*g6*pa2*e3*e4*e6 - g4*g5*g6*pa2*e4*e5*e6 - g1*g2*g3*g5*e1*e2*e3*e5 + g1*g2*g3*g6*e1*e2*e3*e6 + g1*g2*g4*g5*e1*e2*e4*e5 - g1*g2*g4*g6*e1*e2*e4*e6 + g1*g3*g4*g5*e1*e3*e4*e5 - g1*g3*g4*g6*e1*e3*e4*e6 + g2*g3*g4*g5*e2*e3*e4*e5 - g2*g3*g4*g6*e2*e3*e4*e6 + g2*g3*g5*g6*e2*e3*e5*e6 - g2*g4*g5*g6*e2*e4*e5*e6 - g3*g4*g5*g6*e3*e4*e5*e6\n",
      "0\n",
      "-r1*e1 + r5*e5 + r6*e6\n",
      " \n",
      "1\n",
      "-pb1 - r1*e1 + r2*e2\n",
      " \n",
      "2\n",
      "-pb1 + pb2 - r1*e1 + r4*e4\n",
      " \n",
      "3\n",
      "-pb2 + r1*e1 + r3*e3\n",
      " \n",
      "ResBe\n",
      "-r1*r2*pb1*pb2*e1*e2 + r1*r3*pb1*pb2*e1*e3 + r1*r4*pb1*pb2*e1*e4 + r1*r5*pb1*pb2*e1*e5 + r1*r6*pb1*pb2*e1*e6 - r2*r5*pb1*pb2*e2*e5 - r2*r6*pb1*pb2*e2*e6 + r3*r5*pb1*pb2*e3*e5 + r3*r6*pb1*pb2*e3*e6 + r4*r5*pb1*pb2*e4*e5 + r4*r6*pb1*pb2*e4*e6 + r1*r2*r3*pb1*e1*e2*e3 + r1*r2*r5*pb1*e1*e2*e5 + r1*r2*r6*pb1*e1*e2*e6 + r1*r3*r4*pb1*e1*e3*e4 - r1*r4*r5*pb1*e1*e4*e5 - r1*r4*r6*pb1*e1*e4*e6 - r2*r3*r5*pb1*e2*e3*e5 - r2*r3*r6*pb1*e2*e3*e6 - r3*r4*r5*pb1*e3*e4*e5 - r3*r4*r6*pb1*e3*e4*e6 - r1*r2*r3*pb2*e1*e2*e3 - r1*r2*r4*pb2*e1*e2*e4 - r1*r3*r5*pb2*e1*e3*e5 - r1*r3*r6*pb2*e1*e3*e6 - r1*r4*r5*pb2*e1*e4*e5 - r1*r4*r6*pb2*e1*e4*e6 + r2*r3*r5*pb2*e2*e3*e5 + r2*r3*r6*pb2*e2*e3*e6 + r2*r4*r5*pb2*e2*e4*e5 + r2*r4*r6*pb2*e2*e4*e6 + r1*r2*r3*r4*e1*e2*e3*e4 - r1*r2*r3*r5*e1*e2*e3*e5 - r1*r2*r3*r6*e1*e2*e3*e6 - r1*r2*r4*r5*e1*e2*e4*e5 - r1*r2*r4*r6*e1*e2*e4*e6 - r1*r3*r4*r5*e1*e3*e4*e5 - r1*r3*r4*r6*e1*e3*e4*e6 + r2*r3*r4*r5*e2*e3*e4*e5 + r2*r3*r4*r6*e2*e3*e4*e6\n",
      "final result\n",
      "(r1*r3*g2*g5 - r1*r2*g3*g5)*pa1*pa2*pb1*pb2*e1*e2*e3*e5 + (-r1*r3*g2*g6 + r1*r2*g3*g6)*pa1*pa2*pb1*pb2*e1*e2*e3*e6 + (r1*r4*g2*g5 + r1*r2*g4*g5)*pa1*pa2*pb1*pb2*e1*e2*e4*e5 + (-r1*r4*g2*g6 - r1*r2*g4*g6)*pa1*pa2*pb1*pb2*e1*e2*e4*e6 + (-r2*r6*g1*g5 - r1*r6*g2*g5 - r2*r5*g1*g6 - r1*r5*g2*g6 - r1*r2*g5*g6)*pa1*pa2*pb1*pb2*e1*e2*e5*e6 + (-r1*r4*g3*g5 - r1*r3*g4*g5)*pa1*pa2*pb1*pb2*e1*e3*e4*e5 + (r1*r4*g3*g6 + r1*r3*g4*g6)*pa1*pa2*pb1*pb2*e1*e3*e4*e6 + (r3*r6*g1*g5 + r1*r6*g3*g5 + r3*r5*g1*g6 + r1*r5*g3*g6 + r1*r3*g5*g6)*pa1*pa2*pb1*pb2*e1*e3*e5*e6 + (r4*r6*g1*g5 - r1*r6*g4*g5 + r4*r5*g1*g6 - r1*r5*g4*g6 + r1*r4*g5*g6)*pa1*pa2*pb1*pb2*e1*e4*e5*e6 + (r3*r6*g2*g5 - r2*r6*g3*g5 + r3*r5*g2*g6 - r2*r5*g3*g6)*pa1*pa2*pb1*pb2*e2*e3*e5*e6 + (r4*r6*g2*g5 + r2*r6*g4*g5 + r4*r5*g2*g6 + r2*r5*g4*g6)*pa1*pa2*pb1*pb2*e2*e4*e5*e6 + (-r4*r6*g3*g5 - r3*r6*g4*g5 - r4*r5*g3*g6 - r3*r5*g4*g6)*pa1*pa2*pb1*pb2*e3*e4*e5*e6 + (-r1*r3*r4*g2*g5 - r1*r2*r3*g4*g5)*pa1*pa2*pb1*e1*e2*e3*e4*e5 + (r1*r3*r4*g2*g6 + r1*r2*r3*g4*g6)*pa1*pa2*pb1*e1*e2*e3*e4*e6 + (r2*r3*r6*g1*g5 + r1*r2*r6*g3*g5 + r2*r3*r5*g1*g6 + r1*r2*r5*g3*g6 + r1*r2*r3*g5*g6)*pa1*pa2*pb1*e1*e2*e3*e5*e6 + (-r1*r4*r6*g2*g5 - r1*r2*r6*g4*g5 - r1*r4*r5*g2*g6 - r1*r2*r5*g4*g6)*pa1*pa2*pb1*e1*e2*e4*e5*e6 + (r3*r4*r6*g1*g5 + r1*r4*r6*g3*g5 + r3*r4*r5*g1*g6 + r1*r4*r5*g3*g6 + r1*r3*r4*g5*g6)*pa1*pa2*pb1*e1*e3*e4*e5*e6 + (r3*r4*r6*g2*g5 + r2*r3*r6*g4*g5 + r3*r4*r5*g2*g6 + r2*r3*r5*g4*g6)*pa1*pa2*pb1*e2*e3*e4*e5*e6 + (r1*r2*r4*g3*g5 + r1*r2*r3*g4*g5)*pa1*pa2*pb2*e1*e2*e3*e4*e5 + (-r1*r2*r4*g3*g6 - r1*r2*r3*g4*g6)*pa1*pa2*pb2*e1*e2*e3*e4*e6 + (-r2*r3*r6*g1*g5 - r1*r3*r6*g2*g5 - r2*r3*r5*g1*g6 - r1*r3*r5*g2*g6 - r1*r2*r3*g5*g6)*pa1*pa2*pb2*e1*e2*e3*e5*e6 + (-r2*r4*r6*g1*g5 - r1*r4*r6*g2*g5 - r2*r4*r5*g1*g6 - r1*r4*r5*g2*g6 - r1*r2*r4*g5*g6)*pa1*pa2*pb2*e1*e2*e4*e5*e6 + (r1*r4*r6*g3*g5 + r1*r3*r6*g4*g5 + r1*r4*r5*g3*g6 + r1*r3*r5*g4*g6)*pa1*pa2*pb2*e1*e3*e4*e5*e6 + (-r2*r4*r6*g3*g5 - r2*r3*r6*g4*g5 - r2*r4*r5*g3*g6 - r2*r3*r5*g4*g6)*pa1*pa2*pb2*e2*e3*e4*e5*e6 + (r2*r3*r4*r6*g1*g5 + r1*r3*r4*r6*g2*g5 + r1*r2*r4*r6*g3*g5 + r1*r2*r3*r6*g4*g5 + r2*r3*r4*r5*g1*g6 + r1*r3*r4*r5*g2*g6 + r1*r2*r4*r5*g3*g6 + r1*r2*r3*r5*g4*g6 + r1*r2*r3*r4*g5*g6)*pa1*pa2*e1*e2*e3*e4*e5*e6 + (r1*r4*g2*g3*g5 + r1*r3*g2*g4*g5)*pa1*pb1*pb2*e1*e2*e3*e4*e5 + (-r1*r4*g2*g3*g6 - r1*r3*g2*g4*g6)*pa1*pb1*pb2*e1*e2*e3*e4*e6 + (-r2*r6*g1*g3*g5 - r1*r6*g2*g3*g5 - r2*r5*g1*g3*g6 - r1*r5*g2*g3*g6 - r1*r2*g3*g5*g6)*pa1*pb1*pb2*e1*e2*e3*e5*e6 + (r2*r6*g1*g4*g5 + r1*r6*g2*g4*g5 + r2*r5*g1*g4*g6 + r1*r5*g2*g4*g6 + r1*r2*g4*g5*g6)*pa1*pb1*pb2*e1*e2*e4*e5*e6 + (-r4*r6*g1*g3*g5 - r3*r6*g1*g4*g5 - r4*r5*g1*g3*g6 - r3*r5*g1*g4*g6 - r1*r4*g3*g5*g6 - r1*r3*g4*g5*g6)*pa1*pb1*pb2*e1*e3*e4*e5*e6 + (-r4*r6*g2*g3*g5 - r3*r6*g2*g4*g5 - r4*r5*g2*g3*g6 - r3*r5*g2*g4*g6)*pa1*pb1*pb2*e2*e3*e4*e5*e6 + (r1*r4*r6*g2*g3*g5 - r2*r3*r6*g1*g4*g5 + r1*r4*r5*g2*g3*g6 - r2*r3*r5*g1*g4*g6 - r1*r2*r3*g4*g5*g6)*pa1*pb1*e1*e2*e3*e4*e5*e6 + (r2*r4*r6*g1*g3*g5 + r1*r4*r6*g2*g3*g5 + r2*r3*r6*g1*g4*g5 + r1*r3*r6*g2*g4*g5 + r2*r4*r5*g1*g3*g6 + r1*r4*r5*g2*g3*g6 + r2*r3*r5*g1*g4*g6 + r1*r3*r5*g2*g4*g6 + r1*r2*r4*g3*g5*g6 + r1*r2*r3*g4*g5*g6)*pa1*pb2*e1*e2*e3*e4*e5*e6 + (-r1*r4*g2*g3*g5 - r1*r2*g3*g4*g5)*pa2*pb1*pb2*e1*e2*e3*e4*e5 + (r1*r4*g2*g3*g6 + r1*r2*g3*g4*g6)*pa2*pb1*pb2*e1*e2*e3*e4*e6 + (r3*r6*g1*g2*g5 + r1*r6*g2*g3*g5 + r3*r5*g1*g2*g6 + r1*r5*g2*g3*g6 + r1*r3*g2*g5*g6)*pa2*pb1*pb2*e1*e2*e3*e5*e6 + (r4*r6*g1*g2*g5 + r2*r6*g1*g4*g5 + r4*r5*g1*g2*g6 + r2*r5*g1*g4*g6 + r1*r4*g2*g5*g6 + r1*r2*g4*g5*g6)*pa2*pb1*pb2*e1*e2*e4*e5*e6 + (-r3*r6*g1*g4*g5 - r1*r6*g3*g4*g5 - r3*r5*g1*g4*g6 - r1*r5*g3*g4*g6 - r1*r3*g4*g5*g6)*pa2*pb1*pb2*e1*e3*e4*e5*e6 + (r4*r6*g2*g3*g5 + r2*r6*g3*g4*g5 + r4*r5*g2*g3*g6 + r2*r5*g3*g4*g6)*pa2*pb1*pb2*e2*e3*e4*e5*e6 + (-r3*r4*r6*g1*g2*g5 - r1*r4*r6*g2*g3*g5 - r2*r3*r6*g1*g4*g5 - r1*r2*r6*g3*g4*g5 - r3*r4*r5*g1*g2*g6 - r1*r4*r5*g2*g3*g6 - r2*r3*r5*g1*g4*g6 - r1*r2*r5*g3*g4*g6 - r1*r3*r4*g2*g5*g6 - r1*r2*r3*g4*g5*g6)*pa2*pb1*e1*e2*e3*e4*e5*e6 + (-r1*r4*r6*g2*g3*g5 + r2*r3*r6*g1*g4*g5 - r1*r4*r5*g2*g3*g6 + r2*r3*r5*g1*g4*g6 + r1*r2*r3*g4*g5*g6)*pa2*pb2*e1*e2*e3*e4*e5*e6 + (r4*r6*g1*g2*g3*g5 + r3*r6*g1*g2*g4*g5 + r2*r6*g1*g3*g4*g5 + r1*r6*g2*g3*g4*g5 + r4*r5*g1*g2*g3*g6 + r3*r5*g1*g2*g4*g6 + r2*r5*g1*g3*g4*g6 + r1*r5*g2*g3*g4*g6 + r1*r4*g2*g3*g5*g6 + r1*r3*g2*g4*g5*g6 + r1*r2*g3*g4*g5*g6)*pb1*pb2*e1*e2*e3*e4*e5*e6\n",
      "\n",
      " Res list:\n",
      "\n"
     ]
    },
    {
     "data": {
      "text/plain": [
       "[((2, 3, 4, 5, 6, 7, 8, 10), r1*r3*g2*g5 - r1*r2*g3*g5),\n",
       " ((2, 3, 4, 5, 6, 7, 8, 11), -r1*r3*g2*g6 + r1*r2*g3*g6),\n",
       " ((2, 3, 4, 5, 6, 7, 9, 10), r1*r4*g2*g5 + r1*r2*g4*g5),\n",
       " ((2, 3, 4, 5, 6, 7, 9, 11), -r1*r4*g2*g6 - r1*r2*g4*g6),\n",
       " ((2, 3, 4, 5, 6, 7, 10, 11),\n",
       "  -r2*r6*g1*g5 - r1*r6*g2*g5 - r2*r5*g1*g6 - r1*r5*g2*g6 - r1*r2*g5*g6),\n",
       " ((2, 3, 4, 5, 6, 8, 9, 10), -r1*r4*g3*g5 - r1*r3*g4*g5),\n",
       " ((2, 3, 4, 5, 6, 8, 9, 11), r1*r4*g3*g6 + r1*r3*g4*g6),\n",
       " ((2, 3, 4, 5, 6, 8, 10, 11),\n",
       "  r3*r6*g1*g5 + r1*r6*g3*g5 + r3*r5*g1*g6 + r1*r5*g3*g6 + r1*r3*g5*g6),\n",
       " ((2, 3, 4, 5, 6, 9, 10, 11),\n",
       "  r4*r6*g1*g5 - r1*r6*g4*g5 + r4*r5*g1*g6 - r1*r5*g4*g6 + r1*r4*g5*g6),\n",
       " ((2, 3, 4, 5, 7, 8, 10, 11),\n",
       "  r3*r6*g2*g5 - r2*r6*g3*g5 + r3*r5*g2*g6 - r2*r5*g3*g6),\n",
       " ((2, 3, 4, 5, 7, 9, 10, 11),\n",
       "  r4*r6*g2*g5 + r2*r6*g4*g5 + r4*r5*g2*g6 + r2*r5*g4*g6),\n",
       " ((2, 3, 4, 5, 8, 9, 10, 11),\n",
       "  -r4*r6*g3*g5 - r3*r6*g4*g5 - r4*r5*g3*g6 - r3*r5*g4*g6),\n",
       " ((2, 3, 4, 6, 7, 8, 9, 10), -r1*r3*r4*g2*g5 - r1*r2*r3*g4*g5),\n",
       " ((2, 3, 4, 6, 7, 8, 9, 11), r1*r3*r4*g2*g6 + r1*r2*r3*g4*g6),\n",
       " ((2, 3, 4, 6, 7, 8, 10, 11),\n",
       "  r2*r3*r6*g1*g5 + r1*r2*r6*g3*g5 + r2*r3*r5*g1*g6 + r1*r2*r5*g3*g6 + r1*r2*r3*g5*g6),\n",
       " ((2, 3, 4, 6, 7, 9, 10, 11),\n",
       "  -r1*r4*r6*g2*g5 - r1*r2*r6*g4*g5 - r1*r4*r5*g2*g6 - r1*r2*r5*g4*g6),\n",
       " ((2, 3, 4, 6, 8, 9, 10, 11),\n",
       "  r3*r4*r6*g1*g5 + r1*r4*r6*g3*g5 + r3*r4*r5*g1*g6 + r1*r4*r5*g3*g6 + r1*r3*r4*g5*g6),\n",
       " ((2, 3, 4, 7, 8, 9, 10, 11),\n",
       "  r3*r4*r6*g2*g5 + r2*r3*r6*g4*g5 + r3*r4*r5*g2*g6 + r2*r3*r5*g4*g6),\n",
       " ((2, 3, 5, 6, 7, 8, 9, 10), r1*r2*r4*g3*g5 + r1*r2*r3*g4*g5),\n",
       " ((2, 3, 5, 6, 7, 8, 9, 11), -r1*r2*r4*g3*g6 - r1*r2*r3*g4*g6),\n",
       " ((2, 3, 5, 6, 7, 8, 10, 11),\n",
       "  -r2*r3*r6*g1*g5 - r1*r3*r6*g2*g5 - r2*r3*r5*g1*g6 - r1*r3*r5*g2*g6 - r1*r2*r3*g5*g6),\n",
       " ((2, 3, 5, 6, 7, 9, 10, 11),\n",
       "  -r2*r4*r6*g1*g5 - r1*r4*r6*g2*g5 - r2*r4*r5*g1*g6 - r1*r4*r5*g2*g6 - r1*r2*r4*g5*g6),\n",
       " ((2, 3, 5, 6, 8, 9, 10, 11),\n",
       "  r1*r4*r6*g3*g5 + r1*r3*r6*g4*g5 + r1*r4*r5*g3*g6 + r1*r3*r5*g4*g6),\n",
       " ((2, 3, 5, 7, 8, 9, 10, 11),\n",
       "  -r2*r4*r6*g3*g5 - r2*r3*r6*g4*g5 - r2*r4*r5*g3*g6 - r2*r3*r5*g4*g6),\n",
       " ((2, 3, 6, 7, 8, 9, 10, 11),\n",
       "  r2*r3*r4*r6*g1*g5 + r1*r3*r4*r6*g2*g5 + r1*r2*r4*r6*g3*g5 + r1*r2*r3*r6*g4*g5 + r2*r3*r4*r5*g1*g6 + r1*r3*r4*r5*g2*g6 + r1*r2*r4*r5*g3*g6 + r1*r2*r3*r5*g4*g6 + r1*r2*r3*r4*g5*g6),\n",
       " ((2, 4, 5, 6, 7, 8, 9, 10), r1*r4*g2*g3*g5 + r1*r3*g2*g4*g5),\n",
       " ((2, 4, 5, 6, 7, 8, 9, 11), -r1*r4*g2*g3*g6 - r1*r3*g2*g4*g6),\n",
       " ((2, 4, 5, 6, 7, 8, 10, 11),\n",
       "  -r2*r6*g1*g3*g5 - r1*r6*g2*g3*g5 - r2*r5*g1*g3*g6 - r1*r5*g2*g3*g6 - r1*r2*g3*g5*g6),\n",
       " ((2, 4, 5, 6, 7, 9, 10, 11),\n",
       "  r2*r6*g1*g4*g5 + r1*r6*g2*g4*g5 + r2*r5*g1*g4*g6 + r1*r5*g2*g4*g6 + r1*r2*g4*g5*g6),\n",
       " ((2, 4, 5, 6, 8, 9, 10, 11),\n",
       "  -r4*r6*g1*g3*g5 - r3*r6*g1*g4*g5 - r4*r5*g1*g3*g6 - r3*r5*g1*g4*g6 - r1*r4*g3*g5*g6 - r1*r3*g4*g5*g6),\n",
       " ((2, 4, 5, 7, 8, 9, 10, 11),\n",
       "  -r4*r6*g2*g3*g5 - r3*r6*g2*g4*g5 - r4*r5*g2*g3*g6 - r3*r5*g2*g4*g6),\n",
       " ((2, 4, 6, 7, 8, 9, 10, 11),\n",
       "  r1*r4*r6*g2*g3*g5 - r2*r3*r6*g1*g4*g5 + r1*r4*r5*g2*g3*g6 - r2*r3*r5*g1*g4*g6 - r1*r2*r3*g4*g5*g6),\n",
       " ((2, 5, 6, 7, 8, 9, 10, 11),\n",
       "  r2*r4*r6*g1*g3*g5 + r1*r4*r6*g2*g3*g5 + r2*r3*r6*g1*g4*g5 + r1*r3*r6*g2*g4*g5 + r2*r4*r5*g1*g3*g6 + r1*r4*r5*g2*g3*g6 + r2*r3*r5*g1*g4*g6 + r1*r3*r5*g2*g4*g6 + r1*r2*r4*g3*g5*g6 + r1*r2*r3*g4*g5*g6),\n",
       " ((3, 4, 5, 6, 7, 8, 9, 10), -r1*r4*g2*g3*g5 - r1*r2*g3*g4*g5),\n",
       " ((3, 4, 5, 6, 7, 8, 9, 11), r1*r4*g2*g3*g6 + r1*r2*g3*g4*g6),\n",
       " ((3, 4, 5, 6, 7, 8, 10, 11),\n",
       "  r3*r6*g1*g2*g5 + r1*r6*g2*g3*g5 + r3*r5*g1*g2*g6 + r1*r5*g2*g3*g6 + r1*r3*g2*g5*g6),\n",
       " ((3, 4, 5, 6, 7, 9, 10, 11),\n",
       "  r4*r6*g1*g2*g5 + r2*r6*g1*g4*g5 + r4*r5*g1*g2*g6 + r2*r5*g1*g4*g6 + r1*r4*g2*g5*g6 + r1*r2*g4*g5*g6),\n",
       " ((3, 4, 5, 6, 8, 9, 10, 11),\n",
       "  -r3*r6*g1*g4*g5 - r1*r6*g3*g4*g5 - r3*r5*g1*g4*g6 - r1*r5*g3*g4*g6 - r1*r3*g4*g5*g6),\n",
       " ((3, 4, 5, 7, 8, 9, 10, 11),\n",
       "  r4*r6*g2*g3*g5 + r2*r6*g3*g4*g5 + r4*r5*g2*g3*g6 + r2*r5*g3*g4*g6),\n",
       " ((3, 4, 6, 7, 8, 9, 10, 11),\n",
       "  -r3*r4*r6*g1*g2*g5 - r1*r4*r6*g2*g3*g5 - r2*r3*r6*g1*g4*g5 - r1*r2*r6*g3*g4*g5 - r3*r4*r5*g1*g2*g6 - r1*r4*r5*g2*g3*g6 - r2*r3*r5*g1*g4*g6 - r1*r2*r5*g3*g4*g6 - r1*r3*r4*g2*g5*g6 - r1*r2*r3*g4*g5*g6),\n",
       " ((3, 5, 6, 7, 8, 9, 10, 11),\n",
       "  -r1*r4*r6*g2*g3*g5 + r2*r3*r6*g1*g4*g5 - r1*r4*r5*g2*g3*g6 + r2*r3*r5*g1*g4*g6 + r1*r2*r3*g4*g5*g6),\n",
       " ((4, 5, 6, 7, 8, 9, 10, 11),\n",
       "  r4*r6*g1*g2*g3*g5 + r3*r6*g1*g2*g4*g5 + r2*r6*g1*g3*g4*g5 + r1*r6*g2*g3*g4*g5 + r4*r5*g1*g2*g3*g6 + r3*r5*g1*g2*g4*g6 + r2*r5*g1*g3*g4*g6 + r1*r5*g2*g3*g4*g6 + r1*r4*g2*g3*g5*g6 + r1*r3*g2*g4*g5*g6 + r1*r2*g3*g4*g5*g6)]"
      ]
     },
     "execution_count": 33,
     "metadata": {},
     "output_type": "execute_result"
    }
   ],
   "source": [
    "ResAl=1\n",
    "for i in range(0,r):\n",
    "    print(i)\n",
    "    print(dictLal.get((i,0)))\n",
    "    ResAl=ResAl*(dictLal.get((i,0)))\n",
    "print(\"ResAl\")\n",
    "print(ResAl)\n",
    "ResBe=1\n",
    "for i in range(0,cr):\n",
    "    print(i)\n",
    "    print(dictLbe.get((i,0)))\n",
    "    print(\" \")\n",
    "    ResBe=ResBe*(dictLbe.get((i,0)))\n",
    "print(\"ResBe\")\n",
    "print(ResBe)\n",
    "Res=ResAl*ResBe\n",
    "print(\"final result\")\n",
    "print(Res)\n",
    "Reslist=Res.list()\n",
    "print(\"\\n Res list:\\n\")\n",
    "Reslist\n"
   ]
  },
  {
   "cell_type": "code",
   "execution_count": 34,
   "id": "bd2df104",
   "metadata": {},
   "outputs": [
    {
     "data": {
      "text/plain": [
       "(-r3*r4*r6*g1*g2*g5 - r1*r4*r6*g2*g3*g5 - r2*r3*r6*g1*g4*g5 - r1*r2*r6*g3*g4*g5 - r3*r4*r5*g1*g2*g6 - r1*r4*r5*g2*g3*g6 - r2*r3*r5*g1*g4*g6 - r1*r2*r5*g3*g4*g6 - r1*r3*r4*g2*g5*g6 - r1*r2*r3*g4*g5*g6)*pa2*pb1*e1*e2*e3*e4*e5*e6 + (-r1*r4*r6*g2*g3*g5 + r2*r3*r6*g1*g4*g5 - r1*r4*r5*g2*g3*g6 + r2*r3*r5*g1*g4*g6 + r1*r2*r3*g4*g5*g6)*pa2*pb2*e1*e2*e3*e4*e5*e6 + (r4*r6*g1*g2*g3*g5 + r3*r6*g1*g2*g4*g5 + r2*r6*g1*g3*g4*g5 + r1*r6*g2*g3*g4*g5 + r4*r5*g1*g2*g3*g6 + r3*r5*g1*g2*g4*g6 + r2*r5*g1*g3*g4*g6 + r1*r5*g2*g3*g4*g6 + r1*r4*g2*g3*g5*g6 + r1*r3*g2*g4*g5*g6 + r1*r2*g3*g4*g5*g6)*pb1*pb2*e1*e2*e3*e4*e5*e6"
      ]
     },
     "execution_count": 34,
     "metadata": {},
     "output_type": "execute_result"
    }
   ],
   "source": [
    "(-r3*r4*r6*g1*g2*g5 - r1*r4*r6*g2*g3*g5 - r2*r3*r6*g1*g4*g5 - r1*r2*r6*g3*g4*g5 - r3*r4*r5*g1*g2*g6 - r1*r4*r5*g2*g3*g6 - r2*r3*r5*g1*g4*g6 - r1*r2*r5*g3*g4*g6 - r1*r3*r4*g2*g5*g6 - r1*r2*r3*g4*g5*g6)*pa2*pb1*e1*e2*e3*e4*e5*e6 + (-r1*r4*r6*g2*g3*g5 + r2*r3*r6*g1*g4*g5 - r1*r4*r5*g2*g3*g6 + r2*r3*r5*g1*g4*g6 + r1*r2*r3*g4*g5*g6)*pa2*pb2*e1*e2*e3*e4*e5*e6 + (r4*r6*g1*g2*g3*g5 + r3*r6*g1*g2*g4*g5 + r2*r6*g1*g3*g4*g5 + r1*r6*g2*g3*g4*g5 + r4*r5*g1*g2*g3*g6 + r3*r5*g1*g2*g4*g6 + r2*r5*g1*g3*g4*g6 + r1*r5*g2*g3*g4*g6 + r1*r4*g2*g3*g5*g6 + r1*r3*g2*g4*g5*g6 + r1*r2*g3*g4*g5*g6)*pb1*pb2*e1*e2*e3*e4*e5*e6\n",
    "\n"
   ]
  },
  {
   "cell_type": "code",
   "execution_count": 35,
   "id": "ff663589",
   "metadata": {},
   "outputs": [
    {
     "data": {
      "text/plain": [
       "(-r3*r4*r6*g1*g2*g5 - r1*r4*r6*g2*g3*g5 - r2*r3*r6*g1*g4*g5 - r1*r2*r6*g3*g4*g5 - r3*r4*r5*g1*g2*g6 - r1*r4*r5*g2*g3*g6 - r2*r3*r5*g1*g4*g6 - r1*r2*r5*g3*g4*g6 - r1*r3*r4*g2*g5*g6 - r1*r2*r3*g4*g5*g6)*pa2*pb1"
      ]
     },
     "execution_count": 35,
     "metadata": {},
     "output_type": "execute_result"
    }
   ],
   "source": [
    "(-r3*r4*r6*g1*g2*g5 - r1*r4*r6*g2*g3*g5 - r2*r3*r6*g1*g4*g5 - r1*r2*r6*g3*g4*g5 - r3*r4*r5*g1*g2*g6 - r1*r4*r5*g2*g3*g6 - r2*r3*r5*g1*g4*g6 - r1*r2*r5*g3*g4*g6 - r1*r3*r4*g2*g5*g6 - r1*r2*r3*g4*g5*g6)*pa2*pb1"
   ]
  },
  {
   "cell_type": "code",
   "execution_count": 36,
   "id": "bb84f01e",
   "metadata": {},
   "outputs": [
    {
     "data": {
      "text/plain": [
       "(-r1*r4*r6*g2*g3*g5 + r2*r3*r6*g1*g4*g5 - r1*r4*r5*g2*g3*g6 + r2*r3*r5*g1*g4*g6 + r1*r2*r3*g4*g5*g6)*pa2*pb2"
      ]
     },
     "execution_count": 36,
     "metadata": {},
     "output_type": "execute_result"
    }
   ],
   "source": [
    "(-r1*r4*r6*g2*g3*g5 + r2*r3*r6*g1*g4*g5 - r1*r4*r5*g2*g3*g6 + r2*r3*r5*g1*g4*g6 + r1*r2*r3*g4*g5*g6)*pa2*pb2\n"
   ]
  },
  {
   "cell_type": "code",
   "execution_count": 37,
   "id": "8ecf043b",
   "metadata": {},
   "outputs": [
    {
     "data": {
      "text/plain": [
       "(r4*r6*g1*g2*g3*g5 + r3*r6*g1*g2*g4*g5 + r2*r6*g1*g3*g4*g5 + r1*r6*g2*g3*g4*g5 + r4*r5*g1*g2*g3*g6 + r3*r5*g1*g2*g4*g6 + r2*r5*g1*g3*g4*g6 + r1*r5*g2*g3*g4*g6 + r1*r4*g2*g3*g5*g6 + r1*r3*g2*g4*g5*g6 + r1*r2*g3*g4*g5*g6)*pb1*pb2"
      ]
     },
     "execution_count": 37,
     "metadata": {},
     "output_type": "execute_result"
    }
   ],
   "source": [
    "(r4*r6*g1*g2*g3*g5 + r3*r6*g1*g2*g4*g5 + r2*r6*g1*g3*g4*g5 + r1*r6*g2*g3*g4*g5 + r4*r5*g1*g2*g3*g6 + r3*r5*g1*g2*g4*g6 + r2*r5*g1*g3*g4*g6 + r1*r5*g2*g3*g4*g6 + r1*r4*g2*g3*g5*g6 + r1*r3*g2*g4*g5*g6 + r1*r2*g3*g4*g5*g6)*pb1*pb2\n"
   ]
  },
  {
   "cell_type": "code",
   "execution_count": 38,
   "id": "4f31eb41",
   "metadata": {},
   "outputs": [
    {
     "data": {
      "text/plain": [
       "<class 'sage.algebras.clifford_algebra.ExteriorAlgebra_with_category.element_class'>"
      ]
     },
     "execution_count": 38,
     "metadata": {},
     "output_type": "execute_result"
    }
   ],
   "source": [
    "type(Res)"
   ]
  },
  {
   "cell_type": "code",
   "execution_count": null,
   "id": "d086ac94",
   "metadata": {},
   "outputs": [],
   "source": []
  },
  {
   "cell_type": "code",
   "execution_count": 39,
   "id": "6e88b652",
   "metadata": {},
   "outputs": [
    {
     "data": {
      "text/plain": [
       "<class 'list'>"
      ]
     },
     "execution_count": 39,
     "metadata": {},
     "output_type": "execute_result"
    }
   ],
   "source": [
    "type(Reslist)"
   ]
  },
  {
   "cell_type": "code",
   "execution_count": 40,
   "id": "60bcf955",
   "metadata": {},
   "outputs": [
    {
     "data": {
      "text/plain": [
       "((2, 3, 4, 5, 6, 7, 8, 10), r1*r3*g2*g5 - r1*r2*g3*g5)"
      ]
     },
     "execution_count": 40,
     "metadata": {},
     "output_type": "execute_result"
    }
   ],
   "source": [
    "Reslist[0]"
   ]
  },
  {
   "cell_type": "code",
   "execution_count": 41,
   "id": "6763beaa",
   "metadata": {},
   "outputs": [
    {
     "data": {
      "text/plain": [
       "(4, 5, 6, 7, 8, 10)"
      ]
     },
     "execution_count": 41,
     "metadata": {},
     "output_type": "execute_result"
    }
   ],
   "source": [
    "Reslist[0][0][2:8]"
   ]
  },
  {
   "cell_type": "code",
   "execution_count": 42,
   "id": "6325a37c",
   "metadata": {
    "scrolled": true
   },
   "outputs": [
    {
     "data": {
      "text/plain": [
       "True"
      ]
     },
     "execution_count": 42,
     "metadata": {},
     "output_type": "execute_result"
    }
   ],
   "source": [
    "Reslist[0][0][2:8] == (4,5,6,7,8,10)"
   ]
  },
  {
   "cell_type": "code",
   "execution_count": 43,
   "id": "6976b384",
   "metadata": {},
   "outputs": [
    {
     "data": {
      "text/plain": [
       "(4, 5, 6, 7, 8, 9, 10)"
      ]
     },
     "execution_count": 43,
     "metadata": {},
     "output_type": "execute_result"
    }
   ],
   "source": [
    "tuple(range(4,11))"
   ]
  },
  {
   "cell_type": "code",
   "execution_count": 44,
   "id": "c9670bc4",
   "metadata": {
    "scrolled": true
   },
   "outputs": [
    {
     "data": {
      "text/plain": [
       "False"
      ]
     },
     "execution_count": 44,
     "metadata": {},
     "output_type": "execute_result"
    }
   ],
   "source": [
    "Reslist[0][0][2:8] == tuple(range(4,11))"
   ]
  },
  {
   "cell_type": "code",
   "execution_count": 45,
   "id": "0557fb46",
   "metadata": {},
   "outputs": [
    {
     "data": {
      "text/plain": [
       "(4, 5, 6, 7, 8, 9, 10)"
      ]
     },
     "execution_count": 45,
     "metadata": {},
     "output_type": "execute_result"
    }
   ],
   "source": [
    "tuple(range(4,11))"
   ]
  },
  {
   "cell_type": "code",
   "execution_count": 46,
   "id": "9afa7eaf",
   "metadata": {},
   "outputs": [
    {
     "name": "stdout",
     "output_type": "stream",
     "text": [
      " \n",
      "Monomial: pa1*pa2\n",
      "Coef: r2*r3*r4*r6*g1*g5 + r1*r3*r4*r6*g2*g5 + r1*r2*r4*r6*g3*g5 + r1*r2*r3*r6*g4*g5 + r2*r3*r4*r5*g1*g6 + r1*r3*r4*r5*g2*g6 + r1*r2*r4*r5*g3*g6 + r1*r2*r3*r5*g4*g6 + r1*r2*r3*r4*g5*g6\n",
      " \n",
      "Monomial: pa1*pb1\n",
      "Coef: r1*r4*r6*g2*g3*g5 - r2*r3*r6*g1*g4*g5 + r1*r4*r5*g2*g3*g6 - r2*r3*r5*g1*g4*g6 - r1*r2*r3*g4*g5*g6\n",
      " \n",
      "Monomial: pa1*pb2\n",
      "Coef: r2*r4*r6*g1*g3*g5 + r1*r4*r6*g2*g3*g5 + r2*r3*r6*g1*g4*g5 + r1*r3*r6*g2*g4*g5 + r2*r4*r5*g1*g3*g6 + r1*r4*r5*g2*g3*g6 + r2*r3*r5*g1*g4*g6 + r1*r3*r5*g2*g4*g6 + r1*r2*r4*g3*g5*g6 + r1*r2*r3*g4*g5*g6\n",
      " \n",
      "Monomial: pa2*pb1\n",
      "Coef: -r3*r4*r6*g1*g2*g5 - r1*r4*r6*g2*g3*g5 - r2*r3*r6*g1*g4*g5 - r1*r2*r6*g3*g4*g5 - r3*r4*r5*g1*g2*g6 - r1*r4*r5*g2*g3*g6 - r2*r3*r5*g1*g4*g6 - r1*r2*r5*g3*g4*g6 - r1*r3*r4*g2*g5*g6 - r1*r2*r3*g4*g5*g6\n",
      " \n",
      "Monomial: pa2*pb2\n",
      "Coef: -r1*r4*r6*g2*g3*g5 + r2*r3*r6*g1*g4*g5 - r1*r4*r5*g2*g3*g6 + r2*r3*r5*g1*g4*g6 + r1*r2*r3*g4*g5*g6\n",
      " \n",
      "Monomial: pb1*pb2\n",
      "Coef: r4*r6*g1*g2*g3*g5 + r3*r6*g1*g2*g4*g5 + r2*r6*g1*g3*g4*g5 + r1*r6*g2*g3*g4*g5 + r4*r5*g1*g2*g3*g6 + r3*r5*g1*g2*g4*g6 + r2*r5*g1*g3*g4*g6 + r1*r5*g2*g3*g4*g6 + r1*r4*g2*g3*g5*g6 + r1*r3*g2*g4*g5*g6 + r1*r2*g3*g4*g5*g6\n"
     ]
    }
   ],
   "source": [
    "RESULT=0\n",
    "for thing in Reslist:\n",
    "#    print(thing[0])\n",
    "    if thing[0][p:p+n]==tuple(range(3*p,3*p+n)):\n",
    "#        print(\" \\n\", thing)\n",
    "        prgens=1\n",
    "        for i in thing[0][0:p]:\n",
    "            prgens=prgens*(Ext.gens()[i])\n",
    "        print(\" \\nMonomial:\", prgens)\n",
    "        print(\"Coef:\",thing[1])\n",
    "        term = thing[1]*prgens\n",
    "#        print(\" \\n\", term)\n",
    "        RESULT = RESULT + term\n",
    "#print(\"\\nHERE IT IS:\", RESULT)"
   ]
  },
  {
   "cell_type": "code",
   "execution_count": 47,
   "id": "5b99196f",
   "metadata": {},
   "outputs": [
    {
     "data": {
      "text/plain": [
       "[((2, 3),\n",
       "  r2*r3*r4*r6*g1*g5 + r1*r3*r4*r6*g2*g5 + r1*r2*r4*r6*g3*g5 + r1*r2*r3*r6*g4*g5 + r2*r3*r4*r5*g1*g6 + r1*r3*r4*r5*g2*g6 + r1*r2*r4*r5*g3*g6 + r1*r2*r3*r5*g4*g6 + r1*r2*r3*r4*g5*g6),\n",
       " ((2, 4),\n",
       "  r1*r4*r6*g2*g3*g5 - r2*r3*r6*g1*g4*g5 + r1*r4*r5*g2*g3*g6 - r2*r3*r5*g1*g4*g6 - r1*r2*r3*g4*g5*g6),\n",
       " ((2, 5),\n",
       "  r2*r4*r6*g1*g3*g5 + r1*r4*r6*g2*g3*g5 + r2*r3*r6*g1*g4*g5 + r1*r3*r6*g2*g4*g5 + r2*r4*r5*g1*g3*g6 + r1*r4*r5*g2*g3*g6 + r2*r3*r5*g1*g4*g6 + r1*r3*r5*g2*g4*g6 + r1*r2*r4*g3*g5*g6 + r1*r2*r3*g4*g5*g6),\n",
       " ((3, 4),\n",
       "  -r3*r4*r6*g1*g2*g5 - r1*r4*r6*g2*g3*g5 - r2*r3*r6*g1*g4*g5 - r1*r2*r6*g3*g4*g5 - r3*r4*r5*g1*g2*g6 - r1*r4*r5*g2*g3*g6 - r2*r3*r5*g1*g4*g6 - r1*r2*r5*g3*g4*g6 - r1*r3*r4*g2*g5*g6 - r1*r2*r3*g4*g5*g6),\n",
       " ((3, 5),\n",
       "  -r1*r4*r6*g2*g3*g5 + r2*r3*r6*g1*g4*g5 - r1*r4*r5*g2*g3*g6 + r2*r3*r5*g1*g4*g6 + r1*r2*r3*g4*g5*g6),\n",
       " ((4, 5),\n",
       "  r4*r6*g1*g2*g3*g5 + r3*r6*g1*g2*g4*g5 + r2*r6*g1*g3*g4*g5 + r1*r6*g2*g3*g4*g5 + r4*r5*g1*g2*g3*g6 + r3*r5*g1*g2*g4*g6 + r2*r5*g1*g3*g4*g6 + r1*r5*g2*g3*g4*g6 + r1*r4*g2*g3*g5*g6 + r1*r3*g2*g4*g5*g6 + r1*r2*g3*g4*g5*g6)]"
      ]
     },
     "execution_count": 47,
     "metadata": {},
     "output_type": "execute_result"
    }
   ],
   "source": [
    "RESULT.list()"
   ]
  },
  {
   "cell_type": "code",
   "execution_count": 48,
   "id": "1f09962d",
   "metadata": {},
   "outputs": [
    {
     "data": {
      "text/plain": [
       "(r2*r3*r4*r6*g1*g5 + r1*r3*r4*r6*g2*g5 + r1*r2*r4*r6*g3*g5 + r1*r2*r3*r6*g4*g5 + r2*r3*r4*r5*g1*g6 + r1*r3*r4*r5*g2*g6 + r1*r2*r4*r5*g3*g6 + r1*r2*r3*r5*g4*g6 + r1*r2*r3*r4*g5*g6)*pa1*pa2 + (r1*r4*r6*g2*g3*g5 - r2*r3*r6*g1*g4*g5 + r1*r4*r5*g2*g3*g6 - r2*r3*r5*g1*g4*g6 - r1*r2*r3*g4*g5*g6)*pa1*pb1 + (r2*r4*r6*g1*g3*g5 + r1*r4*r6*g2*g3*g5 + r2*r3*r6*g1*g4*g5 + r1*r3*r6*g2*g4*g5 + r2*r4*r5*g1*g3*g6 + r1*r4*r5*g2*g3*g6 + r2*r3*r5*g1*g4*g6 + r1*r3*r5*g2*g4*g6 + r1*r2*r4*g3*g5*g6 + r1*r2*r3*g4*g5*g6)*pa1*pb2 + (-r3*r4*r6*g1*g2*g5 - r1*r4*r6*g2*g3*g5 - r2*r3*r6*g1*g4*g5 - r1*r2*r6*g3*g4*g5 - r3*r4*r5*g1*g2*g6 - r1*r4*r5*g2*g3*g6 - r2*r3*r5*g1*g4*g6 - r1*r2*r5*g3*g4*g6 - r1*r3*r4*g2*g5*g6 - r1*r2*r3*g4*g5*g6)*pa2*pb1 + (-r1*r4*r6*g2*g3*g5 + r2*r3*r6*g1*g4*g5 - r1*r4*r5*g2*g3*g6 + r2*r3*r5*g1*g4*g6 + r1*r2*r3*g4*g5*g6)*pa2*pb2 + (r4*r6*g1*g2*g3*g5 + r3*r6*g1*g2*g4*g5 + r2*r6*g1*g3*g4*g5 + r1*r6*g2*g3*g4*g5 + r4*r5*g1*g2*g3*g6 + r3*r5*g1*g2*g4*g6 + r2*r5*g1*g3*g4*g6 + r1*r5*g2*g3*g4*g6 + r1*r4*g2*g3*g5*g6 + r1*r3*g2*g4*g5*g6 + r1*r2*g3*g4*g5*g6)*pb1*pb2"
      ]
     },
     "execution_count": 48,
     "metadata": {},
     "output_type": "execute_result"
    }
   ],
   "source": [
    "RESULT\n"
   ]
  },
  {
   "cell_type": "code",
   "execution_count": 49,
   "id": "b15cc843",
   "metadata": {},
   "outputs": [
    {
     "data": {
      "text/plain": [
       "<class 'sage.algebras.clifford_algebra.ExteriorAlgebra_with_category.element_class'>"
      ]
     },
     "execution_count": 49,
     "metadata": {},
     "output_type": "execute_result"
    }
   ],
   "source": [
    "type(g5*g2*pa1)"
   ]
  },
  {
   "cell_type": "code",
   "execution_count": 50,
   "id": "ba2601b9",
   "metadata": {},
   "outputs": [
    {
     "data": {
      "text/plain": [
       "g2*g5*pa1"
      ]
     },
     "execution_count": 50,
     "metadata": {},
     "output_type": "execute_result"
    }
   ],
   "source": [
    "(g5*g2*pa1).subs(g5=0)"
   ]
  },
  {
   "cell_type": "code",
   "execution_count": 51,
   "id": "52cfd2ed",
   "metadata": {},
   "outputs": [
    {
     "data": {
      "text/plain": [
       "<class 'sage.rings.polynomial.multi_polynomial_libsingular.MPolynomial_libsingular'>"
      ]
     },
     "execution_count": 51,
     "metadata": {},
     "output_type": "execute_result"
    }
   ],
   "source": [
    "type(g5)"
   ]
  },
  {
   "cell_type": "code",
   "execution_count": null,
   "id": "2f4a02d9",
   "metadata": {},
   "outputs": [],
   "source": []
  }
 ],
 "metadata": {
  "kernelspec": {
   "display_name": "SageMath 9.6",
   "language": "sage",
   "name": "sagemath"
  },
  "language_info": {
   "codemirror_mode": {
    "name": "ipython",
    "version": 3
   },
   "file_extension": ".py",
   "mimetype": "text/x-python",
   "name": "python",
   "nbconvert_exporter": "python",
   "pygments_lexer": "ipython3",
   "version": "3.10.6"
  }
 },
 "nbformat": 4,
 "nbformat_minor": 5
}
