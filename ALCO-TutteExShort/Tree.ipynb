{
 "cells": [
  {
   "cell_type": "code",
   "execution_count": 1,
   "id": "824fa337",
   "metadata": {},
   "outputs": [],
   "source": [
    "# number of E and P elts in the universe\n",
    "var('UN,UP')\n",
    "UN=4; UP=2\n",
    "UR=3"
   ]
  },
  {
   "cell_type": "raw",
   "id": "d2bbe195",
   "metadata": {
    "scrolled": true
   },
   "source": [
    "\n",
    "#\n",
    "# Supply explicit matrices\n",
    "#\n",
    "\n",
    "NalphaMat = matrix(3,UN+UP,\n",
    "    [[ 1, 0, -1,  0,  1,   0],\n",
    "     [-1,  0,  0, -1,  0, -1],\n",
    "     [ 0,  1,  1,  1,  0,  0]\n",
    "    ])\n",
    "\n",
    "NbetaMat=copy(NalphaMat)\n",
    "\n",
    "print(\"NalphaMat=\\n\",NalphaMat,\"\\nNbetaMat=\\n\",NbetaMat)"
   ]
  },
  {
   "cell_type": "code",
   "execution_count": 2,
   "id": "fabdddb8",
   "metadata": {},
   "outputs": [],
   "source": [
    "NalphaMat = matrix(3,UN+UP,\n",
    "    [[ 1, 0,   0,  3,  0,   0],\n",
    "     [ 0,  1,  0,  0,  5,   0],\n",
    "     [ 0,  0,  7,  0,  0,   1]\n",
    "    ])\n",
    "\n",
    "NbetaMat = matrix(3,UN+UP,\n",
    "    [[ 1, 0,   0,  11,  1,   0],\n",
    "     [ 0, 1,  13,   0,  0,   0],\n",
    "     [ 0, 1,   0,   0,  17,  1]\n",
    "    ])\n",
    "\n",
    "\n"
   ]
  },
  {
   "cell_type": "code",
   "execution_count": 3,
   "id": "007d3801",
   "metadata": {},
   "outputs": [
    {
     "name": "stdout",
     "output_type": "stream",
     "text": [
      "Defining r1, r2, r3, r4, g1, g2, g3, g4, U, V, W, Y\n",
      "Defining p1, p2, pa1, pa2, pb1, pb2, e1, e2, e3, e4\n"
     ]
    }
   ],
   "source": [
    "Crg = PolynomialRing(RationalField(),\n",
    "                     ['r%s'%i for i in range(1, UN+1)] + ['g%s'%i for i in range(1, UN+1)]\n",
    "                    + ['U','V','W','Y'])\n",
    "Crg.inject_variables()\n",
    "\n",
    "\n",
    "#CrgF=Crg.fraction_field()\n",
    "#CrgF.inject_variables()\n",
    "#THIS FAILS WHEN WE TRY TO MULTIPLY AN EXTERIOR ALG ELE BY A POLY. GENERATOR\n",
    "\n",
    "Ext=\\\n",
    "    ExteriorAlgebra(Crg,\\\n",
    "        ['p%s'%i  for i in range(1, UP+1)]+\\\n",
    "        ['pa%s'%i for i in range(1, UP+1)]+\\\n",
    "        ['pb%s'%i for i in range(1, UP+1)]+\\\n",
    "        ['e%s'%i  for i in range(1, UN+1)])\n",
    "Ext.inject_variables() \n",
    "\n",
    "Rrrs=[Crg.gen(i)    for i in range(0, UN)]\n",
    "Gees=[Crg.gen(i)    for i in range(UN, 2*UN)]\n",
    "Pees=[Ext.gen(i)    for i in range(0, UP)]\n",
    "Paas=[Ext.gen(i)    for i in range(UP, 2*UP)]\n",
    "Pbes=[Ext.gen(i)    for i in range(2*UP, 3*UP)]\n",
    "Eees=[Ext.gen(i)    for i in range(3*UP, 3*UP+UN)]\n",
    "\n",
    "NSeq=Pees+Eees\n",
    "PEVol=prod(NSeq)\n",
    "EVol=prod(Eees)\n",
    "\n",
    "def RofE(e):\n",
    "    return(Rrrs[Eees.index(e)])\n",
    "def GofE(e):\n",
    "    return(Gees[Eees.index(e)])\n",
    "\n",
    "diagRrrs=diagonal_matrix(Rrrs)\n",
    "diagGees=diagonal_matrix(Gees)\n",
    "\n",
    "matII=block_matrix([[matrix(UP)         ,matrix(UP)    ,matrix(UP)   ,matrix(UP,UN)],\n",
    "                    [identity_matrix(UP),matrix(UP)    ,matrix(UP)   ,matrix(UP,UN)],       \n",
    "                    [matrix(UP)         ,matrix(UP)    ,matrix(UP)   ,matrix(UP,UN)],\n",
    "                    [matrix(UN,UP)      ,matrix(UN,UP) ,matrix(UN,UP),diagGees     ]\n",
    "                   ])\n",
    "matVV=block_matrix([[matrix(UP)         ,matrix(UP)    ,matrix(UP)   ,matrix(UP,UN)],\n",
    "                    [matrix(UP)         ,matrix(UP)    ,matrix(UP)   ,matrix(UP,UN)],       \n",
    "                    [identity_matrix(UP),matrix(UP)    ,matrix(UP)   ,matrix(UP,UN)],\n",
    "                    [matrix(UN,UP)      ,matrix(UN,UP) ,matrix(UN,UP),diagRrrs     ]\n",
    "                   ])\n",
    "\n",
    "II=Ext.lift_module_morphism(matII)\n",
    "VV=Ext.lift_module_morphism(matVV)\n"
   ]
  },
  {
   "cell_type": "code",
   "execution_count": 4,
   "id": "65c03908",
   "metadata": {},
   "outputs": [],
   "source": [
    "#Exterior Algebra operations only\n",
    "#Exterior Algebra with ground set operations are defined later.\n",
    "\n",
    "\n",
    "def contract(X,E):\n",
    "    #only contract by monomials\n",
    "    #Is used to implement LvSE and LhSE contraction where the ground set is Palpha+Pbeta+E\n",
    "    assert (E.length()==1)\n",
    "    return (X.interior_product(E)*(-1)^(E.degree()*(X.degree()-E.degree())))\n",
    "\n",
    "def delete(X,e):\n",
    "    #the subtraction formula only works for vectors.\n",
    "    assert (e.degree()==1 & e.length()==1)\n",
    "    return (X - contract(X,e)*e)\n",
    "\n",
    "def delete_contract(X,e):\n",
    "    #only contract by monomials\n",
    "    assert (e.degree()==1 & e.length()==1)\n",
    "    contr = X.interior_product(e)*(-1)^(e.degree()*(X.degree()-e.degree()))\n",
    "    dele = X - contr*e\n",
    "    return (dele, contr)\n",
    "\n",
    "def perp(VOL,N):\n",
    "    return (VOL.interior_product(N))"
   ]
  },
  {
   "cell_type": "code",
   "execution_count": 5,
   "id": "4ba2ddc2",
   "metadata": {
    "scrolled": false
   },
   "outputs": [],
   "source": [
    "#Exterior algebra elements with ground sequenced ground set\n",
    "class ExtS:\n",
    "    def __init__(this, extN, seqS):\n",
    "        this.extN = extN\n",
    "        this.seqS = copy(seqS)\n",
    "        this._set_VOL()      \n",
    "    \n",
    "    def contraction(this,e):\n",
    "        #does only one\n",
    "        assert (e.length()==1 & e.degree()==1)\n",
    "        result = this._copy_remove(e)\n",
    "        result.extN = contract(result.extN,e)\n",
    "        return (result)\n",
    "    def deletion(this,e):\n",
    "        #does only one\n",
    "        assert (e.length()==1 & e.degree()==1)  \n",
    "        result = this._copy_remove(e)\n",
    "        result.extN = delete(result.extN,e)\n",
    "        return (result)\n",
    "    def perp(this):\n",
    "        result=this._copy()\n",
    "        result.extN = perp(this.VOL, this.extN)\n",
    "        return (result)\n",
    "    \n",
    "    def printme(this):\n",
    "        print(\"element:\",this.extN)\n",
    "        print(\"set orientation:\",this.seqS)\n",
    "        print(\"Volume:\",this.VOL)\n",
    "        \n",
    "    def _set_VOL(this):\n",
    "        acc = 1\n",
    "        for v in this.seqS:\n",
    "            acc = acc*v\n",
    "        this.VOL = acc\n",
    "    def _copy(this):\n",
    "        return ExtS(this.extN, this.seqS)    \n",
    "    def _copy_remove(this,e):\n",
    "        result = this._copy()\n",
    "        result.seqS.remove(e)\n",
    "        result._set_VOL()\n",
    "        return(result)\n",
    "\n"
   ]
  },
  {
   "cell_type": "code",
   "execution_count": 6,
   "id": "9b0ad78f",
   "metadata": {
    "scrolled": false
   },
   "outputs": [],
   "source": [
    "def ExtFromMatrix(NMat):\n",
    "    ExtCol=NMat*(matrix([NSeq]).transpose())\n",
    "    ExtRes=1\n",
    "    for i in range(0,ExtCol.nrows()):\n",
    "        ExtRes=ExtRes*ExtCol[i,0]\n",
    "    return ExtRes\n",
    "\n",
    "def ExtSFromExt(extN):\n",
    "    seq=list(extN.parent().gens()[0:UP])+list(extN.parent().gens()[3*UP:])\n",
    "    return (ExtS(extN, seq))\n",
    "\n",
    "def ExtSFromMatrix(Matr):\n",
    "    extN=ExtFromMatrix(Matr)\n",
    "    return (ExtSFromExt(extN))\n",
    "\n",
    "ExtSNalpha=ExtSFromMatrix(NalphaMat)\n",
    "ExtSNbeta =ExtSFromMatrix(NbetaMat)"
   ]
  },
  {
   "cell_type": "code",
   "execution_count": 7,
   "id": "2eee68a5",
   "metadata": {},
   "outputs": [],
   "source": [
    "def LvS(ExtStop,ExtSbot):\n",
    "    assert ((ExtStop.extN.parent()==ExtSbot.extN.parent()) & \n",
    "            (ExtStop.seqS==ExtSbot.seqS))\n",
    "    newSeq=list(ExtStop.extN.parent().gens()[UP:3*UP])+ExtStop.seqS[UP:]\n",
    "    newExt=II(ExtStop.extN)*VV(ExtSbot.extN)\n",
    "    return ExtS(newExt,newSeq)\n",
    "def LvSE(ExtStop,ExtSbot):\n",
    "    LvSret=LvS(ExtStop,ExtSbot)\n",
    "    ESeq=list(ExtStop.seqS[UP:])\n",
    "    PaPbSeq=list(ExtStop.extN.parent().gens()[UP:3*UP])\n",
    "    EE=1\n",
    "    for v in ESeq:\n",
    "        EE=EE*v\n",
    "    newExt=contract(LvSret.extN,EE)\n",
    "    return( ExtS(newExt,PaPbSeq))\n",
    "def LhS(Extleft,Extright):\n",
    "    return LvS(Extleft,Extright.perp())\n",
    "def LhSE(Extleft,Extright):\n",
    "    return LvSE(Extleft,Extright.perp())"
   ]
  },
  {
   "cell_type": "code",
   "execution_count": 8,
   "id": "67b7f304",
   "metadata": {},
   "outputs": [],
   "source": [
    "def nstr(n):\n",
    "    st=\"\"\n",
    "    for l in [\"%s\"%i for i in range(1,n+1)]:\n",
    "        st=st+l\n",
    "    return st\n",
    "\n",
    "\n",
    "class Tree():\n",
    "    autopick = True\n",
    "    debug = False\n",
    "    def __init__(self,seq,Nalpha,Nbeta,nameAlpha=\"NAlpha\",nameBeta=\"NBeta\",parent=None):\n",
    "        self.Nalpha=Nalpha\n",
    "        self.Nbeta =Nbeta\n",
    "        self.nameAlpha=nameAlpha\n",
    "        self.nameBeta=nameBeta\n",
    "        self.seq = seq\n",
    "        self.parent = parent\n",
    "        if not Tree.autopick or Tree.debug:\n",
    "            print(\"\\nWorking on:\")\n",
    "            print(nameAlpha+\":\")\n",
    "            self.Nalpha.printme()\n",
    "            print(nameBeta+\":\")\n",
    "            self.Nbeta.printme()\n",
    "        if len(seq) != 0:\n",
    "            if len(seq) == 1:\n",
    "                self.e = seq[0]\n",
    "            else:\n",
    "                if Tree.autopick:\n",
    "                    self.e = seq[0]\n",
    "                else:\n",
    "                    print(\"\\n\",seq)\n",
    "                    self.e = eval(input(\"Pick one:\"))\n",
    "            #print(self.e)\n",
    "            nseq=copy(seq)\n",
    "            nseq.remove(self.e)\n",
    "            if Tree.debug: print(\"Make contr subtree:\") \n",
    "            estr=self.e.__repr__() \n",
    "            self.contrchild=Tree(nseq,self.Nalpha.contraction(self.e),self.Nbeta.contraction(self.e),\n",
    "                                 self.nameAlpha+\"/\"+estr,self.nameBeta+\"/\"+estr, self)\n",
    "            if Tree.debug: print(\"\\nMake delet subtree:\")\n",
    "            self.deletchild=Tree(nseq,Nalpha.deletion(self.e),Nbeta.deletion(self.e),\n",
    "                                 self.nameAlpha+\"\\\\\"+estr, self.nameBeta+\"\\\\\"+estr, self)\n",
    "            self.TF=GofE(self.e)*self.contrchild.TF+RofE(self.e)*self.deletchild.TF\n",
    "        else:\n",
    "            self.contrchild = None\n",
    "            self.deletchild = None\n",
    "            if Tree.debug: self.Nalpha.printme()\n",
    "            if Tree.debug: self.Nbeta.printme()\n",
    "            self.TF=II(self.Nalpha.extN)*VV(perp(self.Nbeta.VOL,self.Nbeta.extN))\n",
    "    \n",
    "    def printnode(self):\n",
    "        print(self.nameAlpha)\n",
    "        self.Nalpha.printme()\n",
    "        print(self.nameBeta)\n",
    "        self.Nbeta.printme()\n",
    "        print(self.seq)\n",
    "        if self.contrchild:            \n",
    "            print(self.contrchild.nameAlpha,self.contrchild.nameBeta)\n",
    "        else:\n",
    "            print(\"No contraction child.\")\n",
    "        if self.deletchild:\n",
    "            print(self.deletchild.nameAlpha,self.deletchild.nameBeta)\n",
    "        else:\n",
    "            print(\"No contraction child.\")\n",
    "        print(self.TF)\n",
    "\n",
    "    def printme(self,depth=0):\n",
    "        print('\\n'+(nstr(depth))+\"Node:\",self.seq)\n",
    "        print(('--'*depth)+self.nameAlpha)\n",
    "        self.Nalpha.printme()\n",
    "        print(('--'*depth)+self.nameBeta)\n",
    "        self.Nbeta.printme()\n",
    "        if(self.contrchild):\n",
    "            self.contrchild.printme(depth+1)\n",
    "        if(self.deletchild):\n",
    "            self.deletchild.printme(depth+1)\n",
    "            \n",
    "        "
   ]
  },
  {
   "cell_type": "code",
   "execution_count": null,
   "id": "28899630",
   "metadata": {},
   "outputs": [],
   "source": []
  },
  {
   "cell_type": "code",
   "execution_count": 23,
   "id": "16fed270",
   "metadata": {},
   "outputs": [],
   "source": [
    "\n",
    "\n",
    "class TreeUVWY():\n",
    "    autopick = True\n",
    "    debug = False\n",
    "    def __init__(self,seq,Nalpha,Nbeta,\n",
    "                 nameAlpha=\"NAlpha\",nameBeta=\"NBeta\",parent=None):\n",
    "\n",
    "        self.Nalpha=Nalpha \n",
    "        self.Nbeta =Nbeta\n",
    "        self.nameAlpha=nameAlpha\n",
    "        self.nameBeta=nameBeta\n",
    "        self.seq = seq\n",
    "        self.parent = parent\n",
    "        if (not TreeUVWY.autopick) or TreeUVWY.debug:\n",
    "            print(\"\\nWorking on:\")\n",
    "            print(nameAlpha+\":\")\n",
    "            self.Nalpha.printme()\n",
    "            print(nameBeta+\":\")\n",
    "            self.Nbeta.printme()\n",
    "        \n",
    "        self.leftchild = None\n",
    "        self.rightchild = None\n",
    "        \n",
    "        if (self.Nalpha.extN == 0 and self.Nbeta.extN == 0):\n",
    "            if TreeUVWY.debug: self.Nalpha.printme()\n",
    "            if TreeUVWY.debug: self.Nbeta.printme()\n",
    "            self.TF=0\n",
    "            return\n",
    "        if len(seq) != 0:\n",
    "            if len(seq) == 1:\n",
    "                self.e = seq[0]\n",
    "            else:\n",
    "                if TreeUVWY.autopick:\n",
    "                    self.e = seq[0]\n",
    "                else:\n",
    "                    print(\"\\n\",seq)\n",
    "                    self.e = eval(input(\"Pick one:\"))\n",
    "            #print(self.e)\n",
    "            nseq=copy(seq)\n",
    "            nseq.remove(self.e)\n",
    "            estr=self.e.__repr__()\n",
    "            CA=Nalpha.contraction(self.e)\n",
    "            CB=self.Nbeta.contraction(self.e)\n",
    "            DA=Nalpha.deletion(self.e)\n",
    "            DB=Nbeta.deletion(self.e)\n",
    "            \n",
    "            Lcoef=0\n",
    "            Rcoef=0\n",
    "            \n",
    "            if (CA.extN != 0 and CB.extN != 0):\n",
    "                self.leftchild=TreeUVWY(nseq, CA, CB, self.nameAlpha+\"/\"+estr,self.nameBeta+\"/\"+estr, self)\n",
    "                Lcoef=GofE(self.e)\n",
    "            if (CA.extN != 0 and CB.extN == 0):\n",
    "                self.leftchild=TreeUVWY(nseq, CA, DB, self.nameAlpha+\"/\"+estr,self.nameBeta+\"\\\\\"+estr, self)\n",
    "                Lcoef=V*GofE(self.e)\n",
    "            if (CA.extN == 0 and CB.extN != 0):\n",
    "                self.leftchild=TreeUVWY(nseq, DA, CB, self.nameAlpha+\"\\\\\"+estr,self.nameBeta+\"/\"+estr, self)\n",
    "                Lcoef=U*GofE(self.e)\n",
    "            if (CA.extN == 0 and CB.extN == 0):\n",
    "                self.leftchild=TreeUVWY(nseq, DA, DB, self.nameAlpha+\"\\\\\"+estr,self.nameBeta+\"\\\\\"+estr, self)\n",
    "                Lcoef=U*V*GofE(self.e)\n",
    "                \n",
    "            if (DA.extN != 0 and DB.extN != 0):\n",
    "                self.rightchild=TreeUVWY(nseq, DA, DB, self.nameAlpha+\"\\\\\"+estr,self.nameBeta+\"\\\\\"+estr,self)\n",
    "                Rcoef=RofE(self.e)\n",
    "            if (DA.extN != 0 and DB.extN == 0):\n",
    "                self.rightchild=TreeUVWY(nseq, DA, CB, self.nameAlpha+\"\\\\\"+estr,self.nameBeta+\"/\"+estr,self)\n",
    "                Rcoef=Y*RofE(self.e)\n",
    "            if (DA.extN == 0 and DB.extN != 0):\n",
    "                self.rightchild=TreeUVWY(nseq, CA, DB, self.nameAlpha+\"/\"+estr,self.nameBeta+\"\\\\\"+estr,self)\n",
    "                Rcoef=W*RofE(self.e)\n",
    "            if (DA.extN == 0 and DB.extN == 0):\n",
    "                self.rightchild=TreeUVWY(nseq, CA, CB, self.nameAlpha+\"/\"+estr,self.nameBeta+\"/\"+estr,self)\n",
    "                Rcoef=W*Y*RofE(self.e)\n",
    "            \n",
    "            self.TF=Lcoef*self.leftchild.TF+Rcoef*self.rightchild.TF\n",
    "        else:\n",
    "            self.contrchild = None\n",
    "            self.deletchild = None\n",
    "            if Tree.debug: self.Nalpha.printme()\n",
    "            if Tree.debug: self.Nbeta.printme()\n",
    "            self.TF=II(self.Nalpha.extN)*VV(perp(self.Nbeta.VOL,self.Nbeta.extN))\n",
    "    \n",
    "    def printnode(self):\n",
    "        print(self.nameAlpha)\n",
    "        self.Nalpha.printme()\n",
    "        print(self.nameBeta)\n",
    "        self.Nbeta.printme()\n",
    "        print(self.seq)\n",
    "        \n",
    "        print(\"\\n\",self.TF.list())\n",
    "        print(\"\\n\",self.TF)\n",
    "        print(\"\\n\")\n",
    "        \n",
    "        if self.leftchild:            \n",
    "            print(self.leftchild.nameAlpha,self.leftchild.nameBeta)\n",
    "        else:\n",
    "            print(\"No contraction child.\")\n",
    "        if self.rightchild:\n",
    "            print(self.rightchild.nameAlpha,self.rightchild.nameBeta)\n",
    "        else:\n",
    "            print(\"No contraction child.\")\n",
    "        print(self.TF)\n",
    "\n",
    "    def printme(self,depth=0):\n",
    "        print('\\n'+(nstr(depth))+\"Node:\",self.seq)\n",
    "        print(('--'*depth)+self.nameAlpha)\n",
    "        self.Nalpha.printme()\n",
    "        print(('--'*depth)+self.nameBeta)\n",
    "        self.Nbeta.printme()\n",
    "        \n",
    "        print(\"\\n\",self.TF.list())\n",
    "        print(\"\\n\",self.TF)\n",
    "        print(\"\\n\")\n",
    "        \n",
    "        if(self.leftchild):\n",
    "            self.leftchild.printme(depth+1)\n",
    "        if(self.rightchild):\n",
    "            self.rightchild.printme(depth+1)\n",
    "            \n",
    "        "
   ]
  },
  {
   "cell_type": "code",
   "execution_count": 24,
   "id": "ef41399f",
   "metadata": {
    "scrolled": false
   },
   "outputs": [],
   "source": [
    "\n",
    "fooAuto=TreeUVWY([e1,e2,e3,e4],ExtSNalpha,ExtSNbeta)\n",
    "\n"
   ]
  },
  {
   "cell_type": "code",
   "execution_count": 19,
   "id": "e3109ee8",
   "metadata": {
    "scrolled": false
   },
   "outputs": [
    {
     "name": "stdout",
     "output_type": "stream",
     "text": [
      "\n",
      " [e1, e2, e3, e4]\n",
      "Pick one:e3\n",
      "\n",
      " [e1, e2, e4]\n",
      "Pick one:e1\n",
      "\n",
      " [e2, e4]\n",
      "Pick one:e4\n",
      "\n",
      " [e2, e4]\n",
      "Pick one:e4\n",
      "\n",
      " [e1, e2, e4]\n",
      "Pick one:e1\n",
      "\n",
      " [e2, e4]\n",
      "Pick one:e4\n",
      "\n",
      " [e2, e4]\n",
      "Pick one:e2\n"
     ]
    }
   ],
   "source": [
    "TreeUVWY.autopick=False\n",
    "fooMan=TreeUVWY([e1,e2,e3,e4],ExtSNalpha,ExtSNbeta)"
   ]
  },
  {
   "cell_type": "code",
   "execution_count": 20,
   "id": "ac9c672e",
   "metadata": {
    "scrolled": true
   },
   "outputs": [
    {
     "data": {
      "text/plain": [
       "[((2, 3, 5), -91*r2*r3*g1*g4*U),\n",
       " ((2, 4, 5), 455*r2*g1*g3*g4*U),\n",
       " ((3, 4, 5), 3003*r3*g1*g2*g4*U),\n",
       " ((2, 3), r1*r2*r3*r4*W*Y - 91*r2*r3*r4*g1 + r1*r2*r3*g4),\n",
       " ((2, 4), -455*r2*r4*g1*g3 + 5*r1*r2*g3*g4),\n",
       " ((2, 5), -7735*r2*r4*g1*g3),\n",
       " ((3, 4), -33*r1*r3*r4*g2*W*Y + 3003*r3*r4*g1*g2 - 33*r1*r3*g2*g4),\n",
       " ((4, 5), 1365*g1*g2*g3*g4*U*V - 255255*r4*g1*g2*g3),\n",
       " ((2,), -85*r1*r2*r4*g3*W),\n",
       " ((4,), 15*r1*g2*g3*g4*V - 2805*r1*r4*g2*g3*W)]"
      ]
     },
     "execution_count": 20,
     "metadata": {},
     "output_type": "execute_result"
    }
   ],
   "source": [
    "fooMan.TF.list()"
   ]
  },
  {
   "cell_type": "code",
   "execution_count": 16,
   "id": "a0072244",
   "metadata": {},
   "outputs": [
    {
     "data": {
      "text/plain": [
       "[((2, 3, 5), -91*r2*r3*g1*g4*U),\n",
       " ((2, 4, 5), 455*r2*g1*g3*g4*U),\n",
       " ((3, 4, 5), -3003*r3*g1*g2*g4*U),\n",
       " ((2, 3), r1*r2*r3*r4*W*Y - 91*r2*r3*r4*g1 + r1*r2*r3*g4),\n",
       " ((2, 4), -455*r2*r4*g1*g3 + 5*r1*r2*g3*g4),\n",
       " ((2, 5), -7735*r2*r4*g1*g3),\n",
       " ((3, 4), -33*r1*r3*r4*g2*W*Y + 3003*r3*r4*g1*g2 - 33*r1*r3*g2*g4),\n",
       " ((4, 5), -255255*g1*g2*g3*g4*U*V - 255255*r4*g1*g2*g3),\n",
       " ((2,), -85*r1*r2*r4*g3*W),\n",
       " ((4,), 2805*r1*g2*g3*g4*V + 2805*r1*r4*g2*g3*W)]"
      ]
     },
     "execution_count": 16,
     "metadata": {},
     "output_type": "execute_result"
    }
   ],
   "source": [
    "fooAuto.TF.list()"
   ]
  },
  {
   "cell_type": "code",
   "execution_count": 25,
   "id": "6a94cb0a",
   "metadata": {
    "scrolled": false
   },
   "outputs": [
    {
     "name": "stdout",
     "output_type": "stream",
     "text": [
      "\n",
      "Working on:\n",
      "NAlpha:\n",
      "element: 7*p1*p2*e1 + p1*p2*e4 - 35*p1*e1*e3 + 5*p1*e3*e4 + 21*p2*e1*e2 - 3*p2*e2*e4 + 105*e1*e2*e3 + 15*e2*e3*e4\n",
      "set orientation: [p1, p2, e1, e2, e3, e4]\n",
      "Volume: p1*p2*e1*e2*e3*e4\n",
      "NBeta:\n",
      "element: -13*p1*p2*e1 + 17*p1*p2*e3 + p1*p2*e4 + 221*p1*e1*e3 + 13*p1*e1*e4 - 143*p2*e1*e2 - 13*p2*e1*e3 - 187*p2*e2*e3 - 11*p2*e2*e4 - p2*e3*e4 - 2431*e1*e2*e3 - 143*e1*e2*e4 - 13*e1*e3*e4\n",
      "set orientation: [p1, p2, e1, e2, e3, e4]\n",
      "Volume: p1*p2*e1*e2*e3*e4\n",
      "\n",
      " [e1, e2, e3, e4]\n",
      "Pick one:e3\n",
      "\n",
      "Working on:\n",
      "NAlpha/e3:\n",
      "element: -35*p1*e1 - 5*p1*e4 + 105*e1*e2 - 15*e2*e4\n",
      "set orientation: [p1, p2, e1, e2, e4]\n",
      "Volume: p1*p2*e1*e2*e4\n",
      "NBeta/e3:\n",
      "element: 17*p1*p2 + 221*p1*e1 - 13*p2*e1 - 187*p2*e2 + p2*e4 - 2431*e1*e2 + 13*e1*e4\n",
      "set orientation: [p1, p2, e1, e2, e4]\n",
      "Volume: p1*p2*e1*e2*e4\n",
      "\n",
      " [e1, e2, e4]\n",
      "Pick one:e1\n",
      "\n",
      "Working on:\n",
      "NAlpha/e3/e1:\n",
      "element: -35*p1 - 105*e2\n",
      "set orientation: [p1, p2, e2, e4]\n",
      "Volume: p1*p2*e2*e4\n",
      "NBeta/e3/e1:\n",
      "element: 221*p1 - 13*p2 + 2431*e2 - 13*e4\n",
      "set orientation: [p1, p2, e2, e4]\n",
      "Volume: p1*p2*e2*e4\n",
      "\n",
      " [e2, e4]\n",
      "Pick one:e2\n",
      "\n",
      "Working on:\n",
      "NAlpha/e3/e1/e2:\n",
      "element: -105\n",
      "set orientation: [p1, p2, e4]\n",
      "Volume: p1*p2*e4\n",
      "NBeta/e3/e1/e2:\n",
      "element: 2431\n",
      "set orientation: [p1, p2, e4]\n",
      "Volume: p1*p2*e4\n",
      "\n",
      "Working on:\n",
      "NAlpha/e3/e1/e2\\e4:\n",
      "element: -105\n",
      "set orientation: [p1, p2]\n",
      "Volume: p1*p2\n",
      "NBeta/e3/e1/e2\\e4:\n",
      "element: 2431\n",
      "set orientation: [p1, p2]\n",
      "Volume: p1*p2\n",
      "\n",
      "Working on:\n",
      "NAlpha/e3/e1/e2\\e4:\n",
      "element: -105\n",
      "set orientation: [p1, p2]\n",
      "Volume: p1*p2\n",
      "NBeta/e3/e1/e2\\e4:\n",
      "element: 2431\n",
      "set orientation: [p1, p2]\n",
      "Volume: p1*p2\n",
      "\n",
      "Working on:\n",
      "NAlpha/e3/e1\\e2:\n",
      "element: -35*p1\n",
      "set orientation: [p1, p2, e4]\n",
      "Volume: p1*p2*e4\n",
      "NBeta/e3/e1\\e2:\n",
      "element: 221*p1 - 13*p2 - 13*e4\n",
      "set orientation: [p1, p2, e4]\n",
      "Volume: p1*p2*e4\n",
      "\n",
      "Working on:\n",
      "NAlpha/e3/e1\\e2\\e4:\n",
      "element: -35*p1\n",
      "set orientation: [p1, p2]\n",
      "Volume: p1*p2\n",
      "NBeta/e3/e1\\e2/e4:\n",
      "element: -13\n",
      "set orientation: [p1, p2]\n",
      "Volume: p1*p2\n",
      "\n",
      "Working on:\n",
      "NAlpha/e3/e1\\e2\\e4:\n",
      "element: -35*p1\n",
      "set orientation: [p1, p2]\n",
      "Volume: p1*p2\n",
      "NBeta/e3/e1\\e2\\e4:\n",
      "element: 221*p1 - 13*p2\n",
      "set orientation: [p1, p2]\n",
      "Volume: p1*p2\n",
      "\n",
      "Working on:\n",
      "NAlpha/e3\\e1:\n",
      "element: -5*p1*e4 - 15*e2*e4\n",
      "set orientation: [p1, p2, e2, e4]\n",
      "Volume: p1*p2*e2*e4\n",
      "NBeta/e3\\e1:\n",
      "element: 17*p1*p2 - 187*p2*e2 + p2*e4\n",
      "set orientation: [p1, p2, e2, e4]\n",
      "Volume: p1*p2*e2*e4\n",
      "\n",
      " [e2, e4]\n",
      "Pick one:e4\n",
      "\n",
      "Working on:\n",
      "NAlpha/e3\\e1/e4:\n",
      "element: -5*p1 - 15*e2\n",
      "set orientation: [p1, p2, e2]\n",
      "Volume: p1*p2*e2\n",
      "NBeta/e3\\e1/e4:\n",
      "element: p2\n",
      "set orientation: [p1, p2, e2]\n",
      "Volume: p1*p2*e2\n",
      "\n",
      "Working on:\n",
      "NAlpha/e3\\e1/e4/e2:\n",
      "element: -15\n",
      "set orientation: [p1, p2]\n",
      "Volume: p1*p2\n",
      "NBeta/e3\\e1/e4\\e2:\n",
      "element: p2\n",
      "set orientation: [p1, p2]\n",
      "Volume: p1*p2\n",
      "\n",
      "Working on:\n",
      "NAlpha/e3\\e1/e4\\e2:\n",
      "element: -5*p1\n",
      "set orientation: [p1, p2]\n",
      "Volume: p1*p2\n",
      "NBeta/e3\\e1/e4\\e2:\n",
      "element: p2\n",
      "set orientation: [p1, p2]\n",
      "Volume: p1*p2\n",
      "\n",
      "Working on:\n",
      "NAlpha/e3\\e1/e4:\n",
      "element: -5*p1 - 15*e2\n",
      "set orientation: [p1, p2, e2]\n",
      "Volume: p1*p2*e2\n",
      "NBeta/e3\\e1\\e4:\n",
      "element: 17*p1*p2 - 187*p2*e2\n",
      "set orientation: [p1, p2, e2]\n",
      "Volume: p1*p2*e2\n",
      "\n",
      "Working on:\n",
      "NAlpha/e3\\e1/e4/e2:\n",
      "element: -15\n",
      "set orientation: [p1, p2]\n",
      "Volume: p1*p2\n",
      "NBeta/e3\\e1\\e4/e2:\n",
      "element: -187*p2\n",
      "set orientation: [p1, p2]\n",
      "Volume: p1*p2\n",
      "\n",
      "Working on:\n",
      "NAlpha/e3\\e1/e4\\e2:\n",
      "element: -5*p1\n",
      "set orientation: [p1, p2]\n",
      "Volume: p1*p2\n",
      "NBeta/e3\\e1\\e4\\e2:\n",
      "element: 17*p1*p2\n",
      "set orientation: [p1, p2]\n",
      "Volume: p1*p2\n",
      "\n",
      "Working on:\n",
      "NAlpha\\e3:\n",
      "element: 7*p1*p2*e1 + p1*p2*e4 + 21*p2*e1*e2 - 3*p2*e2*e4\n",
      "set orientation: [p1, p2, e1, e2, e4]\n",
      "Volume: p1*p2*e1*e2*e4\n",
      "NBeta\\e3:\n",
      "element: -13*p1*p2*e1 + p1*p2*e4 + 13*p1*e1*e4 - 143*p2*e1*e2 - 11*p2*e2*e4 - 143*e1*e2*e4\n",
      "set orientation: [p1, p2, e1, e2, e4]\n",
      "Volume: p1*p2*e1*e2*e4\n",
      "\n",
      " [e1, e2, e4]\n",
      "Pick one:e1\n",
      "\n",
      "Working on:\n",
      "NAlpha\\e3/e1:\n",
      "element: 7*p1*p2 - 21*p2*e2\n",
      "set orientation: [p1, p2, e2, e4]\n",
      "Volume: p1*p2*e2*e4\n",
      "NBeta\\e3/e1:\n",
      "element: -13*p1*p2 - 13*p1*e4 + 143*p2*e2 - 143*e2*e4\n",
      "set orientation: [p1, p2, e2, e4]\n",
      "Volume: p1*p2*e2*e4\n",
      "\n",
      " [e2, e4]\n",
      "Pick one:e4\n",
      "\n",
      "Working on:\n",
      "NAlpha\\e3/e1\\e4:\n",
      "element: 7*p1*p2 - 21*p2*e2\n",
      "set orientation: [p1, p2, e2]\n",
      "Volume: p1*p2*e2\n",
      "NBeta\\e3/e1/e4:\n",
      "element: -13*p1 - 143*e2\n",
      "set orientation: [p1, p2, e2]\n",
      "Volume: p1*p2*e2\n",
      "\n",
      "Working on:\n",
      "NAlpha\\e3/e1\\e4/e2:\n",
      "element: -21*p2\n",
      "set orientation: [p1, p2]\n",
      "Volume: p1*p2\n",
      "NBeta\\e3/e1/e4/e2:\n",
      "element: -143\n",
      "set orientation: [p1, p2]\n",
      "Volume: p1*p2\n",
      "\n",
      "Working on:\n",
      "NAlpha\\e3/e1\\e4\\e2:\n",
      "element: 7*p1*p2\n",
      "set orientation: [p1, p2]\n",
      "Volume: p1*p2\n",
      "NBeta\\e3/e1/e4\\e2:\n",
      "element: -13*p1\n",
      "set orientation: [p1, p2]\n",
      "Volume: p1*p2\n",
      "\n",
      "Working on:\n",
      "NAlpha\\e3/e1\\e4:\n",
      "element: 7*p1*p2 - 21*p2*e2\n",
      "set orientation: [p1, p2, e2]\n",
      "Volume: p1*p2*e2\n",
      "NBeta\\e3/e1\\e4:\n",
      "element: -13*p1*p2 + 143*p2*e2\n",
      "set orientation: [p1, p2, e2]\n",
      "Volume: p1*p2*e2\n",
      "\n",
      "Working on:\n",
      "NAlpha\\e3/e1\\e4/e2:\n",
      "element: -21*p2\n",
      "set orientation: [p1, p2]\n",
      "Volume: p1*p2\n",
      "NBeta\\e3/e1\\e4/e2:\n",
      "element: 143*p2\n",
      "set orientation: [p1, p2]\n",
      "Volume: p1*p2\n",
      "\n",
      "Working on:\n",
      "NAlpha\\e3/e1\\e4\\e2:\n",
      "element: 7*p1*p2\n",
      "set orientation: [p1, p2]\n",
      "Volume: p1*p2\n",
      "NBeta\\e3/e1\\e4\\e2:\n",
      "element: -13*p1*p2\n",
      "set orientation: [p1, p2]\n",
      "Volume: p1*p2\n",
      "\n",
      "Working on:\n",
      "NAlpha\\e3\\e1:\n",
      "element: p1*p2*e4 - 3*p2*e2*e4\n",
      "set orientation: [p1, p2, e2, e4]\n",
      "Volume: p1*p2*e2*e4\n",
      "NBeta\\e3\\e1:\n",
      "element: p1*p2*e4 - 11*p2*e2*e4\n",
      "set orientation: [p1, p2, e2, e4]\n",
      "Volume: p1*p2*e2*e4\n",
      "\n",
      " [e2, e4]\n",
      "Pick one:e2\n",
      "\n",
      "Working on:\n",
      "NAlpha\\e3\\e1/e2:\n",
      "element: 3*p2*e4\n",
      "set orientation: [p1, p2, e4]\n",
      "Volume: p1*p2*e4\n",
      "NBeta\\e3\\e1/e2:\n",
      "element: 11*p2*e4\n",
      "set orientation: [p1, p2, e4]\n",
      "Volume: p1*p2*e4\n",
      "\n",
      "Working on:\n",
      "NAlpha\\e3\\e1/e2/e4:\n",
      "element: 3*p2\n",
      "set orientation: [p1, p2]\n",
      "Volume: p1*p2\n",
      "NBeta\\e3\\e1/e2/e4:\n",
      "element: 11*p2\n",
      "set orientation: [p1, p2]\n",
      "Volume: p1*p2\n",
      "\n",
      "Working on:\n",
      "NAlpha\\e3\\e1/e2/e4:\n",
      "element: 3*p2\n",
      "set orientation: [p1, p2]\n",
      "Volume: p1*p2\n",
      "NBeta\\e3\\e1/e2/e4:\n",
      "element: 11*p2\n",
      "set orientation: [p1, p2]\n",
      "Volume: p1*p2\n",
      "\n",
      "Working on:\n",
      "NAlpha\\e3\\e1\\e2:\n",
      "element: p1*p2*e4\n",
      "set orientation: [p1, p2, e4]\n",
      "Volume: p1*p2*e4\n",
      "NBeta\\e3\\e1\\e2:\n",
      "element: p1*p2*e4\n",
      "set orientation: [p1, p2, e4]\n",
      "Volume: p1*p2*e4\n",
      "\n",
      "Working on:\n",
      "NAlpha\\e3\\e1\\e2/e4:\n",
      "element: p1*p2\n",
      "set orientation: [p1, p2]\n",
      "Volume: p1*p2\n",
      "NBeta\\e3\\e1\\e2/e4:\n",
      "element: p1*p2\n",
      "set orientation: [p1, p2]\n",
      "Volume: p1*p2\n",
      "\n",
      "Working on:\n",
      "NAlpha\\e3\\e1\\e2/e4:\n",
      "element: p1*p2\n",
      "set orientation: [p1, p2]\n",
      "Volume: p1*p2\n",
      "NBeta\\e3\\e1\\e2/e4:\n",
      "element: p1*p2\n",
      "set orientation: [p1, p2]\n",
      "Volume: p1*p2\n"
     ]
    }
   ],
   "source": [
    "TreeUVWY.autopick=False\n",
    "fooMan=TreeUVWY([e1,e2,e3,e4],ExtSNalpha,ExtSNbeta)"
   ]
  },
  {
   "cell_type": "code",
   "execution_count": 28,
   "id": "89f9f8c1",
   "metadata": {},
   "outputs": [
    {
     "data": {
      "text/plain": [
       "[((3, 4, 5), 6006*r3*g1*g2*g4*U),\n",
       " ((4,), -2790*r1*g2*g3*g4*V - 5610*r1*r4*g2*g3*W)]"
      ]
     },
     "execution_count": 28,
     "metadata": {},
     "output_type": "execute_result"
    }
   ],
   "source": [
    "(fooMan.TF-fooAuto.TF).list()"
   ]
  },
  {
   "cell_type": "code",
   "execution_count": 27,
   "id": "e1966c69",
   "metadata": {},
   "outputs": [
    {
     "data": {
      "text/plain": [
       "[((2, 3, 5), -91*r2*r3*g1*g4*U),\n",
       " ((2, 4, 5), 455*r2*g1*g3*g4*U),\n",
       " ((3, 4, 5), -3003*r3*g1*g2*g4*U),\n",
       " ((2, 3), r1*r2*r3*r4*W*Y - 91*r2*r3*r4*g1 + r1*r2*r3*g4),\n",
       " ((2, 4), -455*r2*r4*g1*g3 + 5*r1*r2*g3*g4),\n",
       " ((2, 5), -7735*r2*r4*g1*g3),\n",
       " ((3, 4), -33*r1*r3*r4*g2*W*Y + 3003*r3*r4*g1*g2 - 33*r1*r3*g2*g4),\n",
       " ((4, 5), -255255*g1*g2*g3*g4*U*V - 255255*r4*g1*g2*g3),\n",
       " ((2,), -85*r1*r2*r4*g3*W),\n",
       " ((4,), 2805*r1*g2*g3*g4*V + 2805*r1*r4*g2*g3*W)]"
      ]
     },
     "execution_count": 27,
     "metadata": {},
     "output_type": "execute_result"
    }
   ],
   "source": [
    "fooAuto.TF.list()"
   ]
  },
  {
   "cell_type": "code",
   "execution_count": null,
   "id": "44dca6a9",
   "metadata": {
    "scrolled": true
   },
   "outputs": [],
   "source": [
    "HAPPYMAYBE=LvSE(ExtSNalpha,ExtSNbeta.perp())\n",
    "HAPPYMAYBE.printme()\n",
    "HAPPYTWO=LhSE(ExtSNalpha,ExtSNbeta)\n",
    "HAPPYTWO.printme()\n",
    "HAPPYMAYBE.extN==HAPPYTWO.extN"
   ]
  },
  {
   "cell_type": "code",
   "execution_count": null,
   "id": "541947a2",
   "metadata": {},
   "outputs": [],
   "source": []
  },
  {
   "cell_type": "code",
   "execution_count": null,
   "id": "c49a4843",
   "metadata": {},
   "outputs": [],
   "source": []
  },
  {
   "cell_type": "code",
   "execution_count": null,
   "id": "664eff17",
   "metadata": {
    "scrolled": true
   },
   "outputs": [],
   "source": [
    "foo.printme()\n"
   ]
  },
  {
   "cell_type": "raw",
   "id": "88294371",
   "metadata": {},
   "source": [
    "foo.TF.list()"
   ]
  },
  {
   "cell_type": "code",
   "execution_count": null,
   "id": "29729cfc",
   "metadata": {},
   "outputs": [],
   "source": [
    "foo.printnode()"
   ]
  },
  {
   "cell_type": "code",
   "execution_count": null,
   "id": "4c44f607",
   "metadata": {},
   "outputs": [],
   "source": [
    "fooMan.printnode()"
   ]
  },
  {
   "cell_type": "code",
   "execution_count": null,
   "id": "589127cf",
   "metadata": {},
   "outputs": [],
   "source": [
    "fooAuto.printnode()"
   ]
  },
  {
   "cell_type": "code",
   "execution_count": null,
   "id": "f3ac4df9",
   "metadata": {},
   "outputs": [],
   "source": [
    "fooAuto.TF.list()"
   ]
  },
  {
   "cell_type": "code",
   "execution_count": null,
   "id": "58447889",
   "metadata": {},
   "outputs": [],
   "source": [
    "fooMan.TF.list()"
   ]
  },
  {
   "cell_type": "code",
   "execution_count": null,
   "id": "06374701",
   "metadata": {},
   "outputs": [],
   "source": []
  },
  {
   "cell_type": "code",
   "execution_count": null,
   "id": "cbeb6568",
   "metadata": {},
   "outputs": [],
   "source": []
  },
  {
   "cell_type": "code",
   "execution_count": null,
   "id": "7706e75a",
   "metadata": {
    "scrolled": true
   },
   "outputs": [],
   "source": [
    "ExtSNalpha.printme()"
   ]
  },
  {
   "cell_type": "code",
   "execution_count": null,
   "id": "a5c5484b",
   "metadata": {},
   "outputs": [],
   "source": []
  },
  {
   "cell_type": "code",
   "execution_count": null,
   "id": "96a57ae4",
   "metadata": {
    "scrolled": true
   },
   "outputs": [],
   "source": [
    "100-int(random()*50)"
   ]
  },
  {
   "cell_type": "code",
   "execution_count": null,
   "id": "63e8c477",
   "metadata": {},
   "outputs": [],
   "source": [
    "matrix(3,UN+UP,[100-int(random()*50) for i in range(0,18)])"
   ]
  },
  {
   "cell_type": "code",
   "execution_count": null,
   "id": "e586d5e7",
   "metadata": {},
   "outputs": [],
   "source": [
    "UR=3\n",
    "\n",
    "AM = matrix(3,UN+UP,[100-int(random()*50) for i in range(0,18)])\n",
    "BM =matrix(3,UN+UP,[100-int(random()*50) for i in range(0,18)])\n",
    "\n",
    "print(AM)\n",
    "print(BM)"
   ]
  },
  {
   "cell_type": "code",
   "execution_count": null,
   "id": "5e369136",
   "metadata": {},
   "outputs": [],
   "source": [
    "EAM=ExtSFromMatrix(AM)\n",
    "EBM=ExtSFromMatrix(BM)\n",
    "EAM.printme()\n",
    "EBM.printme()"
   ]
  },
  {
   "cell_type": "code",
   "execution_count": null,
   "id": "55786ae9",
   "metadata": {},
   "outputs": [],
   "source": [
    "bar=TreeUVWY([e1,e2,e3,e4],EAM,EBM,\"AL\",\"BE\")"
   ]
  },
  {
   "cell_type": "code",
   "execution_count": null,
   "id": "5c4b1af3",
   "metadata": {
    "scrolled": false
   },
   "outputs": [],
   "source": [
    "bar.printme()"
   ]
  },
  {
   "cell_type": "code",
   "execution_count": null,
   "id": "26dae0f8",
   "metadata": {},
   "outputs": [],
   "source": []
  },
  {
   "cell_type": "code",
   "execution_count": null,
   "id": "2e9fcb9e",
   "metadata": {},
   "outputs": [],
   "source": []
  },
  {
   "cell_type": "code",
   "execution_count": null,
   "id": "3e9c63dd",
   "metadata": {},
   "outputs": [],
   "source": []
  },
  {
   "cell_type": "code",
   "execution_count": null,
   "id": "9e9c24f4",
   "metadata": {
    "scrolled": true
   },
   "outputs": [],
   "source": [
    "for a in HAPPYTWO.extN.list():\n",
    "    print(a)"
   ]
  },
  {
   "cell_type": "code",
   "execution_count": null,
   "id": "ea586466",
   "metadata": {},
   "outputs": [],
   "source": [
    "def TestDeleContIdentity(ExtSNalpha,ExtSNbeta,e):\n",
    "    start=LhSE(ExtSNalpha,ExtSNbeta)\n",
    "    contr_alpha=ExtSNalpha.contraction(e)\n",
    "    contr_beta =ExtSNbeta.contraction(e)\n",
    "    delet_alpha=ExtSNalpha.deletion(e)\n",
    "    delet_beta =ExtSNbeta.deletion(e)\n",
    "    contrLE    =LhSE(contr_alpha,contr_beta)\n",
    "    deletLE    =LhSE(delet_alpha,delet_beta)\n",
    "    contrExt   =contrLE.extN\n",
    "    deletExt   =deletLE.extN\n",
    "    i=ExtSNalpha.seqS.index(e)-UP\n",
    "    ge=Gees[i]\n",
    "    re=Rrrs[i]\n",
    "    for a in start.extN.list():\n",
    "        print(a)\n",
    "    print()\n",
    "    for a in (ge*contrExt).list():\n",
    "        print(a)\n",
    "    print()\n",
    "    for a in (re*deletExt).list():\n",
    "        print(a)\n",
    "    \n",
    "    print(\"\\n\",start.extN==ge*contrExt+re*deletExt)"
   ]
  },
  {
   "cell_type": "code",
   "execution_count": null,
   "id": "ddc879ab",
   "metadata": {},
   "outputs": [],
   "source": [
    "TestDeleContIdentity(ExtSNalpha,ExtSNbeta,e4)"
   ]
  },
  {
   "cell_type": "code",
   "execution_count": null,
   "id": "ff2c5f06",
   "metadata": {},
   "outputs": [],
   "source": [
    "n=UN\n",
    "p=UP\n",
    "\n",
    "var('r cr')\n",
    "\n",
    "r = 3\n",
    "\n",
    "cr = n+p-r"
   ]
  },
  {
   "cell_type": "code",
   "execution_count": null,
   "id": "30cc7258",
   "metadata": {},
   "outputs": [],
   "source": [
    "#these will be overwritten when they are built from a graph below\n",
    "\n",
    "Nal =   matrix(Crg,  r,  n+p)\n",
    "NbePe = matrix(Crg, cr,  n+p)\n"
   ]
  },
  {
   "cell_type": "code",
   "execution_count": null,
   "id": "0259237e",
   "metadata": {},
   "outputs": [],
   "source": [
    "#\n",
    "# Supply a graph\n",
    "#\n",
    "Graph1MyEdges= [(2, 1, p1),(4, 3, p2),(1, 3, e1), (2, 3, e2), (4, 1, e3),(2, 4, e4)  ]\n",
    "#HA I can label the edges with Ext generators!\n",
    "\n",
    "Graph1=DiGraph([[1,2,3,4],Graph1MyEdges])\n",
    "\n",
    "pos_dict = {\n",
    " 1: [.33, .25],\n",
    " 2: [.33, 0],\n",
    " 3: [.6, .33],\n",
    " 4: [0.6, -.1]}\n",
    "\n",
    "myplot=Graph1.plot(edge_labels=True,vertex_labels=True,pos=pos_dict,save_pos=True)\n",
    "myplot.save(\"K4.pdf\")\n",
    "myplot"
   ]
  },
  {
   "cell_type": "code",
   "execution_count": null,
   "id": "dd834efe",
   "metadata": {},
   "outputs": [],
   "source": [
    "#Graph1.edges()\n",
    "\n",
    "NalFull=Graph1.incidence_matrix(oriented=True, edges=Graph1MyEdges)\n",
    "                       \n",
    "NalFull"
   ]
  },
  {
   "cell_type": "code",
   "execution_count": null,
   "id": "da295478",
   "metadata": {},
   "outputs": [],
   "source": [
    "temp=[i for i in range(r,Graph1.num_verts())]\n",
    "Nal=NalFull.delete_rows(temp)\n",
    "assert((Nal.nrows()==r) & (Nal.ncols()==n+p))\n",
    "Nal"
   ]
  },
  {
   "cell_type": "code",
   "execution_count": null,
   "id": "12d11aa8",
   "metadata": {},
   "outputs": [],
   "source": [
    "latex(Nal)"
   ]
  },
  {
   "cell_type": "code",
   "execution_count": null,
   "id": "6ffe1708",
   "metadata": {},
   "outputs": [],
   "source": [
    "NbePe=Nal.right_kernel().basis_matrix()\n",
    "NbePe"
   ]
  },
  {
   "cell_type": "code",
   "execution_count": null,
   "id": "15f8e85b",
   "metadata": {
    "scrolled": true
   },
   "outputs": [],
   "source": [
    "latex(NbePe)"
   ]
  },
  {
   "cell_type": "code",
   "execution_count": null,
   "id": "590c810b",
   "metadata": {},
   "outputs": [],
   "source": [
    "NalG=   Nal  *diagonal_matrix([1 for i in range(0,p)]+Gees)\n",
    "NbePeR= NbePe*diagonal_matrix([1 for i in range(0,p)]+Rrrs)"
   ]
  },
  {
   "cell_type": "code",
   "execution_count": null,
   "id": "f5903e6d",
   "metadata": {},
   "outputs": [],
   "source": [
    "latex(NalG)"
   ]
  },
  {
   "cell_type": "code",
   "execution_count": null,
   "id": "616318ab",
   "metadata": {},
   "outputs": [],
   "source": [
    "NbePeR"
   ]
  },
  {
   "cell_type": "code",
   "execution_count": null,
   "id": "acaff2c2",
   "metadata": {},
   "outputs": [],
   "source": [
    "latex(NbePeR)"
   ]
  },
  {
   "cell_type": "code",
   "execution_count": null,
   "id": "07d9108e",
   "metadata": {},
   "outputs": [],
   "source": [
    "Lal=NalG   * (matrix([Paas+Eees]).transpose());print(\"Lal:\\n\",Lal)\n",
    "Lbe=NbePeR * (matrix([Pbes+Eees]).transpose());print(\"\\nLbe:\\n\",Lbe)"
   ]
  },
  {
   "cell_type": "code",
   "execution_count": null,
   "id": "c0804540",
   "metadata": {},
   "outputs": [],
   "source": [
    "dictLal=Lal.dict();dictLal"
   ]
  },
  {
   "cell_type": "code",
   "execution_count": null,
   "id": "7de959ec",
   "metadata": {},
   "outputs": [],
   "source": [
    "dictLbe=Lbe.dict();dictLbe"
   ]
  },
  {
   "cell_type": "code",
   "execution_count": null,
   "id": "91b3c087",
   "metadata": {},
   "outputs": [],
   "source": [
    "ResAl=1\n",
    "for i in range(0,r):\n",
    "    ResAl=ResAl*(dictLal.get((i,0)))\n",
    "print(\"ResAl\\n\")\n",
    "print(ResAl)\n",
    "ResBe=1\n",
    "for i in range(0,cr):\n",
    "    ResBe=ResBe*(dictLbe.get((i,0)))\n",
    "print(\"\\nResBe\\n\")\n",
    "print(ResBe)\n",
    "Res=ResAl*ResBe\n",
    "\n",
    "LLL=Res\n",
    "\n",
    "#print(\"final result\")\n",
    "#print(Res)\n",
    "Reslist=Res.list()\n",
    "print(\"\\n Res list:\\n\")\n",
    "Reslist\n"
   ]
  },
  {
   "cell_type": "code",
   "execution_count": null,
   "id": "7dd6d48e",
   "metadata": {
    "scrolled": false
   },
   "outputs": [],
   "source": [
    "RESULT=0\n",
    "for thing in Reslist:\n",
    "    print(tuple(range(3*p,3*p+n)))\n",
    "    print(\"\\nTry:\",thing[0])\n",
    "    if thing[0][p:p+n]==tuple(range(3*p,3*p+n)):\n",
    "        print(\" \\n\", thing)\n",
    "        prgens=1\n",
    "        print(\"\\n\",thing[0][0:p])\n",
    "        for i in thing[0][0:p]:\n",
    "            prgens=prgens*(Ext.gens()[i])\n",
    "        print(\" \\nMonomial:\", prgens)\n",
    "        print(\"Coef:\",thing[1])\n",
    "        term = thing[1]*prgens\n",
    "#        print(\" \\n\", term)\n",
    "        RESULT = RESULT + term\n",
    "#print(\"\\nHERE IT IS:\", RESULT)"
   ]
  },
  {
   "cell_type": "code",
   "execution_count": null,
   "id": "3bc41617",
   "metadata": {
    "scrolled": true
   },
   "outputs": [],
   "source": [
    "RESULT.list()"
   ]
  },
  {
   "cell_type": "code",
   "execution_count": null,
   "id": "1f0eb38a",
   "metadata": {},
   "outputs": [],
   "source": [
    "RESULT==GREAT"
   ]
  },
  {
   "cell_type": "code",
   "execution_count": null,
   "id": "750c7740",
   "metadata": {},
   "outputs": [],
   "source": [
    "HAPPYMAYBE.extN==RESULT"
   ]
  },
  {
   "cell_type": "code",
   "execution_count": null,
   "id": "25d9c8cd",
   "metadata": {},
   "outputs": [],
   "source": [
    "TEST==RESULT"
   ]
  },
  {
   "cell_type": "code",
   "execution_count": null,
   "id": "5c22d7b0",
   "metadata": {},
   "outputs": [],
   "source": [
    "LLL"
   ]
  },
  {
   "cell_type": "code",
   "execution_count": null,
   "id": "88b4658d",
   "metadata": {},
   "outputs": [],
   "source": [
    "LLL"
   ]
  },
  {
   "cell_type": "code",
   "execution_count": null,
   "id": "673b16e8",
   "metadata": {},
   "outputs": [],
   "source": [
    "delete(LLL,e1)"
   ]
  },
  {
   "cell_type": "code",
   "execution_count": null,
   "id": "babb75ad",
   "metadata": {},
   "outputs": [],
   "source": [
    "contract(LLL,e1)\n"
   ]
  },
  {
   "cell_type": "code",
   "execution_count": null,
   "id": "747b2ff3",
   "metadata": {},
   "outputs": [],
   "source": [
    "delete_contract(LLL,e1)"
   ]
  },
  {
   "cell_type": "code",
   "execution_count": null,
   "id": "f4915806",
   "metadata": {},
   "outputs": [],
   "source": []
  }
 ],
 "metadata": {
  "kernelspec": {
   "display_name": "SageMath 9.6",
   "language": "sage",
   "name": "sagemath"
  },
  "language_info": {
   "codemirror_mode": {
    "name": "ipython",
    "version": 3
   },
   "file_extension": ".py",
   "mimetype": "text/x-python",
   "name": "python",
   "nbconvert_exporter": "python",
   "pygments_lexer": "ipython3",
   "version": "3.10.6"
  }
 },
 "nbformat": 4,
 "nbformat_minor": 5
}
