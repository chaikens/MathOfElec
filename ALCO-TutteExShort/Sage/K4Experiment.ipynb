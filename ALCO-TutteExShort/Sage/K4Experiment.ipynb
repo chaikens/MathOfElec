{
 "cells": [
  {
   "cell_type": "code",
   "execution_count": 10,
   "id": "0defdc10",
   "metadata": {},
   "outputs": [],
   "source": [
    "(g1,g2,g3,g4) = var(\" g1 g2 g3 g4\")"
   ]
  },
  {
   "cell_type": "code",
   "execution_count": 11,
   "id": "6ac5ab7d",
   "metadata": {},
   "outputs": [],
   "source": [
    "prod1 = (g1+g2)*(g3+g4)*(g1+g3)*(g2+g4)"
   ]
  },
  {
   "cell_type": "code",
   "execution_count": 12,
   "id": "305c44da",
   "metadata": {},
   "outputs": [],
   "source": [
    "prod2 = (g2*g3-g1*g4)^2"
   ]
  },
  {
   "cell_type": "code",
   "execution_count": 13,
   "id": "5e141328",
   "metadata": {},
   "outputs": [],
   "source": [
    "added=prod1+prod2\n",
    "subtracted=prod1-prod2"
   ]
  },
  {
   "cell_type": "code",
   "execution_count": 14,
   "id": "d86f64ed",
   "metadata": {},
   "outputs": [
    {
     "data": {
      "text/plain": [
       "(g1 + g2)*(g1 + g3)*(g2 + g4)*(g3 + g4) + (g2*g3 - g1*g4)^2"
      ]
     },
     "execution_count": 14,
     "metadata": {},
     "output_type": "execute_result"
    }
   ],
   "source": [
    "added"
   ]
  },
  {
   "cell_type": "code",
   "execution_count": 15,
   "id": "3b04e612",
   "metadata": {},
   "outputs": [
    {
     "data": {
      "text/plain": [
       "g1^2*g2*g3 + g1*g2^2*g3 + g1*g2*g3^2 + 2*g2^2*g3^2 + g1^2*g2*g4 + g1*g2^2*g4 + g1^2*g3*g4 + g2^2*g3*g4 + g1*g3^2*g4 + g2*g3^2*g4 + 2*g1^2*g4^2 + g1*g2*g4^2 + g1*g3*g4^2 + g2*g3*g4^2"
      ]
     },
     "execution_count": 15,
     "metadata": {},
     "output_type": "execute_result"
    }
   ],
   "source": [
    "factor(added)"
   ]
  },
  {
   "cell_type": "code",
   "execution_count": 16,
   "id": "dd062ed4",
   "metadata": {},
   "outputs": [
    {
     "data": {
      "text/plain": [
       "(g1*g2*g3 + g1*g2*g4 + g1*g3*g4 + g2*g3*g4)*(g1 + g2 + g3 + g4)"
      ]
     },
     "execution_count": 16,
     "metadata": {},
     "output_type": "execute_result"
    }
   ],
   "source": [
    "factor(subtracted)"
   ]
  },
  {
   "cell_type": "code",
   "execution_count": 17,
   "id": "6a7fac42",
   "metadata": {},
   "outputs": [],
   "source": [
    "g12 = g1+g2\n",
    "g34 = g3+g4\n",
    "g13 = g1+g3\n",
    "g24 = g2+g4\n",
    "gxx = g1*g4-g2*g3\n",
    "D = g1*g2*g3+g1*g2*g4+g1*g3*g4+g2*g3*g4"
   ]
  },
  {
   "cell_type": "code",
   "execution_count": 43,
   "id": "d94315cd",
   "metadata": {
    "scrolled": true
   },
   "outputs": [
    {
     "data": {
      "text/plain": [
       "[                      (g1 + g2)*(g3 + g4)                            -g2*g3 + g1*g4 g1*g2*g3 + g1*g2*g4 + g1*g3*g4 + g2*g3*g4                                         0]\n",
       "[                           -g2*g3 + g1*g4                       (g1 + g3)*(g2 + g4)                                         0 g1*g2*g3 + g1*g2*g4 + g1*g3*g4 + g2*g3*g4]"
      ]
     },
     "execution_count": 43,
     "metadata": {},
     "output_type": "execute_result"
    }
   ],
   "source": [
    "L1 = matrix([[g12*g34, gxx,     D,  0],\n",
    "             [gxx,     g13*g24,  0, D]])\n",
    "L1"
   ]
  },
  {
   "cell_type": "code",
   "execution_count": 48,
   "id": "b6926296",
   "metadata": {},
   "outputs": [
    {
     "data": {
      "text/plain": [
       "\\left(\\begin{array}{rrrr}\n",
       "{\\left(g_{1} + g_{2}\\right)} {\\left(g_{3} + g_{4}\\right)} & -g_{2} g_{3} + g_{1} g_{4} & g_{1} g_{2} g_{3} + g_{1} g_{2} g_{4} + g_{1} g_{3} g_{4} + g_{2} g_{3} g_{4} & 0 \\\\\n",
       "-g_{2} g_{3} + g_{1} g_{4} & {\\left(g_{1} + g_{3}\\right)} {\\left(g_{2} + g_{4}\\right)} & 0 & g_{1} g_{2} g_{3} + g_{1} g_{2} g_{4} + g_{1} g_{3} g_{4} + g_{2} g_{3} g_{4}\n",
       "\\end{array}\\right)"
      ]
     },
     "execution_count": 48,
     "metadata": {},
     "output_type": "execute_result"
    }
   ],
   "source": [
    "latex(L1)"
   ]
  },
  {
   "cell_type": "code",
   "execution_count": 52,
   "id": "a6eb2c54",
   "metadata": {
    "scrolled": true
   },
   "outputs": [
    {
     "data": {
      "text/plain": [
       "(g1 + g2)*(g1 + g3)*(g2 + g4)*(g3 + g4) - (g2*g3 - g1*g4)^2"
      ]
     },
     "execution_count": 52,
     "metadata": {},
     "output_type": "execute_result"
    }
   ],
   "source": [
    "L1[0,0]*L1[1,1] - L1[0,1]*L1[1,0]"
   ]
  },
  {
   "cell_type": "code",
   "execution_count": 53,
   "id": "0ebd0262",
   "metadata": {},
   "outputs": [
    {
     "data": {
      "text/plain": [
       "{\\left(g_{1} + g_{2}\\right)} {\\left(g_{1} + g_{3}\\right)} {\\left(g_{2} + g_{4}\\right)} {\\left(g_{3} + g_{4}\\right)} - {\\left(g_{2} g_{3} - g_{1} g_{4}\\right)}^{2}"
      ]
     },
     "execution_count": 53,
     "metadata": {},
     "output_type": "execute_result"
    }
   ],
   "source": [
    "latex(L1[0,0]*L1[1,1] - L1[0,1]*L1[1,0])"
   ]
  },
  {
   "cell_type": "code",
   "execution_count": 44,
   "id": "7b623765",
   "metadata": {},
   "outputs": [
    {
     "data": {
      "text/plain": [
       "(g1*g2*g3 + g1*g2*g4 + g1*g3*g4 + g2*g3*g4)*(g1 + g2 + g3 + g4)"
      ]
     },
     "execution_count": 44,
     "metadata": {},
     "output_type": "execute_result"
    }
   ],
   "source": [
    "L1[[0,1],[0,1]].det().factor()"
   ]
  },
  {
   "cell_type": "code",
   "execution_count": 45,
   "id": "02832ada",
   "metadata": {
    "scrolled": true
   },
   "outputs": [
    {
     "name": "stdout",
     "output_type": "stream",
     "text": [
      "\n",
      " 0 1\n",
      "(g1*g2*g3 + g1*g2*g4 + g1*g3*g4 + g2*g3*g4)*(g1 + g2 + g3 + g4)\n",
      "\n",
      " 0 2\n",
      "(g1*g2*g3 + g1*g2*g4 + g1*g3*g4 + g2*g3*g4)*(g2*g3 - g1*g4)\n",
      "\n",
      " 0 3\n",
      "(g1*g2*g3 + g1*g2*g4 + g1*g3*g4 + g2*g3*g4)*(g1 + g2)*(g3 + g4)\n",
      "\n",
      " 1 2\n",
      "-(g1*g2*g3 + g1*g2*g4 + g1*g3*g4 + g2*g3*g4)*(g1 + g3)*(g2 + g4)\n",
      "\n",
      " 1 3\n",
      "-(g1*g2*g3 + g1*g2*g4 + g1*g3*g4 + g2*g3*g4)*(g2*g3 - g1*g4)\n",
      "\n",
      " 2 3\n",
      "(g1*g2*g3 + g1*g2*g4 + g1*g3*g4 + g2*g3*g4)^2\n"
     ]
    }
   ],
   "source": [
    "for i in [0..2]:\n",
    "    for j in [i+1..3]:\n",
    "        print(\"\\n\",i,j)\n",
    "        print(L1[[0,1],[i,j]].det().factor())"
   ]
  },
  {
   "cell_type": "code",
   "execution_count": null,
   "id": "3ab9b358",
   "metadata": {},
   "outputs": [],
   "source": []
  }
 ],
 "metadata": {
  "kernelspec": {
   "display_name": "SageMath 9.6",
   "language": "sage",
   "name": "sagemath"
  },
  "language_info": {
   "codemirror_mode": {
    "name": "ipython",
    "version": 3
   },
   "file_extension": ".py",
   "mimetype": "text/x-python",
   "name": "python",
   "nbconvert_exporter": "python",
   "pygments_lexer": "ipython3",
   "version": "3.10.6"
  }
 },
 "nbformat": 4,
 "nbformat_minor": 5
}
