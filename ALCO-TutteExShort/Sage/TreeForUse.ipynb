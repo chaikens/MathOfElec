{
 "cells": [
  {
   "cell_type": "code",
   "execution_count": 44,
   "id": "259d6616",
   "metadata": {},
   "outputs": [],
   "source": [
    "#Incidence matrix for K4, opposite edges are ports\n",
    "NMatK4All = matrix(4, 6,\n",
    "    [[ 1, 0,  -1,  0,  1,   0],\n",
    "     [-1,  0,  0, -1,  0,  -1],\n",
    "     [ 0,  1,  1,  1,  0,   0],\n",
    "     [ 0, -1,  0,  0, -1,   1]\n",
    "    ])\n",
    "#delete the row with the most, all, neg signs to demo directed version better.\n",
    "NMatK4dRow1 = NMatK4All.delete_rows([1])\n",
    "#NMatK4dRow3 = NMatK4All.delete_rows([3])\n",
    "#use Sage's dualization and verify LATER it gives the same Grassmann rep. as ours.\n",
    "NMatK4Perp  = NMatK4dRow1.right_kernel_matrix()"
   ]
  },
  {
   "cell_type": "code",
   "execution_count": 45,
   "id": "f12e4c8d",
   "metadata": {},
   "outputs": [
    {
     "data": {
      "text/plain": [
       "\\left(\\begin{array}{rrrrrr}\n",
       "1 & 0 & -1 & 0 & 1 & 0 \\\\\n",
       "-1 & 0 & 0 & -1 & 0 & -1 \\\\\n",
       "0 & 1 & 1 & 1 & 0 & 0 \\\\\n",
       "0 & -1 & 0 & 0 & -1 & 1\n",
       "\\end{array}\\right)"
      ]
     },
     "execution_count": 45,
     "metadata": {},
     "output_type": "execute_result"
    }
   ],
   "source": [
    "latex(NMatK4All)"
   ]
  },
  {
   "cell_type": "code",
   "execution_count": 46,
   "id": "e53d1d7b",
   "metadata": {
    "scrolled": true
   },
   "outputs": [
    {
     "data": {
      "text/plain": [
       "[ 1  0 -1  0  1  0]\n",
       "[ 0  1  1  1  0  0]\n",
       "[ 0 -1  0  0 -1  1]"
      ]
     },
     "execution_count": 46,
     "metadata": {},
     "output_type": "execute_result"
    }
   ],
   "source": [
    "NMatK4dRow1"
   ]
  },
  {
   "cell_type": "code",
   "execution_count": 47,
   "id": "b130b51e",
   "metadata": {
    "scrolled": true
   },
   "outputs": [
    {
     "data": {
      "text/plain": [
       "\\left(\\begin{array}{rrrrrr}\n",
       "1 & 0 & -1 & 0 & 1 & 0 \\\\\n",
       "0 & 1 & 1 & 1 & 0 & 0 \\\\\n",
       "0 & -1 & 0 & 0 & -1 & 1\n",
       "\\end{array}\\right)"
      ]
     },
     "execution_count": 47,
     "metadata": {},
     "output_type": "execute_result"
    }
   ],
   "source": [
    "latex(NMatK4dRow1)"
   ]
  },
  {
   "cell_type": "code",
   "execution_count": 48,
   "id": "e347ff61",
   "metadata": {
    "scrolled": true
   },
   "outputs": [
    {
     "data": {
      "text/plain": [
       "[ 1  0  0  0 -1 -1]\n",
       "[ 0  1  0 -1  0  1]\n",
       "[ 0  0  1 -1  1  1]"
      ]
     },
     "execution_count": 48,
     "metadata": {},
     "output_type": "execute_result"
    }
   ],
   "source": [
    "NMatK4Perp"
   ]
  },
  {
   "cell_type": "code",
   "execution_count": 49,
   "id": "fabdddb8",
   "metadata": {
    "scrolled": true
   },
   "outputs": [
    {
     "data": {
      "text/plain": [
       "Free module of degree 6 and rank 3 over Integer Ring\n",
       "Echelon basis matrix:\n",
       "[  1   0   0   0  -1  17]\n",
       "[  0  13  -1   0   0 -13]\n",
       "[  0   0   0   1 -11 187]"
      ]
     },
     "execution_count": 49,
     "metadata": {},
     "output_type": "execute_result"
    }
   ],
   "source": [
    "#somewhat arbitrary and simple non-unimodular case, for investigation Tutte POLY extension.\n",
    "\n",
    "NMatGEN3loops = matrix(3,3+3,\n",
    "    [[ 1, 0,   0,  3,  0,   0],\n",
    "     [ 0,  1,  0,  0,  5,   0],\n",
    "     [ 0,  0,  7,  0,  0,   1]\n",
    "    ])\n",
    "\n",
    "NMatGENweird = matrix(3,3+3,\n",
    "    [[ 1, 0,   0,  11,  1,   0],\n",
    "     [ 0, 1,  13,   0,  0,   0],\n",
    "     [ 0, 1,   0,   0,  17,  1]\n",
    "    ])\n",
    "\n",
    "NMatGENweird.right_kernel()\n"
   ]
  },
  {
   "cell_type": "code",
   "execution_count": 57,
   "id": "589aee46",
   "metadata": {},
   "outputs": [
    {
     "name": "stdout",
     "output_type": "stream",
     "text": [
      "[ 53  68  70  97  64  87]\n",
      "[ 54  80  94  76 101  69]\n",
      "[ 72  80  71  89  72  91]\n",
      "\n",
      " [60 76 71 80 54 77]\n",
      "[74 93 54 78 74 84]\n",
      "[58 58 87 94 57 71]\n",
      "matrix(ZZ, [[53, 68, 70, 97, 64, 87], [54, 80, 94, 76, 101, 69], [72, 80, 71, 89, 72, 91]])\n",
      "matrix(ZZ, [[60, 76, 71, 80, 54, 77], [74, 93, 54, 78, 74, 84], [58, 58, 87, 94, 57, 71]])\n"
     ]
    }
   ],
   "source": [
    "#random positive integer matrices..\n",
    "\n",
    "NMatARand = matrix(3,3 + 3,[101-int(random()*50) for i in range(0,18)])\n",
    "NMatBRand = matrix(3,3 + 3,[101-int(random()*50) for i in range(0,18)])\n",
    "\n",
    "print(NMatARand)\n",
    "print(\"\\n\",NMatBRand)\n",
    "\n",
    "print(sage_input(NMatARand))\n",
    "print(sage_input(NMatBRand))\n"
   ]
  },
  {
   "cell_type": "code",
   "execution_count": 58,
   "id": "9e3a42b7",
   "metadata": {},
   "outputs": [],
   "source": [
    "#In case I want to repeat what I discover randomly\n",
    "\n",
    "NMatARandSaved = matrix(ZZ, [[97, 92, 78, 80, 83, 88], [80, 56, 76, 84, 83, 75], [71, 84, 89, 86, 98, 78]])\n",
    "\n",
    "NMatARandSaved = matrix(ZZ, [[54, 80, 83, 81, 98, 85], [78, 86, 89, 79, 70, 55], [66, 90, 67, 76, 71, 79]])"
   ]
  },
  {
   "cell_type": "code",
   "execution_count": 59,
   "id": "3d804707",
   "metadata": {},
   "outputs": [],
   "source": [
    "def removeNegs(M):\n",
    "    ret=matrix(M.nrows(),M.ncols(), lambda x, y : max(M[x,y],0))\n",
    "    return(ret)"
   ]
  },
  {
   "cell_type": "code",
   "execution_count": 60,
   "id": "fd57da97",
   "metadata": {},
   "outputs": [
    {
     "name": "stdout",
     "output_type": "stream",
     "text": [
      "[1 0 0 0 1 0]\n",
      "[0 0 0 0 0 0]\n",
      "[0 1 1 1 0 0]\n",
      "[0 0 0 0 0 1] \n",
      "\n",
      "[1 0 0 0 1 0]\n",
      "[0 1 1 1 0 0]\n",
      "[0 0 0 0 0 1] \n",
      "\n",
      "[ 1  0 -1  0  1  0]\n",
      "[ 0  1  1  1  0  0]\n",
      "[ 0 -1  0  0 -1  1] \n",
      "\n"
     ]
    }
   ],
   "source": [
    "# For directed graph MTT like cases\n",
    "\n",
    "NMatK4Pos = removeNegs (NMatK4All)\n",
    "print(NMatK4Pos,\"\\n\")\n",
    "NMatK4PosDelRow1=NMatK4Pos.delete_rows([1])\n",
    "print(NMatK4PosDelRow1,\"\\n\")\n",
    "print(NMatK4dRow1,\"\\n\")\n",
    "#print(NMatK4dRow3,\"\\n\")"
   ]
  },
  {
   "cell_type": "code",
   "execution_count": 61,
   "id": "824fa337",
   "metadata": {},
   "outputs": [],
   "source": [
    "#Set up of the exterior algebra requires a fixed universe\n",
    "\n",
    "# number of E and P elts in the universe\n",
    "var('UN,UP')\n",
    "UN=4; UP=2\n",
    "UR=3"
   ]
  },
  {
   "cell_type": "code",
   "execution_count": 62,
   "id": "007d3801",
   "metadata": {},
   "outputs": [
    {
     "name": "stdout",
     "output_type": "stream",
     "text": [
      "Defining r1, r2, r3, r4, g1, g2, g3, g4, U, V, W, Y\n",
      "Defining p1, p2, pa1, pa2, pb1, pb2, e1, e2, e3, e4\n"
     ]
    }
   ],
   "source": [
    "Crg = PolynomialRing(RationalField(),\n",
    "                     ['r%s'%i for i in range(1, UN+1)] + ['g%s'%i for i in range(1, UN+1)]\n",
    "                    + ['U','V','W','Y'])\n",
    "Crg.inject_variables()\n",
    "\n",
    "\n",
    "#CrgF=Crg.fraction_field()\n",
    "#CrgF.inject_variables()\n",
    "#THIS FAILS WHEN WE TRY TO MULTIPLY AN EXTERIOR ALG ELE BY A POLY. GENERATOR\n",
    "\n",
    "Ext=\\\n",
    "    ExteriorAlgebra(Crg,\\\n",
    "        ['p%s'%i  for i in range(1, UP+1)]+\\\n",
    "        ['pa%s'%i for i in range(1, UP+1)]+\\\n",
    "        ['pb%s'%i for i in range(1, UP+1)]+\\\n",
    "        ['e%s'%i  for i in range(1, UN+1)])\n",
    "Ext.inject_variables() \n",
    "\n",
    "Rrrs=[Crg.gen(i)    for i in range(0, UN)]\n",
    "Gees=[Crg.gen(i)    for i in range(UN, 2*UN)]\n",
    "Pees=[Ext.gen(i)    for i in range(0, UP)]\n",
    "Paas=[Ext.gen(i)    for i in range(UP, 2*UP)]\n",
    "Pbes=[Ext.gen(i)    for i in range(2*UP, 3*UP)]\n",
    "Eees=[Ext.gen(i)    for i in range(3*UP, 3*UP+UN)]\n",
    "\n",
    "NSeq=Pees+Eees\n",
    "PEVol=prod(NSeq)\n",
    "EVol=prod(Eees)\n",
    "\n",
    "def RofE(e):\n",
    "    return(Rrrs[Eees.index(e)])\n",
    "def GofE(e):\n",
    "    return(Gees[Eees.index(e)])\n",
    "\n",
    "diagRrrs=diagonal_matrix(Rrrs)\n",
    "diagGees=diagonal_matrix(Gees)\n",
    "\n",
    "matII=block_matrix([[matrix(UP)         ,matrix(UP)    ,matrix(UP)   ,matrix(UP,UN)],\n",
    "                    [identity_matrix(UP),matrix(UP)    ,matrix(UP)   ,matrix(UP,UN)],       \n",
    "                    [matrix(UP)         ,matrix(UP)    ,matrix(UP)   ,matrix(UP,UN)],\n",
    "                    [matrix(UN,UP)      ,matrix(UN,UP) ,matrix(UN,UP),diagGees     ]\n",
    "                   ])\n",
    "matVV=block_matrix([[matrix(UP)         ,matrix(UP)    ,matrix(UP)   ,matrix(UP,UN)],\n",
    "                    [matrix(UP)         ,matrix(UP)    ,matrix(UP)   ,matrix(UP,UN)],       \n",
    "                    [identity_matrix(UP),matrix(UP)    ,matrix(UP)   ,matrix(UP,UN)],\n",
    "                    [matrix(UN,UP)      ,matrix(UN,UP) ,matrix(UN,UP),diagRrrs     ]\n",
    "                   ])\n",
    "\n",
    "II=Ext.lift_module_morphism(matII)\n",
    "VV=Ext.lift_module_morphism(matVV)\n"
   ]
  },
  {
   "cell_type": "code",
   "execution_count": 67,
   "id": "0517848b",
   "metadata": {},
   "outputs": [
    {
     "name": "stdout",
     "output_type": "stream",
     "text": [
      "Lal:\n",
      " [ pa1 - g1*e1 + g3*e3]\n",
      "[-pa1 - g2*e2 - g4*e4]\n",
      "[ pa2 + g1*e1 + g2*e2]\n",
      "\n",
      "Lbe:\n",
      " [          pb1 - r3*e3 - r4*e4]\n",
      "[          pb2 - r2*e2 + r4*e4]\n",
      "[r1*e1 - r2*e2 + r3*e3 + r4*e4]\n",
      "ResAl\n",
      "\n",
      "g1*pa1*pa2*e1 + g2*pa1*pa2*e2 - g3*pa1*pa2*e3 + g4*pa1*pa2*e4 - g1*g3*pa1*e1*e3 + g1*g4*pa1*e1*e4 - g2*g3*pa1*e2*e3 + g2*g4*pa1*e2*e4 + g1*g2*pa2*e1*e2 + g1*g4*pa2*e1*e4 + g2*g3*pa2*e2*e3 - g3*g4*pa2*e3*e4 + g1*g2*g3*e1*e2*e3 - g1*g2*g4*e1*e2*e4 - g1*g3*g4*e1*e3*e4 - g2*g3*g4*e2*e3*e4\n",
      "\n",
      "ResBe\n",
      "\n",
      "r1*pb1*pb2*e1 - r2*pb1*pb2*e2 + r3*pb1*pb2*e3 + r4*pb1*pb2*e4 + r1*r2*pb1*e1*e2 - r1*r4*pb1*e1*e4 - r2*r3*pb1*e2*e3 - r3*r4*pb1*e3*e4 - r1*r3*pb2*e1*e3 - r1*r4*pb2*e1*e4 + r2*r3*pb2*e2*e3 + r2*r4*pb2*e2*e4 - r1*r2*r3*e1*e2*e3 - r1*r2*r4*e1*e2*e4 - r1*r3*r4*e1*e3*e4 + r2*r3*r4*e2*e3*e4\n",
      "\n",
      " Res list:\n",
      "\n",
      "[((2, 3, 4, 5, 6, 7), -r2*g1 - r1*g2), ((2, 3, 4, 5, 6, 8), r3*g1 + r1*g3), ((2, 3, 4, 5, 6, 9), r4*g1 - r1*g4), ((2, 3, 4, 5, 7, 8), r3*g2 - r2*g3), ((2, 3, 4, 5, 7, 9), r4*g2 + r2*g4), ((2, 3, 4, 5, 8, 9), -r4*g3 - r3*g4), ((2, 3, 4, 6, 7, 8), r2*r3*g1 + r1*r2*g3), ((2, 3, 4, 6, 7, 9), -r1*r4*g2 - r1*r2*g4), ((2, 3, 4, 6, 8, 9), r3*r4*g1 + r1*r4*g3), ((2, 3, 4, 7, 8, 9), r3*r4*g2 + r2*r3*g4), ((2, 3, 5, 6, 7, 8), -r2*r3*g1 - r1*r3*g2), ((2, 3, 5, 6, 7, 9), -r2*r4*g1 - r1*r4*g2), ((2, 3, 5, 6, 8, 9), r1*r4*g3 + r1*r3*g4), ((2, 3, 5, 7, 8, 9), -r2*r4*g3 - r2*r3*g4), ((2, 3, 6, 7, 8, 9), r2*r3*r4*g1 + r1*r3*r4*g2 + r1*r2*r4*g3 + r1*r2*r3*g4), ((2, 4, 5, 6, 7, 8), -r2*g1*g3 - r1*g2*g3), ((2, 4, 5, 6, 7, 9), r2*g1*g4 + r1*g2*g4), ((2, 4, 5, 6, 8, 9), -r4*g1*g3 - r3*g1*g4), ((2, 4, 5, 7, 8, 9), -r4*g2*g3 - r3*g2*g4), ((2, 4, 6, 7, 8, 9), r1*r4*g2*g3 - r2*r3*g1*g4), ((2, 5, 6, 7, 8, 9), r2*r4*g1*g3 + r1*r4*g2*g3 + r2*r3*g1*g4 + r1*r3*g2*g4), ((3, 4, 5, 6, 7, 8), r3*g1*g2 + r1*g2*g3), ((3, 4, 5, 6, 7, 9), r4*g1*g2 + r2*g1*g4), ((3, 4, 5, 6, 8, 9), -r3*g1*g4 - r1*g3*g4), ((3, 4, 5, 7, 8, 9), r4*g2*g3 + r2*g3*g4), ((3, 4, 6, 7, 8, 9), -r3*r4*g1*g2 - r1*r4*g2*g3 - r2*r3*g1*g4 - r1*r2*g3*g4), ((3, 5, 6, 7, 8, 9), -r1*r4*g2*g3 + r2*r3*g1*g4), ((4, 5, 6, 7, 8, 9), r4*g1*g2*g3 + r3*g1*g2*g4 + r2*g1*g3*g4 + r1*g2*g3*g4)]\n",
      "\n",
      "HERE IT IS: (r2*r3*r4*g1 + r1*r3*r4*g2 + r1*r2*r4*g3 + r1*r2*r3*g4)*pa1*pa2 + (r1*r4*g2*g3 - r2*r3*g1*g4)*pa1*pb1 + (r2*r4*g1*g3 + r1*r4*g2*g3 + r2*r3*g1*g4 + r1*r3*g2*g4)*pa1*pb2 + (-r3*r4*g1*g2 - r1*r4*g2*g3 - r2*r3*g1*g4 - r1*r2*g3*g4)*pa2*pb1 + (-r1*r4*g2*g3 + r2*r3*g1*g4)*pa2*pb2 + (r4*g1*g2*g3 + r3*g1*g2*g4 + r2*g1*g3*g4 + r1*g2*g3*g4)*pb1*pb2\n"
     ]
    }
   ],
   "source": [
    "#Generating an example from the K4 graph\n",
    "#might be useful for other graphs.\n",
    "\n",
    "#this block also contains old code for calculating the Ext Tutte fun \"by hand\"\n",
    "\n",
    "\n",
    "n=UN\n",
    "p=UP\n",
    "\n",
    "var('r cr')\n",
    "\n",
    "r = 3\n",
    "\n",
    "cr = n+p-r\n",
    "\n",
    "#these will be overwritten when they are built from a graph below\n",
    "\n",
    "Nal =   matrix(Crg,  r,  n+p)\n",
    "NbePe = matrix(Crg, cr,  n+p)\n",
    "\n",
    "\n",
    "#\n",
    "# Supply a graph\n",
    "#\n",
    "Graph1MyEdges= [(2, 1, p1),(4, 3, p2),(1, 3, e1), (2, 3, e2), (4, 1, e3),(2, 4, e4)  ]\n",
    "#HA I can label the edges with Ext generators!\n",
    "\n",
    "Graph1=DiGraph([[1,2,3,4],Graph1MyEdges])\n",
    "\n",
    "pos_dict = {\n",
    " 1: [.33, .25],\n",
    " 2: [.33, 0],\n",
    " 3: [.6, .33],\n",
    " 4: [0.6, -.1]}\n",
    "\n",
    "myplot=Graph1.plot(edge_labels=True,vertex_labels=True,pos=pos_dict,save_pos=True)\n",
    "myplot.save(\"K4.pdf\")\n",
    "myplot\n",
    "\n",
    "#Graph1.edges()\n",
    "\n",
    "NalFull=Graph1.incidence_matrix(oriented=True, edges=Graph1MyEdges)\n",
    "                       \n",
    "NalFull\n",
    "\n",
    "temp=[i for i in range(r,Graph1.num_verts())]\n",
    "Nal=NalFull.delete_rows(temp)\n",
    "assert((Nal.nrows()==r) & (Nal.ncols()==n+p))\n",
    "Nal\n",
    "\n",
    "latex(Nal)\n",
    "\n",
    "NbePe=Nal.right_kernel().basis_matrix()\n",
    "NbePe\n",
    "\n",
    "latex(NbePe)\n",
    "\n",
    "NalG=   Nal  *diagonal_matrix([1 for i in range(0,p)]+Gees)\n",
    "NbePeR= NbePe*diagonal_matrix([1 for i in range(0,p)]+Rrrs)\n",
    "\n",
    "latex(NalG)\n",
    "\n",
    "NbePeR\n",
    "\n",
    "latex(NbePeR)\n",
    "\n",
    "Lal=NalG   * (matrix([Paas+Eees]).transpose());print(\"Lal:\\n\",Lal)\n",
    "Lbe=NbePeR * (matrix([Pbes+Eees]).transpose());print(\"\\nLbe:\\n\",Lbe)\n",
    "\n",
    "dictLal=Lal.dict();dictLal\n",
    "\n",
    "dictLbe=Lbe.dict();dictLbe\n",
    "\n",
    "ResAl=1\n",
    "for i in range(0,r):\n",
    "    ResAl=ResAl*(dictLal.get((i,0)))\n",
    "print(\"ResAl\\n\")\n",
    "print(ResAl)\n",
    "ResBe=1\n",
    "for i in range(0,cr):\n",
    "    ResBe=ResBe*(dictLbe.get((i,0)))\n",
    "print(\"\\nResBe\\n\")\n",
    "print(ResBe)\n",
    "Res=ResAl*ResBe\n",
    "\n",
    "LLL=Res\n",
    "\n",
    "#print(\"final result\")\n",
    "#print(Res)\n",
    "Reslist=Res.list()\n",
    "print(\"\\n Res list:\\n\")\n",
    "print(Reslist)\n",
    "\n",
    "\n",
    "RESULT=0\n",
    "for thing in Reslist:\n",
    "    #print(tuple(range(3*p,3*p+n)))\n",
    "    #print(\"\\nTry:\",thing[0])\n",
    "    if thing[0][p:p+n]==tuple(range(3*p,3*p+n)):\n",
    "    #    print(\" \\n\", thing)\n",
    "        prgens=1\n",
    "    #    print(\"\\n\",thing[0][0:p])\n",
    "        for i in thing[0][0:p]:\n",
    "            prgens=prgens*(Ext.gens()[i])\n",
    "    #    print(\" \\nMonomial:\", prgens)\n",
    "    #    print(\"Coef:\",thing[1])\n",
    "        term = thing[1]*prgens\n",
    "    #     print(\" \\n\", term)\n",
    "        RESULT = RESULT + term\n",
    "        \n",
    "print(\"\\nHERE IT IS:\", RESULT)"
   ]
  },
  {
   "cell_type": "code",
   "execution_count": 68,
   "id": "ff2c5f06",
   "metadata": {
    "scrolled": false
   },
   "outputs": [
    {
     "data": {
      "image/png": "[encoded data removed]",
      "text/plain": [
       "Graphics object consisting of 17 graphics primitives"
      ]
     },
     "execution_count": 68,
     "metadata": {},
     "output_type": "execute_result"
    }
   ],
   "source": [
    "myplot\n",
    "#do not use show since it is computer"
   ]
  },
  {
   "cell_type": "code",
   "execution_count": null,
   "id": "8f0e469d",
   "metadata": {},
   "outputs": [],
   "source": []
  },
  {
   "cell_type": "code",
   "execution_count": 13,
   "id": "65c03908",
   "metadata": {},
   "outputs": [],
   "source": [
    "#Exterior Algebra operations only\n",
    "#Exterior Algebra with ground set operations are defined later.\n",
    "\n",
    "\n",
    "def contract(X,E):\n",
    "    #only contract by monomials\n",
    "    #Is used to implement LvSE and LhSE contraction where the ground set is Palpha+Pbeta+E\n",
    "    assert (E.length()==1)\n",
    "    return (X.interior_product(E)*(-1)^(E.degree()*(X.degree()-E.degree())))\n",
    "\n",
    "def delete(X,e):\n",
    "    #the subtraction formula only works for vectors.\n",
    "    assert (e.degree()==1 & e.length()==1)\n",
    "    return (X - contract(X,e)*e)\n",
    "\n",
    "def delete_contract(X,e):\n",
    "    #only contract by monomials\n",
    "    assert (e.degree()==1 & e.length()==1)\n",
    "    contr = X.interior_product(e)*(-1)^(e.degree()*(X.degree()-e.degree()))\n",
    "    dele = X - contr*e\n",
    "    return (dele, contr)\n",
    "\n",
    "def perp(VOL,N):\n",
    "    return (VOL.interior_product(N))"
   ]
  },
  {
   "cell_type": "code",
   "execution_count": 14,
   "id": "4ba2ddc2",
   "metadata": {
    "scrolled": false
   },
   "outputs": [],
   "source": [
    "#Exterior algebra elements with ground sequenced ground set\n",
    "class ExtS:\n",
    "    def __init__(this, extN, seqS):\n",
    "        this.extN = extN\n",
    "        this.seqS = copy(seqS)\n",
    "        this._set_VOL()      \n",
    "    \n",
    "    def contraction(this,e):\n",
    "        #does only one\n",
    "        assert (e.length()==1 & e.degree()==1)\n",
    "        result = this._copy_remove(e)\n",
    "        result.extN = contract(result.extN,e)\n",
    "        return (result)\n",
    "    def deletion(this,e):\n",
    "        #does only one\n",
    "        assert (e.length()==1 & e.degree()==1)  \n",
    "        result = this._copy_remove(e)\n",
    "        result.extN = delete(result.extN,e)\n",
    "        return (result)\n",
    "    def perp(this):\n",
    "        result=this._copy()\n",
    "        result.extN = perp(this.VOL, this.extN)\n",
    "        return (result)\n",
    "    \n",
    "    def printme(this):\n",
    "        print(\"element:\",this.extN)\n",
    "        print(\"\\nList Form:\",this.extN.list())\n",
    "        print(\"set orientation:\",this.seqS)\n",
    "        print(\"Volume:\",this.VOL)\n",
    "        \n",
    "    def _set_VOL(this):\n",
    "        acc = 1\n",
    "        for v in this.seqS:\n",
    "            acc = acc*v\n",
    "        this.VOL = acc\n",
    "    def _copy(this):\n",
    "        return ExtS(this.extN, this.seqS)    \n",
    "    def _copy_remove(this,e):\n",
    "        result = this._copy()\n",
    "        result.seqS.remove(e)\n",
    "        result._set_VOL()\n",
    "        return(result)\n",
    "\n"
   ]
  },
  {
   "cell_type": "code",
   "execution_count": 15,
   "id": "9b0ad78f",
   "metadata": {
    "scrolled": false
   },
   "outputs": [],
   "source": [
    "def ExtFromMatrix(NMat):\n",
    "    ExtCol=NMat*(matrix([NSeq]).transpose())\n",
    "    ExtRes=1\n",
    "    for i in range(0,ExtCol.nrows()):\n",
    "        ExtRes=ExtRes*ExtCol[i,0]\n",
    "    return ExtRes\n",
    "\n",
    "def ExtSFromExt(extN):\n",
    "    seq=list(extN.parent().gens()[0:UP])+list(extN.parent().gens()[3*UP:])\n",
    "    return (ExtS(extN, seq))\n",
    "\n",
    "def ExtSFromMatrix(Matr):\n",
    "    extN=ExtFromMatrix(Matr)\n",
    "    return (ExtSFromExt(extN))\n"
   ]
  },
  {
   "cell_type": "code",
   "execution_count": 16,
   "id": "2eee68a5",
   "metadata": {},
   "outputs": [],
   "source": [
    "def LvS(ExtStop,ExtSbot):\n",
    "    assert ((ExtStop.extN.parent()==ExtSbot.extN.parent()) & \n",
    "            (ExtStop.seqS==ExtSbot.seqS))\n",
    "    newSeq=list(ExtStop.extN.parent().gens()[UP:3*UP])+ExtStop.seqS[UP:]\n",
    "    newExt=II(ExtStop.extN)*VV(ExtSbot.extN)\n",
    "    return ExtS(newExt,newSeq)\n",
    "def LvSE(ExtStop,ExtSbot):\n",
    "    LvSret=LvS(ExtStop,ExtSbot)\n",
    "    ESeq=list(ExtStop.seqS[UP:])\n",
    "    PaPbSeq=list(ExtStop.extN.parent().gens()[UP:3*UP])\n",
    "    EE=1\n",
    "    for v in ESeq:\n",
    "        EE=EE*v\n",
    "    newExt=contract(LvSret.extN,EE)\n",
    "    return( ExtS(newExt,PaPbSeq))\n",
    "def LhS(Extleft,Extright):\n",
    "    return LvS(Extleft,Extright.perp())\n",
    "def LhSE(Extleft,Extright):\n",
    "    return LvSE(Extleft,Extright.perp())"
   ]
  },
  {
   "cell_type": "code",
   "execution_count": 17,
   "id": "67b7f304",
   "metadata": {},
   "outputs": [],
   "source": [
    "def nstr(n):\n",
    "    st=\"\"\n",
    "    for l in [\"%s\"%i for i in range(1,n+1)]:\n",
    "        st=st+l\n",
    "    return st\n",
    "\n",
    "\n",
    "class Tree():\n",
    "    autopick = True\n",
    "    debug = False\n",
    "    def __init__(self,seq,Nalpha,Nbeta,nameAlpha=\"NAlpha\",nameBeta=\"NBeta\",parent=None):\n",
    "        self.Nalpha=Nalpha\n",
    "        self.Nbeta =Nbeta\n",
    "        self.nameAlpha=nameAlpha\n",
    "        self.nameBeta=nameBeta\n",
    "        self.seq = seq\n",
    "        self.parent = parent\n",
    "        if not Tree.autopick or Tree.debug:\n",
    "            print(\"\\nWorking on:\")\n",
    "            print(nameAlpha+\":\")\n",
    "            self.Nalpha.printme()\n",
    "            print(nameBeta+\":\")\n",
    "            self.Nbeta.printme()\n",
    "        if len(seq) != 0:\n",
    "            if len(seq) == 1:\n",
    "                self.e = seq[0]\n",
    "            else:\n",
    "                if Tree.autopick:\n",
    "                    self.e = seq[0]\n",
    "                else:\n",
    "                    print(\"\\n\",seq)\n",
    "                    self.e = eval(input(\"Pick one:\"))\n",
    "            #print(self.e)\n",
    "            nseq=copy(seq)\n",
    "            nseq.remove(self.e)\n",
    "            if Tree.debug: print(\"Make contr subtree:\") \n",
    "            estr=self.e.__repr__() \n",
    "            self.contrchild=Tree(nseq,self.Nalpha.contraction(self.e),self.Nbeta.contraction(self.e),\n",
    "                                 self.nameAlpha+\"/\"+estr,self.nameBeta+\"/\"+estr, self)\n",
    "            if Tree.debug: print(\"\\nMake delet subtree:\")\n",
    "            self.deletchild=Tree(nseq,Nalpha.deletion(self.e),Nbeta.deletion(self.e),\n",
    "                                 self.nameAlpha+\"\\\\\"+estr, self.nameBeta+\"\\\\\"+estr, self)\n",
    "            self.TF=GofE(self.e)*self.contrchild.TF+RofE(self.e)*self.deletchild.TF\n",
    "        else:\n",
    "            self.contrchild = None\n",
    "            self.deletchild = None\n",
    "            if Tree.debug: self.Nalpha.printme()\n",
    "            if Tree.debug: self.Nbeta.printme()\n",
    "            self.TF=II(self.Nalpha.extN)*VV(perp(self.Nbeta.VOL,self.Nbeta.extN))\n",
    "    \n",
    "    def printnode(self):\n",
    "        print(self.nameAlpha)\n",
    "        self.Nalpha.printme()\n",
    "        print(self.nameBeta)\n",
    "        self.Nbeta.printme()\n",
    "        print(self.seq)\n",
    "        if self.contrchild:            \n",
    "            print(self.contrchild.nameAlpha,self.contrchild.nameBeta)\n",
    "        else:\n",
    "            print(\"No contraction child.\")\n",
    "        if self.deletchild:\n",
    "            print(self.deletchild.nameAlpha,self.deletchild.nameBeta)\n",
    "        else:\n",
    "            print(\"No contraction child.\")\n",
    "        print(self.TF)\n",
    "\n",
    "    def printme(self,depth=0):\n",
    "        print('\\n'+(nstr(depth))+\"Node:\",self.seq)\n",
    "        print(('--'*depth)+self.nameAlpha)\n",
    "        self.Nalpha.printme()\n",
    "        print(('--'*depth)+self.nameBeta)\n",
    "        self.Nbeta.printme()\n",
    "        if(self.contrchild):\n",
    "            self.contrchild.printme(depth+1)\n",
    "        if(self.deletchild):\n",
    "            self.deletchild.printme(depth+1)\n",
    "            \n",
    "        "
   ]
  },
  {
   "cell_type": "code",
   "execution_count": 18,
   "id": "16fed270",
   "metadata": {},
   "outputs": [],
   "source": [
    "\n",
    "\n",
    "class TreeUVWY():\n",
    "    autopick = True\n",
    "    debug = False\n",
    "    def __init__(self,seq,Nalpha,Nbeta,\n",
    "                 nameAlpha=\"NAlpha\",nameBeta=\"NBeta\",parent=None):\n",
    "\n",
    "        self.Nalpha=Nalpha \n",
    "        self.Nbeta =Nbeta\n",
    "        self.nameAlpha=nameAlpha\n",
    "        self.nameBeta=nameBeta\n",
    "        self.seq = seq\n",
    "        self.parent = parent\n",
    "        if (not TreeUVWY.autopick) or TreeUVWY.debug:\n",
    "            print(\"\\nWorking on:\")\n",
    "            print(nameAlpha+\":\")\n",
    "            self.Nalpha.printme()\n",
    "            print(nameBeta+\":\")\n",
    "            self.Nbeta.printme()\n",
    "        \n",
    "        self.leftchild = None\n",
    "        self.rightchild = None\n",
    "        \n",
    "        if (self.Nalpha.extN == 0 and self.Nbeta.extN == 0):\n",
    "            if TreeUVWY.debug: self.Nalpha.printme()\n",
    "            if TreeUVWY.debug: self.Nbeta.printme()\n",
    "            self.TF=0\n",
    "            return\n",
    "        if len(seq) != 0:\n",
    "            if len(seq) == 1:\n",
    "                self.e = seq[0]\n",
    "            else:\n",
    "                if TreeUVWY.autopick:\n",
    "                    self.e = seq[0]\n",
    "                else:\n",
    "                    print(\"\\n\",seq)\n",
    "                    self.e = eval(input(\"Pick one:\"))\n",
    "            #print(self.e)\n",
    "            nseq=copy(seq)\n",
    "            nseq.remove(self.e)\n",
    "            estr=self.e.__repr__()\n",
    "            CA=Nalpha.contraction(self.e)\n",
    "            CB=self.Nbeta.contraction(self.e)\n",
    "            DA=Nalpha.deletion(self.e)\n",
    "            DB=Nbeta.deletion(self.e)\n",
    "            \n",
    "            Lcoef=0\n",
    "            Rcoef=0\n",
    "            \n",
    "            if (CA.extN != 0 and CB.extN != 0):\n",
    "                self.leftchild=TreeUVWY(nseq, CA, CB, self.nameAlpha+\"/\"+estr,self.nameBeta+\"/\"+estr, self)\n",
    "                Lcoef=GofE(self.e)\n",
    "            if (CA.extN != 0 and CB.extN == 0):\n",
    "                self.leftchild=TreeUVWY(nseq, CA, DB, self.nameAlpha+\"/\"+estr,self.nameBeta+\"\\\\\"+estr, self)\n",
    "                Lcoef=V*GofE(self.e)\n",
    "            if (CA.extN == 0 and CB.extN != 0):\n",
    "                self.leftchild=TreeUVWY(nseq, DA, CB, self.nameAlpha+\"\\\\\"+estr,self.nameBeta+\"/\"+estr, self)\n",
    "                Lcoef=U*GofE(self.e)\n",
    "            if (CA.extN == 0 and CB.extN == 0):\n",
    "                self.leftchild=TreeUVWY(nseq, DA, DB, self.nameAlpha+\"\\\\\"+estr,self.nameBeta+\"\\\\\"+estr, self)\n",
    "                Lcoef=U*V*GofE(self.e)\n",
    "                \n",
    "            if (DA.extN != 0 and DB.extN != 0):\n",
    "                self.rightchild=TreeUVWY(nseq, DA, DB, self.nameAlpha+\"\\\\\"+estr,self.nameBeta+\"\\\\\"+estr,self)\n",
    "                Rcoef=RofE(self.e)\n",
    "            if (DA.extN != 0 and DB.extN == 0):\n",
    "                self.rightchild=TreeUVWY(nseq, DA, CB, self.nameAlpha+\"\\\\\"+estr,self.nameBeta+\"/\"+estr,self)\n",
    "                Rcoef=Y*RofE(self.e)\n",
    "            if (DA.extN == 0 and DB.extN != 0):\n",
    "                self.rightchild=TreeUVWY(nseq, CA, DB, self.nameAlpha+\"/\"+estr,self.nameBeta+\"\\\\\"+estr,self)\n",
    "                Rcoef=W*RofE(self.e)\n",
    "            if (DA.extN == 0 and DB.extN == 0):\n",
    "                self.rightchild=TreeUVWY(nseq, CA, CB, self.nameAlpha+\"/\"+estr,self.nameBeta+\"/\"+estr,self)\n",
    "                Rcoef=W*Y*RofE(self.e)\n",
    "            \n",
    "            self.TF=Lcoef*self.leftchild.TF+Rcoef*self.rightchild.TF\n",
    "        else:\n",
    "            self.contrchild = None\n",
    "            self.deletchild = None\n",
    "            if Tree.debug: self.Nalpha.printme()\n",
    "            if Tree.debug: self.Nbeta.printme()\n",
    "            self.TF=II(self.Nalpha.extN)*VV(perp(self.Nbeta.VOL,self.Nbeta.extN))\n",
    "    \n",
    "    def printnode(self):\n",
    "        print(self.nameAlpha)\n",
    "        self.Nalpha.printme()\n",
    "        print(self.nameBeta)\n",
    "        self.Nbeta.printme()\n",
    "        print(self.seq)\n",
    "        \n",
    "        print(\"\\n\",self.TF.list())\n",
    "        print(\"\\n\",self.TF)\n",
    "        print(\"\\n\")\n",
    "        \n",
    "        if self.leftchild:            \n",
    "            print(self.leftchild.nameAlpha,self.leftchild.nameBeta)\n",
    "        else:\n",
    "            print(\"No contraction child.\")\n",
    "        if self.rightchild:\n",
    "            print(self.rightchild.nameAlpha,self.rightchild.nameBeta)\n",
    "        else:\n",
    "            print(\"No contraction child.\")\n",
    "        print(self.TF)\n",
    "\n",
    "    def printme(self,depth=0):\n",
    "        print('\\n'+(nstr(depth))+\"Node:\",self.seq)\n",
    "        print(('--'*depth)+self.nameAlpha)\n",
    "        self.Nalpha.printme()\n",
    "        print(('--'*depth)+self.nameBeta)\n",
    "        self.Nbeta.printme()\n",
    "        \n",
    "        print(\"\\n\",self.TF.list())\n",
    "        print(\"\\n\",self.TF)\n",
    "        print(\"\\n\")\n",
    "        \n",
    "        if(self.leftchild):\n",
    "            self.leftchild.printme(depth+1)\n",
    "        if(self.rightchild):\n",
    "            self.rightchild.printme(depth+1)\n",
    "            \n",
    "        "
   ]
  },
  {
   "cell_type": "code",
   "execution_count": 19,
   "id": "ea586466",
   "metadata": {},
   "outputs": [],
   "source": [
    "def TestDeleContIdentity(ExtSNalpha,ExtSNbeta,e):\n",
    "    start=LhSE(ExtSNalpha,ExtSNbeta)\n",
    "    contr_alpha=ExtSNalpha.contraction(e)\n",
    "    contr_beta =ExtSNbeta.contraction(e)\n",
    "    delet_alpha=ExtSNalpha.deletion(e)\n",
    "    delet_beta =ExtSNbeta.deletion(e)\n",
    "    contrLE    =LhSE(contr_alpha,contr_beta)\n",
    "    deletLE    =LhSE(delet_alpha,delet_beta)\n",
    "    contrExt   =contrLE.extN\n",
    "    deletExt   =deletLE.extN\n",
    "    i=ExtSNalpha.seqS.index(e)-UP\n",
    "    ge=Gees[i]\n",
    "    re=Rrrs[i]\n",
    "    for a in start.extN.list():\n",
    "        print(a)\n",
    "    print()\n",
    "    for a in (ge*contrExt).list():\n",
    "        print(a)\n",
    "    print()\n",
    "    for a in (re*deletExt).list():\n",
    "        print(a)\n",
    "    \n",
    "    print(\"\\n\",start.extN==ge*contrExt+re*deletExt)"
   ]
  },
  {
   "cell_type": "code",
   "execution_count": null,
   "id": "fe909680",
   "metadata": {},
   "outputs": [],
   "source": []
  },
  {
   "cell_type": "code",
   "execution_count": null,
   "id": "4cad11ac",
   "metadata": {},
   "outputs": [],
   "source": []
  },
  {
   "cell_type": "code",
   "execution_count": null,
   "id": "9caf620e",
   "metadata": {},
   "outputs": [],
   "source": []
  },
  {
   "cell_type": "code",
   "execution_count": 20,
   "id": "a55e8cdf",
   "metadata": {},
   "outputs": [
    {
     "name": "stdout",
     "output_type": "stream",
     "text": [
      "[ 1  0 -1  0  1  0]\n",
      "[-1  0  0 -1  0 -1]\n",
      "[ 0  1  1  1  0  0]\n",
      "[ 0 -1  0  0 -1  1] \n",
      "\n",
      "[ 1  0 -1  0  1  0]\n",
      "[ 0  1  1  1  0  0]\n",
      "[ 0 -1  0  0 -1  1] \n",
      "\n",
      "element: p1*p2*e1 + p1*p2*e2 - p1*p2*e3 + p1*p2*e4 - p1*e1*e3 + p1*e1*e4 - p1*e2*e3 + p1*e2*e4 + p2*e1*e2 + p2*e1*e4 + p2*e2*e3 - p2*e3*e4 + e1*e2*e3 - e1*e2*e4 - e1*e3*e4 - e2*e3*e4\n",
      "\n",
      "List Form: [((0, 1, 6), 1), ((0, 1, 7), 1), ((0, 1, 8), -1), ((0, 1, 9), 1), ((0, 6, 8), -1), ((0, 6, 9), 1), ((0, 7, 8), -1), ((0, 7, 9), 1), ((1, 6, 7), 1), ((1, 6, 9), 1), ((1, 7, 8), 1), ((1, 8, 9), -1), ((6, 7, 8), 1), ((6, 7, 9), -1), ((6, 8, 9), -1), ((7, 8, 9), -1)]\n",
      "set orientation: [p1, p2, e1, e2, e3, e4]\n",
      "Volume: p1*p2*e1*e2*e3*e4\n",
      "\n",
      "\n",
      "element: (r2*r3*r4*g1 + r1*r3*r4*g2 + r1*r2*r4*g3 + r1*r2*r3*g4)*pa1*pa2 + (r1*r4*g2*g3 - r2*r3*g1*g4)*pa1*pb1 + (r2*r4*g1*g3 + r1*r4*g2*g3 + r2*r3*g1*g4 + r1*r3*g2*g4)*pa1*pb2 + (-r3*r4*g1*g2 - r1*r4*g2*g3 - r2*r3*g1*g4 - r1*r2*g3*g4)*pa2*pb1 + (-r1*r4*g2*g3 + r2*r3*g1*g4)*pa2*pb2 + (r4*g1*g2*g3 + r3*g1*g2*g4 + r2*g1*g3*g4 + r1*g2*g3*g4)*pb1*pb2\n",
      "\n",
      "List Form: [((2, 3), r2*r3*r4*g1 + r1*r3*r4*g2 + r1*r2*r4*g3 + r1*r2*r3*g4), ((2, 4), r1*r4*g2*g3 - r2*r3*g1*g4), ((2, 5), r2*r4*g1*g3 + r1*r4*g2*g3 + r2*r3*g1*g4 + r1*r3*g2*g4), ((3, 4), -r3*r4*g1*g2 - r1*r4*g2*g3 - r2*r3*g1*g4 - r1*r2*g3*g4), ((3, 5), -r1*r4*g2*g3 + r2*r3*g1*g4), ((4, 5), r4*g1*g2*g3 + r3*g1*g2*g4 + r2*g1*g3*g4 + r1*g2*g3*g4)]\n",
      "set orientation: [pa1, pa2, pb1, pb2]\n",
      "Volume: pa1*pa2*pb1*pb2\n"
     ]
    },
    {
     "data": {
      "text/plain": [
       "[((2, 3), r2*r3*r4*g1 + r1*r3*r4*g2 + r1*r2*r4*g3 + r1*r2*r3*g4),\n",
       " ((2, 4), r1*r4*g2*g3 - r2*r3*g1*g4),\n",
       " ((2, 5), r2*r4*g1*g3 + r1*r4*g2*g3 + r2*r3*g1*g4 + r1*r3*g2*g4),\n",
       " ((3, 4), -r3*r4*g1*g2 - r1*r4*g2*g3 - r2*r3*g1*g4 - r1*r2*g3*g4),\n",
       " ((3, 5), -r1*r4*g2*g3 + r2*r3*g1*g4),\n",
       " ((4, 5), r4*g1*g2*g3 + r3*g1*g2*g4 + r2*g1*g3*g4 + r1*g2*g3*g4)]"
      ]
     },
     "execution_count": 20,
     "metadata": {},
     "output_type": "execute_result"
    }
   ],
   "source": [
    "print(NMatK4All,\"\\n\")\n",
    "print(NMatK4dRow1,\"\\n\")\n",
    "\n",
    "EAMTT=ExtSFromMatrix(NMatK4dRow1)\n",
    "EAMTT.printme()\n",
    "print(\"\\n\")\n",
    "\n",
    "MTTAns=LhSE(EAMTT,EAMTT)\n",
    "MTTAns.printme()\n",
    "MTTAns.extN.list()"
   ]
  },
  {
   "cell_type": "code",
   "execution_count": null,
   "id": "97e1d0a5",
   "metadata": {
    "scrolled": true
   },
   "outputs": [],
   "source": [
    "\n"
   ]
  },
  {
   "cell_type": "code",
   "execution_count": 21,
   "id": "8327509b",
   "metadata": {},
   "outputs": [
    {
     "name": "stdout",
     "output_type": "stream",
     "text": [
      "[1 0 0 0 1 0]\n",
      "[0 0 0 0 0 0]\n",
      "[0 1 1 1 0 0]\n",
      "[0 0 0 0 0 1] \n",
      "\n",
      "[1 0 0 0 1 0]\n",
      "[0 1 1 1 0 0]\n",
      "[0 0 0 0 0 1] \n",
      "\n",
      "[ 1  0 -1  0  1  0]\n",
      "[ 0  1  1  1  0  0]\n",
      "[ 0 -1  0  0 -1  1] \n",
      "\n"
     ]
    }
   ],
   "source": [
    "print(NMatK4Pos,\"\\n\")\n",
    "print(NMatK4PosDelRow1,\"\\n\")\n",
    "print(NMatK4dRow1,\"\\n\")\n",
    "#print(NMatK4dRow3,\"\\n\")\n",
    "\n"
   ]
  },
  {
   "cell_type": "code",
   "execution_count": 41,
   "id": "d457bfbe",
   "metadata": {},
   "outputs": [
    {
     "name": "stdout",
     "output_type": "stream",
     "text": [
      "EADMTT----\n",
      "element: p1*p2*e1 + p1*p2*e2 - p1*p2*e3 + p1*p2*e4 - p1*e1*e3 + p1*e1*e4 - p1*e2*e3 + p1*e2*e4 + p2*e1*e2 + p2*e1*e4 + p2*e2*e3 - p2*e3*e4 + e1*e2*e3 - e1*e2*e4 - e1*e3*e4 - e2*e3*e4\n",
      "\n",
      "List Form: [((0, 1, 6), 1), ((0, 1, 7), 1), ((0, 1, 8), -1), ((0, 1, 9), 1), ((0, 6, 8), -1), ((0, 6, 9), 1), ((0, 7, 8), -1), ((0, 7, 9), 1), ((1, 6, 7), 1), ((1, 6, 9), 1), ((1, 7, 8), 1), ((1, 8, 9), -1), ((6, 7, 8), 1), ((6, 7, 9), -1), ((6, 8, 9), -1), ((7, 8, 9), -1)]\n",
      "set orientation: [p1, p2, e1, e2, e3, e4]\n",
      "Volume: p1*p2*e1*e2*e3*e4\n",
      "II(EADMTT)---\n",
      "g1*pa1*pa2*e1 + g2*pa1*pa2*e2 - g3*pa1*pa2*e3 + g4*pa1*pa2*e4 - g1*g3*pa1*e1*e3 + g1*g4*pa1*e1*e4 - g2*g3*pa1*e2*e3 + g2*g4*pa1*e2*e4 + g1*g2*pa2*e1*e2 + g1*g4*pa2*e1*e4 + g2*g3*pa2*e2*e3 - g3*g4*pa2*e3*e4 + g1*g2*g3*e1*e2*e3 - g1*g2*g4*e1*e2*e4 - g1*g3*g4*e1*e3*e4 - g2*g3*g4*e2*e3*e4\n",
      "---\n",
      "element: p1*p2*e4 + p1*e1*e4 + p1*e2*e4 - p2*e3*e4 - e1*e3*e4 - e2*e3*e4\n",
      "\n",
      "List Form: [((0, 1, 9), 1), ((0, 6, 9), 1), ((0, 7, 9), 1), ((1, 8, 9), -1), ((6, 8, 9), -1), ((7, 8, 9), -1)]\n",
      "set orientation: [p1, p2, e1, e2, e3, e4]\n",
      "Volume: p1*p2*e1*e2*e3*e4\n",
      "---\n",
      "EBDMTTperp---\n",
      "element: p1*p2*e1 - p1*p2*e2 + p1*e1*e2 - p2*e1*e3 + p2*e2*e3 - e1*e2*e3\n",
      "\n",
      "List Form: [((0, 1, 6), 1), ((0, 1, 7), -1), ((0, 6, 7), 1), ((1, 6, 8), -1), ((1, 7, 8), 1), ((6, 7, 8), -1)]\n",
      "set orientation: [p1, p2, e1, e2, e3, e4]\n",
      "Volume: p1*p2*e1*e2*e3*e4\n",
      "VV(EBDMTTperp)----\n",
      "r1*pb1*pb2*e1 - r2*pb1*pb2*e2 + r1*r2*pb1*e1*e2 - r1*r3*pb2*e1*e3 + r2*r3*pb2*e2*e3 - r1*r2*r3*e1*e2*e3\n",
      "ANSWER FROM LhSE---\n",
      "element: r1*r2*r3*g4*pa1*pa2 + (r2*r3*g1*g4 + r1*r3*g2*g4)*pa1*pb2 - r1*r2*g3*g4*pa2*pb1 + r2*r3*g1*g4*pa2*pb2 + (r2*g1*g3*g4 + r1*g2*g3*g4)*pb1*pb2\n",
      "\n",
      "List Form: [((2, 3), r1*r2*r3*g4), ((2, 5), r2*r3*g1*g4 + r1*r3*g2*g4), ((3, 4), -r1*r2*g3*g4), ((3, 5), r2*r3*g1*g4), ((4, 5), r2*g1*g3*g4 + r1*g2*g3*g4)]\n",
      "set orientation: [pa1, pa2, pb1, pb2]\n",
      "Volume: pa1*pa2*pb1*pb2\n",
      "---------ANSWER FROM LhSE\n",
      "manual product----\n",
      "(-r2*g1 - r1*g2)*pa1*pa2*pb1*pb2*e1*e2 + r1*g3*pa1*pa2*pb1*pb2*e1*e3 - r1*g4*pa1*pa2*pb1*pb2*e1*e4 - r2*g3*pa1*pa2*pb1*pb2*e2*e3 + r2*g4*pa1*pa2*pb1*pb2*e2*e4 + r1*r2*g3*pa1*pa2*pb1*e1*e2*e3 - r1*r2*g4*pa1*pa2*pb1*e1*e2*e4 + (-r2*r3*g1 - r1*r3*g2)*pa1*pa2*pb2*e1*e2*e3 + r1*r3*g4*pa1*pa2*pb2*e1*e3*e4 - r2*r3*g4*pa1*pa2*pb2*e2*e3*e4 + r1*r2*r3*g4*pa1*pa2*e1*e2*e3*e4 + (-r2*g1*g3 - r1*g2*g3)*pa1*pb1*pb2*e1*e2*e3 + (r2*g1*g4 + r1*g2*g4)*pa1*pb1*pb2*e1*e2*e4 + (r2*r3*g1*g4 + r1*r3*g2*g4)*pa1*pb2*e1*e2*e3*e4 + r1*g2*g3*pa2*pb1*pb2*e1*e2*e3 + r2*g1*g4*pa2*pb1*pb2*e1*e2*e4 - r1*g3*g4*pa2*pb1*pb2*e1*e3*e4 + r2*g3*g4*pa2*pb1*pb2*e2*e3*e4 - r1*r2*g3*g4*pa2*pb1*e1*e2*e3*e4 + r2*r3*g1*g4*pa2*pb2*e1*e2*e3*e4 + (r2*g1*g3*g4 + r1*g2*g3*g4)*pb1*pb2*e1*e2*e3*e4\n",
      "ANSWER DONE MANUALLY--------\n",
      "r1*r2*r3*g4*pa1*pa2 + (r2*r3*g1*g4 + r1*r3*g2*g4)*pa1*pb2 - r1*r2*g3*g4*pa2*pb1 + r2*r3*g1*g4*pa2*pb2 + (r2*g1*g3*g4 + r1*g2*g3*g4)*pb1*pb2\n",
      "\n"
     ]
    },
    {
     "data": {
      "text/plain": [
       "True"
      ]
     },
     "execution_count": 41,
     "metadata": {},
     "output_type": "execute_result"
    }
   ],
   "source": [
    "EADMTT=ExtSFromMatrix(NMatK4dRow1)\n",
    "print(\"EADMTT----\")\n",
    "EADMTT.printme()\n",
    "print(\"II(EADMTT)---\")\n",
    "IIret=II(EADMTT.extN)\n",
    "print(II(EADMTT.extN))\n",
    "print(\"---\")\n",
    "EBDMTT=ExtSFromMatrix(NMatK4PosDelRow1)\n",
    "EBDMTT.printme()\n",
    "print(\"---\")\n",
    "EBDMTTperp=EBDMTT.perp()\n",
    "print(\"EBDMTTperp---\")\n",
    "EBDMTTperp.printme()\n",
    "print(\"VV(EBDMTTperp)----\")\n",
    "VVret=VV(EBDMTTperp.extN)\n",
    "print(VV(EBDMTTperp.extN))\n",
    "\n",
    "\n",
    "DMTTAns=LhSE(EADMTT,EBDMTT)\n",
    "print(\"ANSWER FROM LhSE---\")\n",
    "DMTTAns.printme()\n",
    "print(\"---------ANSWER FROM LhSE\")\n",
    "print(\"manual product----\")\n",
    "manualproduct=IIret*VVret\n",
    "print(manualproduct)\n",
    "print(\"ANSWER DONE MANUALLY--------\")\n",
    "print(contract(manualproduct,e1*e2*e3*e4))\n",
    "contrman=contract(manualproduct,e1*e2*e3*e4)\n",
    "print()\n",
    "\n",
    "\n",
    "DMTTAns.extN==contrman\n",
    "\n"
   ]
  },
  {
   "cell_type": "code",
   "execution_count": 43,
   "id": "4ca336f3",
   "metadata": {
    "scrolled": true
   },
   "outputs": [
    {
     "name": "stdout",
     "output_type": "stream",
     "text": [
      "element: r1*r2*r3*g4*pa1*pa2 + (r2*r3*g1*g4 + r1*r3*g2*g4)*pa1*pb2 - r1*r2*g3*g4*pa2*pb1 + r2*r3*g1*g4*pa2*pb2 + (r2*g1*g3*g4 + r1*g2*g3*g4)*pb1*pb2\n",
      "\n",
      "List Form: [((2, 3), r1*r2*r3*g4), ((2, 5), r2*r3*g1*g4 + r1*r3*g2*g4), ((3, 4), -r1*r2*g3*g4), ((3, 5), r2*r3*g1*g4), ((4, 5), r2*g1*g3*g4 + r1*g2*g3*g4)]\n",
      "set orientation: [pa1, pa2, pb1, pb2]\n",
      "Volume: pa1*pa2*pb1*pb2\n",
      "\n",
      "element: r1*r2*r3*g4*pa1*pa2 + (r2*r3*g1*g4 + r1*r3*g2*g4)*pa1*pb2 - r1*r2*g3*g4*pa2*pb1 + r2*r3*g1*g4*pa2*pb2 + (r2*g1*g3*g4 + r1*g2*g3*g4)*pb1*pb2\n",
      "\n",
      "List Form: [((2, 3), r1*r2*r3*g4), ((2, 5), r2*r3*g1*g4 + r1*r3*g2*g4), ((3, 4), -r1*r2*g3*g4), ((3, 5), r2*r3*g1*g4), ((4, 5), r2*g1*g3*g4 + r1*g2*g3*g4)]\n",
      "set orientation: [pa1, pa2, pb1, pb2]\n",
      "Volume: pa1*pa2*pb1*pb2\n"
     ]
    },
    {
     "data": {
      "text/plain": [
       "True"
      ]
     },
     "execution_count": 43,
     "metadata": {},
     "output_type": "execute_result"
    }
   ],
   "source": [
    "#\n",
    "# I calculated LhSE(EADMTT,EBDMTT)\n",
    "# with EBDDT gotten by my dualization of the EADMTT extensor, \n",
    "#but this does not give a matrix for EBDMTT I could publish.\n",
    "# So, I tried the dual computed by Sage's right_kernel_matrix\n",
    "#and verified it give the same result.\n",
    "#\n",
    "#  I could have had it compute the extensor of the product of the\n",
    "# rows of the right_kernel_matrix result and compare it to \n",
    "# my dual of EADMTT, but I was too lazy to dredge up the row product\n",
    "# calculation again.\n",
    "#\n",
    "\n",
    "\n",
    "NMatK4PosDelRow1KERNAL=NMatK4PosDelRow1.right_kernel_matrix()\n",
    "EBDMTTKERNAL=ExtSFromMatrix(NMatK4PosDelRow1KERNAL)\n",
    "DMTTAnsFromKernal=LvSE(EADMTT,EBDMTTKERNAL)\n",
    "DMTTAnsFromKernal.printme()\n",
    "print()\n",
    "DMTTAns.printme()\n",
    "\n",
    "DMTTAns.extN == DMTTAnsFromKernal.extN"
   ]
  },
  {
   "cell_type": "code",
   "execution_count": 24,
   "id": "589dce55",
   "metadata": {},
   "outputs": [
    {
     "name": "stdout",
     "output_type": "stream",
     "text": [
      "[ 1  0  0  0 -1  0]\n",
      "[ 0  1  0 -1  0  0]\n",
      "[ 0  0  1 -1  0  0]\n"
     ]
    },
    {
     "data": {
      "text/plain": [
       "\\left(\\begin{array}{rrrrrr}\n",
       "1 & 0 & 0 & 0 & -1 & 0 \\\\\n",
       "0 & 1 & 0 & -1 & 0 & 0 \\\\\n",
       "0 & 0 & 1 & -1 & 0 & 0\n",
       "\\end{array}\\right)"
      ]
     },
     "execution_count": 24,
     "metadata": {},
     "output_type": "execute_result"
    }
   ],
   "source": [
    "print(NMatK4PosDelRow1KERNAL)\n",
    "latex(NMatK4PosDelRow1KERNAL)"
   ]
  },
  {
   "cell_type": "code",
   "execution_count": 25,
   "id": "757d2c4c",
   "metadata": {},
   "outputs": [
    {
     "name": "stdout",
     "output_type": "stream",
     "text": [
      "element: (r2*r3*r4*g1 + r1*r3*r4*g2 + r1*r2*r4*g3 + r1*r2*r3*g4)*pa1*pa2 + (r1*r4*g2*g3 - r2*r3*g1*g4)*pa1*pb1 + (r2*r4*g1*g3 + r1*r4*g2*g3 + r2*r3*g1*g4 + r1*r3*g2*g4)*pa1*pb2 + (-r3*r4*g1*g2 - r1*r4*g2*g3 - r2*r3*g1*g4 - r1*r2*g3*g4)*pa2*pb1 + (-r1*r4*g2*g3 + r2*r3*g1*g4)*pa2*pb2 + (r4*g1*g2*g3 + r3*g1*g2*g4 + r2*g1*g3*g4 + r1*g2*g3*g4)*pb1*pb2\n",
      "\n",
      "List Form: [((2, 3), r2*r3*r4*g1 + r1*r3*r4*g2 + r1*r2*r4*g3 + r1*r2*r3*g4), ((2, 4), r1*r4*g2*g3 - r2*r3*g1*g4), ((2, 5), r2*r4*g1*g3 + r1*r4*g2*g3 + r2*r3*g1*g4 + r1*r3*g2*g4), ((3, 4), -r3*r4*g1*g2 - r1*r4*g2*g3 - r2*r3*g1*g4 - r1*r2*g3*g4), ((3, 5), -r1*r4*g2*g3 + r2*r3*g1*g4), ((4, 5), r4*g1*g2*g3 + r3*g1*g2*g4 + r2*g1*g3*g4 + r1*g2*g3*g4)]\n",
      "set orientation: [pa1, pa2, pb1, pb2]\n",
      "Volume: pa1*pa2*pb1*pb2\n",
      "\n",
      "element: r1*r2*r3*g4*pa1*pa2 + (r2*r3*g1*g4 + r1*r3*g2*g4)*pa1*pb2 - r1*r2*g3*g4*pa2*pb1 + r2*r3*g1*g4*pa2*pb2 + (r2*g1*g3*g4 + r1*g2*g3*g4)*pb1*pb2\n",
      "\n",
      "List Form: [((2, 3), r1*r2*r3*g4), ((2, 5), r2*r3*g1*g4 + r1*r3*g2*g4), ((3, 4), -r1*r2*g3*g4), ((3, 5), r2*r3*g1*g4), ((4, 5), r2*g1*g3*g4 + r1*g2*g3*g4)]\n",
      "set orientation: [pa1, pa2, pb1, pb2]\n",
      "Volume: pa1*pa2*pb1*pb2\n",
      "\n"
     ]
    },
    {
     "data": {
      "text/plain": [
       "(r2*r3*r4*g1 + r1*r3*r4*g2 + r1*r2*r4*g3)*pa1*pa2 + (r1*r4*g2*g3 - r2*r3*g1*g4)*pa1*pb1 + (r2*r4*g1*g3 + r1*r4*g2*g3)*pa1*pb2 + (-r3*r4*g1*g2 - r1*r4*g2*g3 - r2*r3*g1*g4)*pa2*pb1 - r1*r4*g2*g3*pa2*pb2 + (r4*g1*g2*g3 + r3*g1*g2*g4)*pb1*pb2"
      ]
     },
     "execution_count": 25,
     "metadata": {},
     "output_type": "execute_result"
    }
   ],
   "source": [
    "#\n",
    "# Calculate the terms of the MTT version that are missing in the DMTT version\n",
    "#\n",
    "\n",
    "MTTAns.printme()\n",
    "print()\n",
    "DMTTAns.printme()\n",
    "print()\n",
    "MTTAns.extN - DMTTAns.extN"
   ]
  },
  {
   "cell_type": "code",
   "execution_count": 26,
   "id": "63d334e4",
   "metadata": {},
   "outputs": [
    {
     "data": {
      "text/plain": [
       "r_{1} r_{2} r_{3} g_{4}  \\mathit{pa}_{1} \\wedge \\mathit{pa}_{2} + \\left( r_{2} r_{3} g_{1} g_{4} + r_{1} r_{3} g_{2} g_{4} \\right)  \\mathit{pa}_{1} \\wedge \\mathit{pb}_{2} - r_{1} r_{2} g_{3} g_{4}  \\mathit{pa}_{2} \\wedge \\mathit{pb}_{1} + r_{2} r_{3} g_{1} g_{4}  \\mathit{pa}_{2} \\wedge \\mathit{pb}_{2} + \\left( r_{2} g_{1} g_{3} g_{4} + r_{1} g_{2} g_{3} g_{4} \\right)  \\mathit{pb}_{1} \\wedge \\mathit{pb}_{2}"
      ]
     },
     "execution_count": 26,
     "metadata": {},
     "output_type": "execute_result"
    }
   ],
   "source": [
    "latex(DMTTAns.extN)"
   ]
  },
  {
   "cell_type": "code",
   "execution_count": 27,
   "id": "17759737",
   "metadata": {
    "scrolled": true
   },
   "outputs": [
    {
     "data": {
      "text/plain": [
       "[ 1  0 -1  0  1  0]\n",
       "[ 0  1  1  1  0  0]\n",
       "[ 0 -1  0  0 -1  1]"
      ]
     },
     "execution_count": 27,
     "metadata": {},
     "output_type": "execute_result"
    }
   ],
   "source": [
    "NMatK4dRow1"
   ]
  },
  {
   "cell_type": "code",
   "execution_count": 28,
   "id": "94955d80",
   "metadata": {
    "scrolled": true
   },
   "outputs": [
    {
     "data": {
      "text/plain": [
       "[ 1  0  0  0 -1 -1]\n",
       "[ 0  1  0 -1  0  1]\n",
       "[ 0  0  1 -1  1  1]"
      ]
     },
     "execution_count": 28,
     "metadata": {},
     "output_type": "execute_result"
    }
   ],
   "source": [
    "NMatK4Perp"
   ]
  },
  {
   "cell_type": "code",
   "execution_count": 29,
   "id": "41bb39f5",
   "metadata": {},
   "outputs": [
    {
     "data": {
      "text/plain": [
       "\\left(\\begin{array}{rrrrrr}\n",
       "1 & 0 & -1 & 0 & 1 & 0 \\\\\n",
       "0 & 1 & 1 & 1 & 0 & 0 \\\\\n",
       "0 & -1 & 0 & 0 & -1 & 1\n",
       "\\end{array}\\right)"
      ]
     },
     "execution_count": 29,
     "metadata": {},
     "output_type": "execute_result"
    }
   ],
   "source": [
    "latex(NMatK4dRow1)"
   ]
  },
  {
   "cell_type": "code",
   "execution_count": 30,
   "id": "e39fd885",
   "metadata": {},
   "outputs": [
    {
     "data": {
      "text/plain": [
       "\\left(\\begin{array}{rrrrrr}\n",
       "1 & 0 & 0 & 0 & -1 & -1 \\\\\n",
       "0 & 1 & 0 & -1 & 0 & 1 \\\\\n",
       "0 & 0 & 1 & -1 & 1 & 1\n",
       "\\end{array}\\right)"
      ]
     },
     "execution_count": 30,
     "metadata": {},
     "output_type": "execute_result"
    }
   ],
   "source": [
    "latex(NMatK4Perp)"
   ]
  },
  {
   "cell_type": "code",
   "execution_count": null,
   "id": "713a0583",
   "metadata": {},
   "outputs": [],
   "source": []
  },
  {
   "cell_type": "code",
   "execution_count": 31,
   "id": "b9a75fcc",
   "metadata": {},
   "outputs": [],
   "source": [
    "EK4dRow1=ExtSFromMatrix(NMatK4dRow1)"
   ]
  },
  {
   "cell_type": "code",
   "execution_count": 32,
   "id": "e001baed",
   "metadata": {
    "scrolled": false
   },
   "outputs": [
    {
     "name": "stdout",
     "output_type": "stream",
     "text": [
      "element: p1*p2*e1 + p1*p2*e2 - p1*p2*e3 + p1*p2*e4 - p1*e1*e3 + p1*e1*e4 - p1*e2*e3 + p1*e2*e4 + p2*e1*e2 + p2*e1*e4 + p2*e2*e3 - p2*e3*e4 + e1*e2*e3 - e1*e2*e4 - e1*e3*e4 - e2*e3*e4\n",
      "\n",
      "List Form: [((0, 1, 6), 1), ((0, 1, 7), 1), ((0, 1, 8), -1), ((0, 1, 9), 1), ((0, 6, 8), -1), ((0, 6, 9), 1), ((0, 7, 8), -1), ((0, 7, 9), 1), ((1, 6, 7), 1), ((1, 6, 9), 1), ((1, 7, 8), 1), ((1, 8, 9), -1), ((6, 7, 8), 1), ((6, 7, 9), -1), ((6, 8, 9), -1), ((7, 8, 9), -1)]\n",
      "set orientation: [p1, p2, e1, e2, e3, e4]\n",
      "Volume: p1*p2*e1*e2*e3*e4\n"
     ]
    }
   ],
   "source": [
    "EK4dRow1.printme()"
   ]
  },
  {
   "cell_type": "code",
   "execution_count": 33,
   "id": "f7617411",
   "metadata": {},
   "outputs": [
    {
     "name": "stdout",
     "output_type": "stream",
     "text": [
      "element: p1*p2*e1 - p1*p2*e2 + p1*p2*e3 + p1*p2*e4 + p1*e1*e2 - p1*e1*e4 - p1*e2*e3 - p1*e3*e4 - p2*e1*e3 - p2*e1*e4 + p2*e2*e3 + p2*e2*e4 - e1*e2*e3 - e1*e2*e4 - e1*e3*e4 + e2*e3*e4\n",
      "\n",
      "List Form: [((0, 1, 6), 1), ((0, 1, 7), -1), ((0, 1, 8), 1), ((0, 1, 9), 1), ((0, 6, 7), 1), ((0, 6, 9), -1), ((0, 7, 8), -1), ((0, 8, 9), -1), ((1, 6, 8), -1), ((1, 6, 9), -1), ((1, 7, 8), 1), ((1, 7, 9), 1), ((6, 7, 8), -1), ((6, 7, 9), -1), ((6, 8, 9), -1), ((7, 8, 9), 1)]\n",
      "set orientation: [p1, p2, e1, e2, e3, e4]\n",
      "Volume: p1*p2*e1*e2*e3*e4\n"
     ]
    }
   ],
   "source": [
    "EK4Perp=ExtSFromMatrix(NMatK4Perp)\n",
    "EK4Perp.printme()"
   ]
  },
  {
   "cell_type": "code",
   "execution_count": 34,
   "id": "99cb89be",
   "metadata": {},
   "outputs": [
    {
     "name": "stdout",
     "output_type": "stream",
     "text": [
      "element: (r2*r3*r4*g1 + r1*r3*r4*g2 + r1*r2*r4*g3 + r1*r2*r3*g4)*pa1*pa2 + (r1*r4*g2*g3 - r2*r3*g1*g4)*pa1*pb1 + (r2*r4*g1*g3 + r1*r4*g2*g3 + r2*r3*g1*g4 + r1*r3*g2*g4)*pa1*pb2 + (-r3*r4*g1*g2 - r1*r4*g2*g3 - r2*r3*g1*g4 - r1*r2*g3*g4)*pa2*pb1 + (-r1*r4*g2*g3 + r2*r3*g1*g4)*pa2*pb2 + (r4*g1*g2*g3 + r3*g1*g2*g4 + r2*g1*g3*g4 + r1*g2*g3*g4)*pb1*pb2\n",
      "\n",
      "List Form: [((2, 3), r2*r3*r4*g1 + r1*r3*r4*g2 + r1*r2*r4*g3 + r1*r2*r3*g4), ((2, 4), r1*r4*g2*g3 - r2*r3*g1*g4), ((2, 5), r2*r4*g1*g3 + r1*r4*g2*g3 + r2*r3*g1*g4 + r1*r3*g2*g4), ((3, 4), -r3*r4*g1*g2 - r1*r4*g2*g3 - r2*r3*g1*g4 - r1*r2*g3*g4), ((3, 5), -r1*r4*g2*g3 + r2*r3*g1*g4), ((4, 5), r4*g1*g2*g3 + r3*g1*g2*g4 + r2*g1*g3*g4 + r1*g2*g3*g4)]\n",
      "set orientation: [pa1, pa2, pb1, pb2]\n",
      "Volume: pa1*pa2*pb1*pb2\n"
     ]
    }
   ],
   "source": [
    "LEK4dRow3OverLK4Perp=LvSE(EK4dRow1,EK4Perp)\n",
    "LEK4dRow3OverLK4Perp.printme()"
   ]
  },
  {
   "cell_type": "code",
   "execution_count": null,
   "id": "c7ec2a56",
   "metadata": {},
   "outputs": [],
   "source": []
  },
  {
   "cell_type": "code",
   "execution_count": 35,
   "id": "175e516f",
   "metadata": {},
   "outputs": [
    {
     "name": "stdout",
     "output_type": "stream",
     "text": [
      "[ 1  0 -1  0  1  0]\n",
      "[-1  0  0 -1  0 -1]\n",
      "[ 0  1  1  1  0  0]\n",
      "[ 0 -1  0  0 -1  1]\n"
     ]
    },
    {
     "data": {
      "text/plain": [
       "\\left(\\begin{array}{rrrrrr}\n",
       "1 & 0 & -1 & 0 & 1 & 0 \\\\\n",
       "-1 & 0 & 0 & -1 & 0 & -1 \\\\\n",
       "0 & 1 & 1 & 1 & 0 & 0 \\\\\n",
       "0 & -1 & 0 & 0 & -1 & 1\n",
       "\\end{array}\\right)"
      ]
     },
     "execution_count": 35,
     "metadata": {},
     "output_type": "execute_result"
    }
   ],
   "source": [
    "print(NMatK4All)\n",
    "latex(NMatK4All)"
   ]
  },
  {
   "cell_type": "code",
   "execution_count": 36,
   "id": "07231372",
   "metadata": {},
   "outputs": [
    {
     "name": "stdout",
     "output_type": "stream",
     "text": [
      "[ 1  0 -1  0  1  0]\n",
      "[ 0  1  1  1  0  0]\n",
      "[ 0 -1  0  0 -1  1]\n"
     ]
    },
    {
     "data": {
      "text/plain": [
       "\\left(\\begin{array}{rrrrrr}\n",
       "1 & 0 & -1 & 0 & 1 & 0 \\\\\n",
       "0 & 1 & 1 & 1 & 0 & 0 \\\\\n",
       "0 & -1 & 0 & 0 & -1 & 1\n",
       "\\end{array}\\right)"
      ]
     },
     "execution_count": 36,
     "metadata": {},
     "output_type": "execute_result"
    }
   ],
   "source": [
    "print(NMatK4dRow1)\n",
    "latex(NMatK4dRow1)"
   ]
  },
  {
   "cell_type": "code",
   "execution_count": 37,
   "id": "6b8b1d2d",
   "metadata": {},
   "outputs": [
    {
     "name": "stdout",
     "output_type": "stream",
     "text": [
      "[ 1  0  0  0 -1 -1]\n",
      "[ 0  1  0 -1  0  1]\n",
      "[ 0  0  1 -1  1  1]\n"
     ]
    },
    {
     "data": {
      "text/plain": [
       "\\left(\\begin{array}{rrrrrr}\n",
       "1 & 0 & 0 & 0 & -1 & -1 \\\\\n",
       "0 & 1 & 0 & -1 & 0 & 1 \\\\\n",
       "0 & 0 & 1 & -1 & 1 & 1\n",
       "\\end{array}\\right)"
      ]
     },
     "execution_count": 37,
     "metadata": {},
     "output_type": "execute_result"
    }
   ],
   "source": [
    "print(NMatK4Perp)\n",
    "latex(NMatK4Perp)"
   ]
  },
  {
   "cell_type": "code",
   "execution_count": 38,
   "id": "02193d35",
   "metadata": {},
   "outputs": [],
   "source": [
    "NMatK4dRow1G=   NMatK4dRow1  *diagonal_matrix([1,1]+Gees)\n",
    "NMatK4PerpR = NMatK4Perp*diagonal_matrix([1,1]+Rrrs)"
   ]
  },
  {
   "cell_type": "code",
   "execution_count": 39,
   "id": "dbce6d04",
   "metadata": {},
   "outputs": [
    {
     "data": {
      "text/plain": [
       "\\left(\\begin{array}{rrrrrr}\n",
       "1 & 0 & -g_{1} & 0 & g_{3} & 0 \\\\\n",
       "0 & 1 & g_{1} & g_{2} & 0 & 0 \\\\\n",
       "0 & -1 & 0 & 0 & -g_{3} & g_{4}\n",
       "\\end{array}\\right)"
      ]
     },
     "execution_count": 39,
     "metadata": {},
     "output_type": "execute_result"
    }
   ],
   "source": [
    "latex(NMatK4dRow1G)"
   ]
  },
  {
   "cell_type": "code",
   "execution_count": 40,
   "id": "086e3ad8",
   "metadata": {},
   "outputs": [
    {
     "data": {
      "text/plain": [
       "\\left(\\begin{array}{rrrrrr}\n",
       "1 & 0 & 0 & 0 & -r_{3} & -r_{4} \\\\\n",
       "0 & 1 & 0 & -r_{2} & 0 & r_{4} \\\\\n",
       "0 & 0 & r_{1} & -r_{2} & r_{3} & r_{4}\n",
       "\\end{array}\\right)"
      ]
     },
     "execution_count": 40,
     "metadata": {},
     "output_type": "execute_result"
    }
   ],
   "source": [
    "latex(NMatK4PerpR)"
   ]
  },
  {
   "cell_type": "code",
   "execution_count": null,
   "id": "81b16e7d",
   "metadata": {},
   "outputs": [],
   "source": []
  }
 ],
 "metadata": {
  "kernelspec": {
   "display_name": "SageMath 9.6",
   "language": "sage",
   "name": "sagemath"
  },
  "language_info": {
   "codemirror_mode": {
    "name": "ipython",
    "version": 3
   },
   "file_extension": ".py",
   "mimetype": "text/x-python",
   "name": "python",
   "nbconvert_exporter": "python",
   "pygments_lexer": "ipython3",
   "version": "3.10.6"
  }
 },
 "nbformat": 4,
 "nbformat_minor": 5
}
