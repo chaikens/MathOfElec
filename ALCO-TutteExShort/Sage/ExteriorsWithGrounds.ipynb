{
 "cells": [
  {
   "cell_type": "code",
   "execution_count": 1,
   "id": "1ed43489",
   "metadata": {},
   "outputs": [],
   "source": [
    "# number of E and P elts in the universe\n",
    "var('UN,UP')\n",
    "UN=4; UP=2"
   ]
  },
  {
   "cell_type": "code",
   "execution_count": 2,
   "id": "007d3801",
   "metadata": {},
   "outputs": [
    {
     "name": "stdout",
     "output_type": "stream",
     "text": [
      "Defining r1, r2, r3, r4, g1, g2, g3, g4\n",
      "Defining p1, p2, pa1, pa2, pb1, pb2, e1, e2, e3, e4\n"
     ]
    }
   ],
   "source": [
    "Crg = PolynomialRing(RationalField(),\n",
    "                     ['r%s'%i for i in range(1, UN+1)] + ['g%s'%i for i in range(1, UN+1)])\n",
    "Crg.inject_variables()\n",
    "\n",
    "\n",
    "#CrgF=Crg.fraction_field()\n",
    "#CrgF.inject_variables()\n",
    "#THIS FAILS WHEN WE TRY TO MULTIPLY AN EXTERIOR ALG ELE BY A POLY. GENERATOR\n",
    "\n",
    "Ext=\\\n",
    "    ExteriorAlgebra(Crg,\\\n",
    "        ['p%s'%i  for i in range(1, UP+1)]+\\\n",
    "        ['pa%s'%i for i in range(1, UP+1)]+\\\n",
    "        ['pb%s'%i for i in range(1, UP+1)]+\\\n",
    "        ['e%s'%i  for i in range(1, UN+1)])\n",
    "Ext.inject_variables() \n",
    "\n",
    "Rrrs=[Crg.gen(i)    for i in range(0, UN)]\n",
    "Gees=[Crg.gen(i)    for i in range(UN, 2*UN)]\n",
    "Pees=[Ext.gen(i)    for i in range(0, UP)]\n",
    "Paas=[Ext.gen(i)    for i in range(UP, 2*UP)]\n",
    "Pbes=[Ext.gen(i)    for i in range(2*UP, 3*UP)]\n",
    "Eees=[Ext.gen(i)    for i in range(3*UP, 3*UP+UN)]\n",
    "\n",
    "NSeq=Pees+Eees\n",
    "PEVol=prod(NSeq)\n",
    "EVol=prod(Eees)\n",
    "\n",
    "\n",
    "diagRrrs=diagonal_matrix(Rrrs)\n",
    "diagGees=diagonal_matrix(Gees)\n",
    "\n",
    "matII=block_matrix([[matrix(UP)         ,matrix(UP)    ,matrix(UP)   ,matrix(UP,UN)],\n",
    "                    [identity_matrix(UP),matrix(UP)    ,matrix(UP)   ,matrix(UP,UN)],       \n",
    "                    [matrix(UP)         ,matrix(UP)    ,matrix(UP)   ,matrix(UP,UN)],\n",
    "                    [matrix(UN,UP)      ,matrix(UN,UP) ,matrix(UN,UP),diagGees     ]\n",
    "                   ])\n",
    "matVV=block_matrix([[matrix(UP)         ,matrix(UP)    ,matrix(UP)   ,matrix(UP,UN)],\n",
    "                    [matrix(UP)         ,matrix(UP)    ,matrix(UP)   ,matrix(UP,UN)],       \n",
    "                    [identity_matrix(UP),matrix(UP)    ,matrix(UP)   ,matrix(UP,UN)],\n",
    "                    [matrix(UN,UP)      ,matrix(UN,UP) ,matrix(UN,UP),diagRrrs     ]\n",
    "                   ])\n",
    "\n",
    "II=Ext.lift_module_morphism(matII)\n",
    "VV=Ext.lift_module_morphism(matVV)\n"
   ]
  },
  {
   "cell_type": "code",
   "execution_count": 3,
   "id": "65c03908",
   "metadata": {},
   "outputs": [],
   "source": [
    "#Exterior Algebra operations only\n",
    "#Exterior Algebra with ground set operations are defined later.\n",
    "\n",
    "\n",
    "def contract(X,E):\n",
    "    #only contract by monomials\n",
    "    #Is used to implement LvSE and LhSE contraction where the ground set is Palpha+Pbeta+E\n",
    "    assert (E.length()==1)\n",
    "    return (X.interior_product(E)*(-1)^(E.degree()*(X.degree()-E.degree())))\n",
    "\n",
    "def delete(X,e):\n",
    "    #the subtraction formula only works for vectors.\n",
    "    assert (e.degree()==1 & e.length()==1)\n",
    "    return (X - contract(X,e)*e)\n",
    "\n",
    "def delete_contract(X,e):\n",
    "    #only contract by monomials\n",
    "    assert (e.degree()==1 & e.length()==1)\n",
    "    contr = X.interior_product(e)*(-1)^(e.degree()*(X.degree()-e.degree()))\n",
    "    dele = X - contr*e\n",
    "    return (dele, contr)\n",
    "\n",
    "def perp(VOL,N):\n",
    "    return (VOL.interior_product(N))"
   ]
  },
  {
   "cell_type": "code",
   "execution_count": 4,
   "id": "4ba2ddc2",
   "metadata": {},
   "outputs": [],
   "source": [
    "#Exterior algebra elements with ground sequenced ground set\n",
    "class ExtS:\n",
    "    def __init__(this, extN, seqS):\n",
    "        this.extN = extN\n",
    "        this.seqS = copy(seqS)\n",
    "        this._set_VOL()      \n",
    "    \n",
    "    def contraction(this,e):\n",
    "        #does only one\n",
    "        assert (e.length()==1 & e.degree()==1)\n",
    "        result = this._copy_remove(e)\n",
    "        result.extN = contract(result.extN,e)\n",
    "        return (result)\n",
    "    def deletion(this,e):\n",
    "        #does only one\n",
    "        assert (e.length()==1 & e.degree()==1)  \n",
    "        result = this._copy_remove(e)\n",
    "        result.extN = delete(result.extN,e)\n",
    "        return (result)\n",
    "    def perp(this):\n",
    "        result=this._copy()\n",
    "        result.extN = perp(this.VOL, this.extN)\n",
    "        return (result)\n",
    "    \n",
    "    def printme(this):\n",
    "        print(\"element:\",this.extN)\n",
    "        print(\"set orientation:\",this.seqS)\n",
    "        print(\"Volume:\",this.VOL)\n",
    "        \n",
    "    def _set_VOL(this):\n",
    "        acc = 1\n",
    "        for v in this.seqS:\n",
    "            acc = acc*v\n",
    "        this.VOL = acc\n",
    "    def _copy(this):\n",
    "        return ExtS(this.extN, this.seqS)    \n",
    "    def _copy_remove(this,e):\n",
    "        result = this._copy()\n",
    "        result.seqS.remove(e)\n",
    "        result._set_VOL()\n",
    "        return(result)\n",
    "\n"
   ]
  },
  {
   "cell_type": "raw",
   "id": "43573089",
   "metadata": {
    "scrolled": false
   },
   "source": [
    "play=ExtS(e1*e2*e3-e1*e3*e4, [e1, e2, e3, e4])\n",
    "play.printme()\n",
    "print(\"\\nContract:\")\n",
    "playcontract=play.contraction(e2)\n",
    "playcontract.printme()\n",
    "print(\"\\nDelete:\")\n",
    "playdelete=play.deletion(e2)\n",
    "playdelete.printme()\n",
    "playperp=play.perp()\n",
    "print(\"\\nDualize:\")\n",
    "playperp.printme()"
   ]
  },
  {
   "cell_type": "code",
   "execution_count": 5,
   "id": "496f318e",
   "metadata": {
    "scrolled": true
   },
   "outputs": [
    {
     "name": "stdout",
     "output_type": "stream",
     "text": [
      "NalphaMat=\n",
      " [ 1  0 -1  0  1  0]\n",
      "[-1  0  0 -1  0 -1]\n",
      "[ 0  1  1  1  0  0] \n",
      "NbetaMat=\n",
      " [ 1  0 -1  0  1  0]\n",
      "[-1  0  0 -1  0 -1]\n",
      "[ 0  1  1  1  0  0]\n"
     ]
    }
   ],
   "source": [
    "#\n",
    "# Supply explicit matrices\n",
    "#\n",
    "\n",
    "UR=3\n",
    "\n",
    "NalphaMat = matrix(3,UN+UP,\n",
    "    [[ 1, 0, -1,  0,  1,   0],\n",
    "     [-1,  0,  0, -1,  0, -1],\n",
    "     [ 0,  1,  1,  1,  0,  0]\n",
    "    ])\n",
    "\n",
    "NbetaMat=copy(NalphaMat)\n",
    "\n",
    "print(\"NalphaMat=\\n\",NalphaMat,\"\\nNbetaMat=\\n\",NbetaMat)\n"
   ]
  },
  {
   "cell_type": "code",
   "execution_count": 6,
   "id": "9b0ad78f",
   "metadata": {},
   "outputs": [
    {
     "ename": "TypeError",
     "evalue": "'NotImplementedType' object is not callable",
     "output_type": "error",
     "traceback": [
      "\u001b[0;31m---------------------------------------------------------------------------\u001b[0m",
      "\u001b[0;31mTypeError\u001b[0m                                 Traceback (most recent call last)",
      "Cell \u001b[0;32mIn[6], line 8\u001b[0m\n\u001b[1;32m      5\u001b[0m         ExtRes\u001b[38;5;241m=\u001b[39mExtRes\u001b[38;5;241m*\u001b[39mExtCol[i,Integer(\u001b[38;5;241m0\u001b[39m)]\n\u001b[1;32m      6\u001b[0m     \u001b[38;5;28;01mreturn\u001b[39;00m ExtRes\n\u001b[0;32m----> 8\u001b[0m ExtNalpha\u001b[38;5;241m=\u001b[39m\u001b[43mExtFromMatrix\u001b[49m\u001b[43m(\u001b[49m\u001b[43mNalphaMat\u001b[49m\u001b[43m)\u001b[49m\n\u001b[1;32m      9\u001b[0m ExtNbeta \u001b[38;5;241m=\u001b[39mExtFromMatrix(NbetaMat)\n\u001b[1;32m     11\u001b[0m ExtNalphaMat\u001b[38;5;241m=\u001b[39mNalphaMat  \u001b[38;5;241m*\u001b[39m (matrix([Pees\u001b[38;5;241m+\u001b[39mEees])\u001b[38;5;241m.\u001b[39mtranspose())\n",
      "Cell \u001b[0;32mIn[6], line 2\u001b[0m, in \u001b[0;36mExtFromMatrix\u001b[0;34m(NMat)\u001b[0m\n\u001b[1;32m      1\u001b[0m \u001b[38;5;28;01mdef\u001b[39;00m \u001b[38;5;21mExtFromMatrix\u001b[39m(NMat):\n\u001b[0;32m----> 2\u001b[0m     ExtCol\u001b[38;5;241m=\u001b[39m\u001b[43mNMat\u001b[49m\u001b[38;5;241;43m*\u001b[39;49m\u001b[43m(\u001b[49m\u001b[43mmatrix\u001b[49m\u001b[43m(\u001b[49m\u001b[43m[\u001b[49m\u001b[43mNSeq\u001b[49m\u001b[43m]\u001b[49m\u001b[43m)\u001b[49m\u001b[38;5;241;43m.\u001b[39;49m\u001b[43mtranspose\u001b[49m\u001b[43m(\u001b[49m\u001b[43m)\u001b[49m\u001b[43m)\u001b[49m\n\u001b[1;32m      3\u001b[0m     ExtRes\u001b[38;5;241m=\u001b[39mInteger(\u001b[38;5;241m1\u001b[39m)\n\u001b[1;32m      4\u001b[0m     \u001b[38;5;28;01mfor\u001b[39;00m i \u001b[38;5;129;01min\u001b[39;00m \u001b[38;5;28mrange\u001b[39m(Integer(\u001b[38;5;241m0\u001b[39m),ExtCol\u001b[38;5;241m.\u001b[39mnrows()):\n",
      "File \u001b[0;32m/data/Software/Sage/sage/src/sage/structure/element.pyx:4122\u001b[0m, in \u001b[0;36msage.structure.element.Matrix.__mul__\u001b[0;34m()\u001b[0m\n\u001b[1;32m   4120\u001b[0m \n\u001b[1;32m   4121\u001b[0m         if BOTH_ARE_ELEMENT(cl):\n\u001b[0;32m-> 4122\u001b[0m             return coercion_model.bin_op(left, right, mul)\n\u001b[1;32m   4123\u001b[0m \n\u001b[1;32m   4124\u001b[0m         cdef long value\n",
      "File \u001b[0;32m/data/Software/Sage/sage/src/sage/structure/coerce.pyx:1226\u001b[0m, in \u001b[0;36msage.structure.coerce.CoercionModel.bin_op\u001b[0;34m()\u001b[0m\n\u001b[1;32m   1224\u001b[0m if action is not None:\n\u001b[1;32m   1225\u001b[0m     if (<Action>action)._is_left:\n\u001b[0;32m-> 1226\u001b[0m         return (<Action>action)._act_(x, y)\n\u001b[1;32m   1227\u001b[0m     else:\n\u001b[1;32m   1228\u001b[0m         return (<Action>action)._act_(y, x)\n",
      "File \u001b[0;32m/data/Software/Sage/sage/src/sage/matrix/action.pyx:284\u001b[0m, in \u001b[0;36msage.matrix.action.MatrixMatrixAction._act_\u001b[0;34m()\u001b[0m\n\u001b[1;32m    282\u001b[0m         A = A.dense_matrix()\n\u001b[1;32m    283\u001b[0m assert type(A) is type(B), (type(A), type(B))\n\u001b[0;32m--> 284\u001b[0m prod = A._matrix_times_matrix_(B)\n\u001b[1;32m    285\u001b[0m if A._subdivisions is not None or B._subdivisions is not None:\n\u001b[1;32m    286\u001b[0m     Asubs = A.subdivisions()\n",
      "File \u001b[0;32m/data/Software/Sage/sage/src/sage/matrix/matrix0.pyx:5675\u001b[0m, in \u001b[0;36msage.matrix.matrix0.Matrix._matrix_times_matrix_\u001b[0;34m()\u001b[0m\n\u001b[1;32m   5673\u001b[0m         return self._multiply_strassen(right)\n\u001b[1;32m   5674\u001b[0m     else:\n\u001b[0;32m-> 5675\u001b[0m         return self._multiply_classical(right)\n\u001b[1;32m   5676\u001b[0m \n\u001b[1;32m   5677\u001b[0m cdef bint _will_use_strassen(self, Matrix right) except -2:\n",
      "File \u001b[0;32m/data/Software/Sage/sage/src/sage/matrix/matrix_generic_dense.pyx:323\u001b[0m, in \u001b[0;36msage.matrix.matrix_generic_dense.Matrix_generic_dense._multiply_classical\u001b[0;34m()\u001b[0m\n\u001b[1;32m    321\u001b[0m m = i*snc\n\u001b[1;32m    322\u001b[0m for k in range(snc):\n\u001b[0;32m--> 323\u001b[0m     z += left._entries[m+k]._mul_(right._entries[k*nc+j])\n\u001b[1;32m    324\u001b[0m v[p] = z\n\u001b[1;32m    325\u001b[0m p += 1\n",
      "\u001b[0;31mTypeError\u001b[0m: 'NotImplementedType' object is not callable"
     ]
    }
   ],
   "source": [
    "def ExtFromMatrix(NMat):\n",
    "    ExtCol=NMat*(matrix([NSeq]).transpose())\n",
    "    ExtRes=1\n",
    "    for i in range(0,ExtCol.nrows()):\n",
    "        ExtRes=ExtRes*ExtCol[i,0]\n",
    "    return ExtRes\n",
    "\n",
    "ExtNalpha=ExtFromMatrix(NalphaMat)\n",
    "ExtNbeta =ExtFromMatrix(NbetaMat)\n",
    "        \n",
    "ExtNalphaMat=NalphaMat  * (matrix([Pees+Eees]).transpose())\n",
    "print(\"ExtNalphaMat:\\n\",ExtNalphaMat)\n",
    "ExtNbetaMat =NbetaMat * (matrix([Pees+Eees]).transpose())\n",
    "print(\"\\nExtNbetaMat:\\n\",ExtNbetaMat)\n",
    "\n",
    "ExtNbetaPerp=perp(PEVol,ExtNbeta)\n",
    "print(\"\\nExtNbetaPerp:\\n\",ExtNbetaPerp)\n",
    "\n",
    "\n",
    "#print(\"\\n\",ExtNalpha,\"\\n\",ExtNbeta,\"\\n\",ExtNbetaPerp)\n"
   ]
  },
  {
   "cell_type": "code",
   "execution_count": null,
   "id": "24c813ab",
   "metadata": {},
   "outputs": [],
   "source": [
    "GREAT=contract(II(ExtNalpha)*VV(ExtNbetaPerp),e1*e2*e3*e4)"
   ]
  },
  {
   "cell_type": "code",
   "execution_count": null,
   "id": "b85861d4",
   "metadata": {},
   "outputs": [],
   "source": [
    "seqSalpha=list(ExtNalpha.parent().gens()[0:UP]+ExtNalpha.parent().gens()[3*UP:3*UP+UN])\n",
    "ExtSNalpha=ExtS(ExtNalpha,seqSalpha)\n",
    "seqSbeta=list(ExtNbeta.parent().gens()[0:UP]+ExtNbeta.parent().gens()[3*UP:3*UP+UN])\n",
    "ExtSNbeta=ExtS(ExtNbeta,seqSbeta)\n",
    "ExtSNalpha.printme()\n",
    "ExtSNbeta.printme()\n",
    "ExtSNalpha.VOL==ExtSNbeta.VOL"
   ]
  },
  {
   "cell_type": "code",
   "execution_count": null,
   "id": "2eee68a5",
   "metadata": {},
   "outputs": [],
   "source": [
    "def LvS(ExtStop,ExtSbot):\n",
    "    assert ((ExtStop.extN.parent()==ExtSbot.extN.parent()) & \n",
    "            (ExtStop.seqS==ExtSbot.seqS))\n",
    "    newSeq=list(ExtStop.extN.parent().gens()[UP:3*UP])+ExtStop.seqS[UP:]\n",
    "    newExt=II(ExtStop.extN)*VV(ExtSbot.extN)\n",
    "    return ExtS(newExt,newSeq)\n",
    "def LvSE(ExtStop,ExtSbot):\n",
    "    LvSret=LvS(ExtStop,ExtSbot)\n",
    "    ESeq=list(ExtStop.seqS[UP:])\n",
    "    PaPbSeq=list(ExtStop.extN.parent().gens()[UP:3*UP])\n",
    "    EE=1\n",
    "    for v in ESeq:\n",
    "        EE=EE*v\n",
    "    newExt=contract(LvSret.extN,EE)\n",
    "    return( ExtS(newExt,PaPbSeq))\n",
    "def LhS(Extleft,Extright):\n",
    "    return LvS(Extleft,Extright.perp())\n",
    "def LhSE(Extleft,Extright):\n",
    "    return LvSE(Extleft,Extright.perp())"
   ]
  },
  {
   "cell_type": "raw",
   "id": "044c4a78",
   "metadata": {},
   "source": [
    "#def ExtSII(ExtSN):\n",
    "#    newSeq=list(ExtSN.extN.parent().gens()[UP:])\n",
    "#    print(\"\\nnewSeq:\",newSeq)\n",
    "#    newExt=II(ExtSN.extN)\n",
    "#    print(\"\\nnewExt:\",newExt)\n",
    "#    return ExtS(newExt,newSeq)\n",
    "#def ExtSVV(ExtSN):\n",
    "#    newSeq=list(ExtSN.extN.parent().gens()[UP:])\n",
    "#    print(\"\\nnewSeq:\",newSeq)\n",
    "#    newExt=VV(ExtSN.extN)\n",
    "#    print(\"\\nnewExt:\",newExt)\n",
    "#    return ExtS(newExt,newSeq)  "
   ]
  },
  {
   "cell_type": "code",
   "execution_count": null,
   "id": "44dca6a9",
   "metadata": {},
   "outputs": [],
   "source": [
    "HAPPYMAYBE=LvSE(ExtSNalpha,ExtSNbeta.perp())\n",
    "HAPPYMAYBE.printme()\n",
    "HAPPYTWO=LhSE(ExtSNalpha,ExtSNbeta)\n",
    "HAPPYTWO.printme()"
   ]
  },
  {
   "cell_type": "code",
   "execution_count": null,
   "id": "7706e75a",
   "metadata": {},
   "outputs": [],
   "source": [
    "ExtSNalpha.printme()"
   ]
  },
  {
   "cell_type": "code",
   "execution_count": null,
   "id": "7437fe31",
   "metadata": {},
   "outputs": [],
   "source": [
    "dele1=ExtSNalpha.deletion(e1)\n",
    "dele1.printme()\n",
    "print()\n",
    "cont1=ExtSNalpha.contraction(e1)\n",
    "cont1.printme()\n",
    "print()\n",
    "termc=LhSE(cont1,cont1)\n",
    "termc.printme()\n",
    "print()\n",
    "termd=LhSE(dele1,dele1)\n",
    "termd.printme()\n",
    "print()\n",
    "TEST=termc.extN*g1+termd.extN*r1\n",
    "print(TEST)"
   ]
  },
  {
   "cell_type": "code",
   "execution_count": null,
   "id": "c0e0c17a",
   "metadata": {},
   "outputs": [],
   "source": [
    "tmp2=ExtSNalpha.contraction(e1)\n",
    "tmp2.printme()"
   ]
  },
  {
   "cell_type": "code",
   "execution_count": null,
   "id": "0418ffab",
   "metadata": {},
   "outputs": [],
   "source": [
    "tmp3=tmp2.perp()\n",
    "tmp3.printme()"
   ]
  },
  {
   "cell_type": "code",
   "execution_count": null,
   "id": "442eeb36",
   "metadata": {},
   "outputs": [],
   "source": [
    "tmp4=LvS(tmp2,tmp3)\n",
    "tmp4.printme()\n",
    "tmp5=LvSE(tmp2,tmp3)\n",
    "tmp5.printme()"
   ]
  },
  {
   "cell_type": "code",
   "execution_count": null,
   "id": "b3a8d9b1",
   "metadata": {},
   "outputs": [],
   "source": [
    "Ce1=ExtSNalpha.contraction(e2)\n",
    "De1=ExtSNalpha.deletion(e2)\n",
    "Ce1.printme()\n",
    "De1.printme()\n",
    "\n",
    "\n",
    "Cresult=LhSE(Ce1,Ce1)\n",
    "Dresult=LhSE(De1,De1)\n",
    "\n",
    "#De1.printme()\n",
    "\n",
    "print(\"\\n\\n\")\n",
    "Cresult.printme()\n",
    "print(\"\\n\\n\")\n",
    "Dresult.printme()\n",
    "\n",
    "\n",
    "\n",
    "\n",
    "TRY=g2*Cresult.extN+r2*Dresult.extN\n",
    "print(TRY)"
   ]
  },
  {
   "cell_type": "code",
   "execution_count": null,
   "id": "9f5642c9",
   "metadata": {},
   "outputs": [],
   "source": [
    "TRY==RESULT"
   ]
  },
  {
   "cell_type": "code",
   "execution_count": null,
   "id": "b86f1cc4",
   "metadata": {},
   "outputs": [],
   "source": [
    "Ce1.printme()"
   ]
  },
  {
   "cell_type": "code",
   "execution_count": null,
   "id": "7aab371e",
   "metadata": {},
   "outputs": [],
   "source": [
    "Ce1.perp().extN"
   ]
  },
  {
   "cell_type": "code",
   "execution_count": null,
   "id": "c7a7c1f2",
   "metadata": {},
   "outputs": [],
   "source": [
    "\n",
    "LvS(ExtSNalpha,ExtSNbeta).printme()\n",
    "print(\"\\n\")\n",
    "#ExtSII(ExtSNalpha).printme()\n",
    "print(\"\\n\")\n",
    "#ExtSVV(ExtSNbeta).printme()\n",
    "\n"
   ]
  },
  {
   "cell_type": "code",
   "execution_count": null,
   "id": "31bbd445",
   "metadata": {},
   "outputs": [],
   "source": []
  },
  {
   "cell_type": "code",
   "execution_count": null,
   "id": "deb1d3e5",
   "metadata": {},
   "outputs": [],
   "source": [
    "ExtSNbetaPerp=ExtSNbeta.perp()\n",
    "ExtSNbetaPerp.printme()"
   ]
  },
  {
   "cell_type": "code",
   "execution_count": null,
   "id": "cc0599b6",
   "metadata": {},
   "outputs": [],
   "source": [
    "print(\"ExtSNalpha\")\n",
    "ExtSNalpha.printme()\n",
    "print(\"\\nExtSNbeta\")\n",
    "ExtSNbeta.printme()"
   ]
  },
  {
   "cell_type": "code",
   "execution_count": null,
   "id": "5ed80c36",
   "metadata": {},
   "outputs": [],
   "source": []
  },
  {
   "cell_type": "code",
   "execution_count": null,
   "id": "83f33f3e",
   "metadata": {},
   "outputs": [],
   "source": [
    "def L_E(ExtNalpha,ExtNbeta,E):\n",
    "    contract(II(ExtNalpha)*VV(ExtNbetaPerp),e1*e2*e3*e4)"
   ]
  },
  {
   "cell_type": "code",
   "execution_count": null,
   "id": "836bbe17",
   "metadata": {},
   "outputs": [],
   "source": [
    "Ext.gens()"
   ]
  },
  {
   "cell_type": "code",
   "execution_count": null,
   "id": "f42c4c51",
   "metadata": {},
   "outputs": [],
   "source": [
    "epsilon=e1*e2*e3*e4*p1*p2"
   ]
  },
  {
   "cell_type": "code",
   "execution_count": null,
   "id": "da17d316",
   "metadata": {},
   "outputs": [],
   "source": [
    "epsilon.interior_product(e2)"
   ]
  },
  {
   "cell_type": "code",
   "execution_count": null,
   "id": "a4a99499",
   "metadata": {},
   "outputs": [],
   "source": [
    "seq=[e1,e2,e3]"
   ]
  },
  {
   "cell_type": "code",
   "execution_count": null,
   "id": "3c32486b",
   "metadata": {},
   "outputs": [],
   "source": [
    "prod([i for i in seq])"
   ]
  },
  {
   "cell_type": "code",
   "execution_count": null,
   "id": "c2412fbb",
   "metadata": {},
   "outputs": [],
   "source": [
    "res=seq.copy()\n",
    "res"
   ]
  },
  {
   "cell_type": "code",
   "execution_count": null,
   "id": "d7129e1c",
   "metadata": {},
   "outputs": [],
   "source": [
    "print(res)"
   ]
  },
  {
   "cell_type": "code",
   "execution_count": null,
   "id": "c3860edb",
   "metadata": {},
   "outputs": [],
   "source": [
    "res.remove(e2)\n",
    "print(res)"
   ]
  },
  {
   "cell_type": "code",
   "execution_count": null,
   "id": "029897cd",
   "metadata": {},
   "outputs": [],
   "source": [
    "seq"
   ]
  },
  {
   "cell_type": "code",
   "execution_count": null,
   "id": "61d4ecf3",
   "metadata": {},
   "outputs": [],
   "source": []
  },
  {
   "cell_type": "code",
   "execution_count": null,
   "id": "d11f0023",
   "metadata": {
    "scrolled": true
   },
   "outputs": [],
   "source": [
    "Ext.basis()"
   ]
  },
  {
   "cell_type": "code",
   "execution_count": null,
   "id": "960c544d",
   "metadata": {},
   "outputs": [],
   "source": [
    "e1.parent()"
   ]
  },
  {
   "cell_type": "code",
   "execution_count": null,
   "id": "4c281919",
   "metadata": {},
   "outputs": [],
   "source": [
    "Ext.volume_form()"
   ]
  },
  {
   "cell_type": "code",
   "execution_count": null,
   "id": "ff2c5f06",
   "metadata": {},
   "outputs": [],
   "source": [
    "n=UN\n",
    "p=UP\n",
    "\n",
    "var('r cr')\n",
    "\n",
    "r = 3\n",
    "\n",
    "cr = n+p-r"
   ]
  },
  {
   "cell_type": "code",
   "execution_count": null,
   "id": "30cc7258",
   "metadata": {},
   "outputs": [],
   "source": [
    "#these will be overwritten when they are built from a graph below\n",
    "\n",
    "Nal =   matrix(Crg,  r,  n+p)\n",
    "NbePe = matrix(Crg, cr,  n+p)\n"
   ]
  },
  {
   "cell_type": "code",
   "execution_count": null,
   "id": "0259237e",
   "metadata": {},
   "outputs": [],
   "source": [
    "#\n",
    "# Supply a graph\n",
    "#\n",
    "Graph1MyEdges= [(2, 1, p1),(4, 3, p2),(1, 3, e1), (2, 3, e2), (4, 1, e3),(2, 4, e4)  ]\n",
    "#HA I can label the edges with Ext generators!\n",
    "\n",
    "Graph1=DiGraph([[1,2,3,4],Graph1MyEdges])\n",
    "\n",
    "pos_dict = {\n",
    " 1: [.33, .25],\n",
    " 2: [.33, 0],\n",
    " 3: [.6, .33],\n",
    " 4: [0.6, -.1]}\n",
    "\n",
    "myplot=Graph1.plot(edge_labels=True,vertex_labels=True,pos=pos_dict,save_pos=True)\n",
    "myplot.save(\"K4.pdf\")\n",
    "myplot"
   ]
  },
  {
   "cell_type": "code",
   "execution_count": null,
   "id": "dd834efe",
   "metadata": {},
   "outputs": [],
   "source": [
    "#Graph1.edges()\n",
    "\n",
    "NalFull=Graph1.incidence_matrix(oriented=True, edges=Graph1MyEdges)\n",
    "                       \n",
    "NalFull"
   ]
  },
  {
   "cell_type": "code",
   "execution_count": null,
   "id": "da295478",
   "metadata": {},
   "outputs": [],
   "source": [
    "temp=[i for i in range(r,Graph1.num_verts())]\n",
    "Nal=NalFull.delete_rows(temp)\n",
    "assert((Nal.nrows()==r) & (Nal.ncols()==n+p))\n",
    "Nal"
   ]
  },
  {
   "cell_type": "code",
   "execution_count": null,
   "id": "12d11aa8",
   "metadata": {},
   "outputs": [],
   "source": [
    "latex(Nal)"
   ]
  },
  {
   "cell_type": "code",
   "execution_count": null,
   "id": "6ffe1708",
   "metadata": {},
   "outputs": [],
   "source": [
    "NbePe=Nal.right_kernel().basis_matrix()\n",
    "NbePe"
   ]
  },
  {
   "cell_type": "code",
   "execution_count": null,
   "id": "15f8e85b",
   "metadata": {
    "scrolled": true
   },
   "outputs": [],
   "source": [
    "latex(NbePe)"
   ]
  },
  {
   "cell_type": "code",
   "execution_count": null,
   "id": "590c810b",
   "metadata": {},
   "outputs": [],
   "source": [
    "NalG=   Nal  *diagonal_matrix([1 for i in range(0,p)]+Gees)\n",
    "NbePeR= NbePe*diagonal_matrix([1 for i in range(0,p)]+Rrrs)"
   ]
  },
  {
   "cell_type": "code",
   "execution_count": null,
   "id": "f5903e6d",
   "metadata": {},
   "outputs": [],
   "source": [
    "latex(NalG)"
   ]
  },
  {
   "cell_type": "code",
   "execution_count": null,
   "id": "616318ab",
   "metadata": {},
   "outputs": [],
   "source": [
    "NbePeR"
   ]
  },
  {
   "cell_type": "code",
   "execution_count": null,
   "id": "acaff2c2",
   "metadata": {},
   "outputs": [],
   "source": [
    "latex(NbePeR)"
   ]
  },
  {
   "cell_type": "code",
   "execution_count": null,
   "id": "07d9108e",
   "metadata": {},
   "outputs": [],
   "source": [
    "Lal=NalG   * (matrix([Paas+Eees]).transpose());print(\"Lal:\\n\",Lal)\n",
    "Lbe=NbePeR * (matrix([Pbes+Eees]).transpose());print(\"\\nLbe:\\n\",Lbe)"
   ]
  },
  {
   "cell_type": "code",
   "execution_count": null,
   "id": "c0804540",
   "metadata": {},
   "outputs": [],
   "source": [
    "dictLal=Lal.dict();dictLal"
   ]
  },
  {
   "cell_type": "code",
   "execution_count": null,
   "id": "7de959ec",
   "metadata": {},
   "outputs": [],
   "source": [
    "dictLbe=Lbe.dict();dictLbe"
   ]
  },
  {
   "cell_type": "code",
   "execution_count": null,
   "id": "91b3c087",
   "metadata": {},
   "outputs": [],
   "source": [
    "ResAl=1\n",
    "for i in range(0,r):\n",
    "    ResAl=ResAl*(dictLal.get((i,0)))\n",
    "print(\"ResAl\\n\")\n",
    "print(ResAl)\n",
    "ResBe=1\n",
    "for i in range(0,cr):\n",
    "    ResBe=ResBe*(dictLbe.get((i,0)))\n",
    "print(\"\\nResBe\\n\")\n",
    "print(ResBe)\n",
    "Res=ResAl*ResBe\n",
    "\n",
    "LLL=Res\n",
    "\n",
    "#print(\"final result\")\n",
    "#print(Res)\n",
    "Reslist=Res.list()\n",
    "print(\"\\n Res list:\\n\")\n",
    "Reslist\n"
   ]
  },
  {
   "cell_type": "code",
   "execution_count": null,
   "id": "7dd6d48e",
   "metadata": {},
   "outputs": [],
   "source": [
    "RESULT=0\n",
    "for thing in Reslist:\n",
    "    print(tuple(range(3*p,3*p+n)))\n",
    "    print(\"\\nTry:\",thing[0])\n",
    "    if thing[0][p:p+n]==tuple(range(3*p,3*p+n)):\n",
    "        print(\" \\n\", thing)\n",
    "        prgens=1\n",
    "        print(\"\\n\",thing[0][0:p])\n",
    "        for i in thing[0][0:p]:\n",
    "            prgens=prgens*(Ext.gens()[i])\n",
    "        print(\" \\nMonomial:\", prgens)\n",
    "        print(\"Coef:\",thing[1])\n",
    "        term = thing[1]*prgens\n",
    "#        print(\" \\n\", term)\n",
    "        RESULT = RESULT + term\n",
    "#print(\"\\nHERE IT IS:\", RESULT)"
   ]
  },
  {
   "cell_type": "code",
   "execution_count": null,
   "id": "3bc41617",
   "metadata": {
    "scrolled": true
   },
   "outputs": [],
   "source": [
    "RESULT.list()"
   ]
  },
  {
   "cell_type": "code",
   "execution_count": null,
   "id": "1f0eb38a",
   "metadata": {},
   "outputs": [],
   "source": [
    "RESULT==GREAT"
   ]
  },
  {
   "cell_type": "code",
   "execution_count": null,
   "id": "750c7740",
   "metadata": {},
   "outputs": [],
   "source": [
    "HAPPYMAYBE.extN==RESULT"
   ]
  },
  {
   "cell_type": "code",
   "execution_count": null,
   "id": "25d9c8cd",
   "metadata": {},
   "outputs": [],
   "source": [
    "TEST==RESULT"
   ]
  },
  {
   "cell_type": "code",
   "execution_count": null,
   "id": "5c22d7b0",
   "metadata": {},
   "outputs": [],
   "source": [
    "LLL"
   ]
  },
  {
   "cell_type": "code",
   "execution_count": null,
   "id": "88b4658d",
   "metadata": {},
   "outputs": [],
   "source": [
    "LLL"
   ]
  },
  {
   "cell_type": "code",
   "execution_count": null,
   "id": "673b16e8",
   "metadata": {},
   "outputs": [],
   "source": [
    "delete(LLL,e1)"
   ]
  },
  {
   "cell_type": "code",
   "execution_count": null,
   "id": "babb75ad",
   "metadata": {},
   "outputs": [],
   "source": [
    "contract(LLL,e1)\n"
   ]
  },
  {
   "cell_type": "code",
   "execution_count": null,
   "id": "747b2ff3",
   "metadata": {},
   "outputs": [],
   "source": [
    "delete_contract(LLL,e1)"
   ]
  },
  {
   "cell_type": "code",
   "execution_count": null,
   "id": "f4915806",
   "metadata": {},
   "outputs": [],
   "source": []
  }
 ],
 "metadata": {
  "kernelspec": {
   "display_name": "SageMath 10.4",
   "language": "sage",
   "name": "sagemath"
  },
  "language_info": {
   "codemirror_mode": {
    "name": "ipython",
    "version": 3
   },
   "file_extension": ".py",
   "mimetype": "text/x-python",
   "name": "python",
   "nbconvert_exporter": "python",
   "pygments_lexer": "ipython3",
   "version": "3.10.12"
  }
 },
 "nbformat": 4,
 "nbformat_minor": 5
}
