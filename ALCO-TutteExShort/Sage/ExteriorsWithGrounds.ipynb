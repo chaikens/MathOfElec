{
 "cells": [
  {
   "cell_type": "code",
   "execution_count": 29,
   "id": "1ed43489",
   "metadata": {},
   "outputs": [],
   "source": [
    "# number of E and P elts in the universe\n",
    "var('UN,UP')\n",
    "UN=4; UP=2"
   ]
  },
  {
   "cell_type": "code",
   "execution_count": 39,
   "id": "007d3801",
   "metadata": {},
   "outputs": [
    {
     "name": "stdout",
     "output_type": "stream",
     "text": [
      "Defining r1, r2, r3, r4, g1, g2, g3, g4\n",
      "Defining p1, p2, pa1, pa2, pb1, pb2, e1, e2, e3, e4\n"
     ]
    }
   ],
   "source": [
    "Crg = PolynomialRing(RationalField(),\n",
    "                     ['r%s'%i for i in range(1, UN+1)] + ['g%s'%i for i in range(1, UN+1)])\n",
    "Crg.inject_variables()\n",
    "\n",
    "\n",
    "#CrgF=Crg.fraction_field()\n",
    "#CrgF.inject_variables()\n",
    "#THIS FAILS WHEN WE TRY TO MULTIPLY AN EXTERIOR ALG ELE BY A POLY. GENERATOR\n",
    "\n",
    "Ext=\\\n",
    "    ExteriorAlgebra(Crg,\\\n",
    "        ['p%s'%i  for i in range(1, UP+1)]+\\\n",
    "        ['pa%s'%i for i in range(1, UP+1)]+\\\n",
    "        ['pb%s'%i for i in range(1, UP+1)]+\\\n",
    "        ['e%s'%i  for i in range(1, UN+1)])\n",
    "Ext.inject_variables() \n",
    "\n",
    "Rrrs=[Crg.gen(i)    for i in range(0, UN)]\n",
    "Gees=[Crg.gen(i)    for i in range(UN, 2*UN)]\n",
    "Pees=[Ext.gen(i)    for i in range(0, UP)]\n",
    "Paas=[Ext.gen(i)    for i in range(UP, 2*UP)]\n",
    "Pbes=[Ext.gen(i)    for i in range(2*UP, 3*UP)]\n",
    "Eees=[Ext.gen(i)    for i in range(3*UP, 3*UP+UN)]\n",
    "\n",
    "NSeq=Pees+Eees\n",
    "PEVol=prod(NSeq)\n",
    "EVol=prod(Eees)\n",
    "\n",
    "\n",
    "diagRrrs=diagonal_matrix(Rrrs)\n",
    "diagGees=diagonal_matrix(Gees)\n",
    "\n",
    "matII=block_matrix([[matrix(UP)         ,matrix(UP)    ,matrix(UP)   ,matrix(UP,UN)],\n",
    "                    [identity_matrix(UP),matrix(UP)    ,matrix(UP)   ,matrix(UP,UN)],       \n",
    "                    [matrix(UP)         ,matrix(UP)    ,matrix(UP)   ,matrix(UP,UN)],\n",
    "                    [matrix(UN,UP)      ,matrix(UN,UP) ,matrix(UN,UP),diagGees     ]\n",
    "                   ])\n",
    "matVV=block_matrix([[matrix(UP)         ,matrix(UP)    ,matrix(UP)   ,matrix(UP,UN)],\n",
    "                    [matrix(UP)         ,matrix(UP)    ,matrix(UP)   ,matrix(UP,UN)],       \n",
    "                    [identity_matrix(UP),matrix(UP)    ,matrix(UP)   ,matrix(UP,UN)],\n",
    "                    [matrix(UN,UP)      ,matrix(UN,UP) ,matrix(UN,UP),diagRrrs     ]\n",
    "                   ])\n",
    "\n",
    "II=Ext.lift_module_morphism(matII)\n",
    "VV=Ext.lift_module_morphism(matVV)\n"
   ]
  },
  {
   "cell_type": "code",
   "execution_count": 40,
   "id": "65c03908",
   "metadata": {},
   "outputs": [],
   "source": [
    "#Exterior Algebra operations only\n",
    "#Exterior Algebra with ground set operations are defined later.\n",
    "\n",
    "\n",
    "def contract(X,E):\n",
    "    #only contract by monomials\n",
    "    #Is used to implement LvSE and LhSE contraction where the ground set is Palpha+Pbeta+E\n",
    "    assert (E.length()==1)\n",
    "    return (X.interior_product(E)*(-1)^(E.degree()*(X.degree()-E.degree())))\n",
    "\n",
    "def delete(X,e):\n",
    "    #the subtraction formula only works for vectors.\n",
    "    assert (e.degree()==1 & e.length()==1)\n",
    "    return (X - contract(X,e)*e)\n",
    "\n",
    "def delete_contract(X,e):\n",
    "    #only contract by monomials\n",
    "    assert (e.degree()==1 & e.length()==1)\n",
    "    contr = X.interior_product(e)*(-1)^(e.degree()*(X.degree()-e.degree()))\n",
    "    dele = X - contr*e\n",
    "    return (dele, contr)\n",
    "\n",
    "def perp(VOL,N):\n",
    "    return (VOL.interior_product(N))"
   ]
  },
  {
   "cell_type": "code",
   "execution_count": 41,
   "id": "4ba2ddc2",
   "metadata": {
    "scrolled": false
   },
   "outputs": [],
   "source": [
    "#Exterior algebra elements with ground sequenced ground set\n",
    "class ExtS:\n",
    "    def __init__(this, extN, seqS):\n",
    "        this.extN = extN\n",
    "        this.seqS = copy(seqS)\n",
    "        this._set_VOL()      \n",
    "    \n",
    "    def contraction(this,e):\n",
    "        #does only one\n",
    "        assert (e.length()==1 & e.degree()==1)\n",
    "        result = this._copy_remove(e)\n",
    "        result.extN = contract(result.extN,e)\n",
    "        return (result)\n",
    "    def deletion(this,e):\n",
    "        #does only one\n",
    "        assert (e.length()==1 & e.degree()==1)  \n",
    "        result = this._copy_remove(e)\n",
    "        result.extN = delete(result.extN,e)\n",
    "        return (result)\n",
    "    def perp(this):\n",
    "        result=this._copy()\n",
    "        result.extN = perp(this.VOL, this.extN)\n",
    "        return (result)\n",
    "    \n",
    "    def printme(this):\n",
    "        print(\"element:\",this.extN)\n",
    "        print(\"set orientation:\",this.seqS)\n",
    "        print(\"Volume:\",this.VOL)\n",
    "        \n",
    "    def _set_VOL(this):\n",
    "        acc = 1\n",
    "        for v in this.seqS:\n",
    "            acc = acc*v\n",
    "        this.VOL = acc\n",
    "    def _copy(this):\n",
    "        return ExtS(this.extN, this.seqS)    \n",
    "    def _copy_remove(this,e):\n",
    "        result = this._copy()\n",
    "        result.seqS.remove(e)\n",
    "        result._set_VOL()\n",
    "        return(result)\n",
    "\n"
   ]
  },
  {
   "cell_type": "raw",
   "id": "43573089",
   "metadata": {
    "scrolled": false
   },
   "source": [
    "play=ExtS(e1*e2*e3-e1*e3*e4, [e1, e2, e3, e4])\n",
    "play.printme()\n",
    "print(\"\\nContract:\")\n",
    "playcontract=play.contraction(e2)\n",
    "playcontract.printme()\n",
    "print(\"\\nDelete:\")\n",
    "playdelete=play.deletion(e2)\n",
    "playdelete.printme()\n",
    "playperp=play.perp()\n",
    "print(\"\\nDualize:\")\n",
    "playperp.printme()"
   ]
  },
  {
   "cell_type": "code",
   "execution_count": 42,
   "id": "496f318e",
   "metadata": {
    "scrolled": true
   },
   "outputs": [
    {
     "name": "stdout",
     "output_type": "stream",
     "text": [
      "NalphaMat=\n",
      " [ 1  0 -1  0  1  0]\n",
      "[-1  0  0 -1  0 -1]\n",
      "[ 0  1  1  1  0  0] \n",
      "NbetaMat=\n",
      " [ 1  0 -1  0  1  0]\n",
      "[-1  0  0 -1  0 -1]\n",
      "[ 0  1  1  1  0  0]\n"
     ]
    }
   ],
   "source": [
    "#\n",
    "# Supply explicit matrices\n",
    "#\n",
    "\n",
    "UR=3\n",
    "\n",
    "NalphaMat = matrix(3,UN+UP,\n",
    "    [[ 1, 0, -1,  0,  1,   0],\n",
    "     [-1,  0,  0, -1,  0, -1],\n",
    "     [ 0,  1,  1,  1,  0,  0]\n",
    "    ])\n",
    "\n",
    "NbetaMat=copy(NalphaMat)\n",
    "\n",
    "print(\"NalphaMat=\\n\",NalphaMat,\"\\nNbetaMat=\\n\",NbetaMat)\n"
   ]
  },
  {
   "cell_type": "code",
   "execution_count": 44,
   "id": "9b0ad78f",
   "metadata": {
    "scrolled": false
   },
   "outputs": [
    {
     "name": "stdout",
     "output_type": "stream",
     "text": [
      "ExtNalphaMat:\n",
      " [ p1 - e1 + e3]\n",
      "[-p1 - e2 - e4]\n",
      "[ p2 + e1 + e2]\n",
      "\n",
      "ExtNbetaMat:\n",
      " [ p1 - e1 + e3]\n",
      "[-p1 - e2 - e4]\n",
      "[ p2 + e1 + e2]\n",
      "\n",
      "ExtNbetaPerp:\n",
      " p1*p2*e1 - p1*p2*e2 + p1*p2*e3 + p1*p2*e4 + p1*e1*e2 - p1*e1*e4 - p1*e2*e3 - p1*e3*e4 - p2*e1*e3 - p2*e1*e4 + p2*e2*e3 + p2*e2*e4 - e1*e2*e3 - e1*e2*e4 - e1*e3*e4 + e2*e3*e4\n"
     ]
    }
   ],
   "source": [
    "def ExtFromMatrix(NMat):\n",
    "    ExtCol=NMat*(matrix([NSeq]).transpose())\n",
    "    ExtRes=1\n",
    "    for i in range(0,ExtCol.nrows()):\n",
    "        ExtRes=ExtRes*ExtCol[i,0]\n",
    "    return ExtRes\n",
    "\n",
    "ExtNalpha=ExtFromMatrix(NalphaMat)\n",
    "ExtNbeta =ExtFromMatrix(NbetaMat)\n",
    "        \n",
    "ExtNalphaMat=NalphaMat  * (matrix([Pees+Eees]).transpose())\n",
    "print(\"ExtNalphaMat:\\n\",ExtNalphaMat)\n",
    "ExtNbetaMat =NbetaMat * (matrix([Pees+Eees]).transpose())\n",
    "print(\"\\nExtNbetaMat:\\n\",ExtNbetaMat)\n",
    "\n",
    "ExtNbetaPerp=perp(PEVol,ExtNbeta)\n",
    "print(\"\\nExtNbetaPerp:\\n\",ExtNbetaPerp)\n",
    "\n",
    "\n",
    "#print(\"\\n\",ExtNalpha,\"\\n\",ExtNbeta,\"\\n\",ExtNbetaPerp)\n"
   ]
  },
  {
   "cell_type": "code",
   "execution_count": 45,
   "id": "24c813ab",
   "metadata": {},
   "outputs": [],
   "source": [
    "GREAT=contract(II(ExtNalpha)*VV(ExtNbetaPerp),e1*e2*e3*e4)"
   ]
  },
  {
   "cell_type": "code",
   "execution_count": 11,
   "id": "b85861d4",
   "metadata": {},
   "outputs": [
    {
     "name": "stdout",
     "output_type": "stream",
     "text": [
      "element: p1*p2*e1 + p1*p2*e2 - p1*p2*e3 + p1*p2*e4 - p1*e1*e3 + p1*e1*e4 - p1*e2*e3 + p1*e2*e4 + p2*e1*e2 + p2*e1*e4 + p2*e2*e3 - p2*e3*e4 + e1*e2*e3 - e1*e2*e4 - e1*e3*e4 - e2*e3*e4\n",
      "set orientation: [p1, p2, e1, e2, e3, e4]\n",
      "Volume: p1*p2*e1*e2*e3*e4\n",
      "element: p1*p2*e1 + p1*p2*e2 - p1*p2*e3 + p1*p2*e4 - p1*e1*e3 + p1*e1*e4 - p1*e2*e3 + p1*e2*e4 + p2*e1*e2 + p2*e1*e4 + p2*e2*e3 - p2*e3*e4 + e1*e2*e3 - e1*e2*e4 - e1*e3*e4 - e2*e3*e4\n",
      "set orientation: [p1, p2, e1, e2, e3, e4]\n",
      "Volume: p1*p2*e1*e2*e3*e4\n"
     ]
    },
    {
     "data": {
      "text/plain": [
       "True"
      ]
     },
     "execution_count": 11,
     "metadata": {},
     "output_type": "execute_result"
    }
   ],
   "source": [
    "seqSalpha=list(ExtNalpha.parent().gens()[0:UP]+ExtNalpha.parent().gens()[3*UP:3*UP+UN])\n",
    "ExtSNalpha=ExtS(ExtNalpha,seqSalpha)\n",
    "seqSbeta=list(ExtNbeta.parent().gens()[0:UP]+ExtNbeta.parent().gens()[3*UP:3*UP+UN])\n",
    "ExtSNbeta=ExtS(ExtNbeta,seqSbeta)\n",
    "ExtSNalpha.printme()\n",
    "ExtSNbeta.printme()\n",
    "ExtSNalpha.VOL==ExtSNbeta.VOL"
   ]
  },
  {
   "cell_type": "code",
   "execution_count": 13,
   "id": "2eee68a5",
   "metadata": {},
   "outputs": [],
   "source": [
    "def LvS(ExtStop,ExtSbot):\n",
    "    assert ((ExtStop.extN.parent()==ExtSbot.extN.parent()) & \n",
    "            (ExtStop.seqS==ExtSbot.seqS))\n",
    "    newSeq=list(ExtStop.extN.parent().gens()[UP:3*UP])+ExtStop.seqS[UP:]\n",
    "    newExt=II(ExtStop.extN)*VV(ExtSbot.extN)\n",
    "    return ExtS(newExt,newSeq)\n",
    "def LvSE(ExtStop,ExtSbot):\n",
    "    LvSret=LvS(ExtStop,ExtSbot)\n",
    "    ESeq=list(ExtStop.seqS[UP:])\n",
    "    PaPbSeq=list(ExtStop.extN.parent().gens()[UP:3*UP])\n",
    "    EE=1\n",
    "    for v in ESeq:\n",
    "        EE=EE*v\n",
    "    newExt=contract(LvSret.extN,EE)\n",
    "    return( ExtS(newExt,PaPbSeq))\n",
    "def LhS(Extleft,Extright):\n",
    "    return LvS(Extleft,Extright.perp())\n",
    "def LhSE(Extleft,Extright):\n",
    "    return LvSE(Extleft,Extright.perp())"
   ]
  },
  {
   "cell_type": "raw",
   "id": "044c4a78",
   "metadata": {},
   "source": [
    "#def ExtSII(ExtSN):\n",
    "#    newSeq=list(ExtSN.extN.parent().gens()[UP:])\n",
    "#    print(\"\\nnewSeq:\",newSeq)\n",
    "#    newExt=II(ExtSN.extN)\n",
    "#    print(\"\\nnewExt:\",newExt)\n",
    "#    return ExtS(newExt,newSeq)\n",
    "#def ExtSVV(ExtSN):\n",
    "#    newSeq=list(ExtSN.extN.parent().gens()[UP:])\n",
    "#    print(\"\\nnewSeq:\",newSeq)\n",
    "#    newExt=VV(ExtSN.extN)\n",
    "#    print(\"\\nnewExt:\",newExt)\n",
    "#    return ExtS(newExt,newSeq)  "
   ]
  },
  {
   "cell_type": "code",
   "execution_count": 15,
   "id": "44dca6a9",
   "metadata": {},
   "outputs": [
    {
     "name": "stdout",
     "output_type": "stream",
     "text": [
      "element: (r2*r3*r4*g1 + r1*r3*r4*g2 + r1*r2*r4*g3 + r1*r2*r3*g4)*pa1*pa2 + (r1*r4*g2*g3 - r2*r3*g1*g4)*pa1*pb1 + (r2*r4*g1*g3 + r1*r4*g2*g3 + r2*r3*g1*g4 + r1*r3*g2*g4)*pa1*pb2 + (-r3*r4*g1*g2 - r1*r4*g2*g3 - r2*r3*g1*g4 - r1*r2*g3*g4)*pa2*pb1 + (-r1*r4*g2*g3 + r2*r3*g1*g4)*pa2*pb2 + (r4*g1*g2*g3 + r3*g1*g2*g4 + r2*g1*g3*g4 + r1*g2*g3*g4)*pb1*pb2\n",
      "set orientation: [pa1, pa2, pb1, pb2]\n",
      "Volume: pa1*pa2*pb1*pb2\n",
      "element: (r2*r3*r4*g1 + r1*r3*r4*g2 + r1*r2*r4*g3 + r1*r2*r3*g4)*pa1*pa2 + (r1*r4*g2*g3 - r2*r3*g1*g4)*pa1*pb1 + (r2*r4*g1*g3 + r1*r4*g2*g3 + r2*r3*g1*g4 + r1*r3*g2*g4)*pa1*pb2 + (-r3*r4*g1*g2 - r1*r4*g2*g3 - r2*r3*g1*g4 - r1*r2*g3*g4)*pa2*pb1 + (-r1*r4*g2*g3 + r2*r3*g1*g4)*pa2*pb2 + (r4*g1*g2*g3 + r3*g1*g2*g4 + r2*g1*g3*g4 + r1*g2*g3*g4)*pb1*pb2\n",
      "set orientation: [pa1, pa2, pb1, pb2]\n",
      "Volume: pa1*pa2*pb1*pb2\n"
     ]
    }
   ],
   "source": [
    "HAPPYMAYBE=LvSE(ExtSNalpha,ExtSNbeta.perp())\n",
    "HAPPYMAYBE.printme()\n",
    "HAPPYTWO=LhSE(ExtSNalpha,ExtSNbeta)\n",
    "HAPPYTWO.printme()"
   ]
  },
  {
   "cell_type": "code",
   "execution_count": 16,
   "id": "7706e75a",
   "metadata": {},
   "outputs": [
    {
     "name": "stdout",
     "output_type": "stream",
     "text": [
      "element: p1*p2*e1 + p1*p2*e2 - p1*p2*e3 + p1*p2*e4 - p1*e1*e3 + p1*e1*e4 - p1*e2*e3 + p1*e2*e4 + p2*e1*e2 + p2*e1*e4 + p2*e2*e3 - p2*e3*e4 + e1*e2*e3 - e1*e2*e4 - e1*e3*e4 - e2*e3*e4\n",
      "set orientation: [p1, p2, e1, e2, e3, e4]\n",
      "Volume: p1*p2*e1*e2*e3*e4\n"
     ]
    }
   ],
   "source": [
    "ExtSNalpha.printme()"
   ]
  },
  {
   "cell_type": "code",
   "execution_count": 17,
   "id": "7437fe31",
   "metadata": {},
   "outputs": [
    {
     "name": "stdout",
     "output_type": "stream",
     "text": [
      "element: p1*p2*e2 - p1*p2*e3 + p1*p2*e4 - p1*e2*e3 + p1*e2*e4 + p2*e2*e3 - p2*e3*e4 - e2*e3*e4\n",
      "set orientation: [p1, p2, e2, e3, e4]\n",
      "Volume: p1*p2*e2*e3*e4\n",
      "\n",
      "element: p1*p2 + p1*e3 - p1*e4 - p2*e2 - p2*e4 + e2*e3 - e2*e4 - e3*e4\n",
      "set orientation: [p1, p2, e2, e3, e4]\n",
      "Volume: p1*p2*e2*e3*e4\n",
      "\n",
      "element: r2*r3*r4*pa1*pa2 - r2*r3*g4*pa1*pb1 + (r2*r4*g3 + r2*r3*g4)*pa1*pb2 + (-r3*r4*g2 - r2*r3*g4)*pa2*pb1 + r2*r3*g4*pa2*pb2 + (r4*g2*g3 + r3*g2*g4 + r2*g3*g4)*pb1*pb2\n",
      "set orientation: [pa1, pa2, pb1, pb2]\n",
      "Volume: pa1*pa2*pb1*pb2\n",
      "\n",
      "element: (r3*r4*g2 + r2*r4*g3 + r2*r3*g4)*pa1*pa2 + r4*g2*g3*pa1*pb1 + (r4*g2*g3 + r3*g2*g4)*pa1*pb2 + (-r4*g2*g3 - r2*g3*g4)*pa2*pb1 - r4*g2*g3*pa2*pb2 + g2*g3*g4*pb1*pb2\n",
      "set orientation: [pa1, pa2, pb1, pb2]\n",
      "Volume: pa1*pa2*pb1*pb2\n",
      "\n",
      "(r2*r3*r4*g1 + r1*r3*r4*g2 + r1*r2*r4*g3 + r1*r2*r3*g4)*pa1*pa2 + (r1*r4*g2*g3 - r2*r3*g1*g4)*pa1*pb1 + (r2*r4*g1*g3 + r1*r4*g2*g3 + r2*r3*g1*g4 + r1*r3*g2*g4)*pa1*pb2 + (-r3*r4*g1*g2 - r1*r4*g2*g3 - r2*r3*g1*g4 - r1*r2*g3*g4)*pa2*pb1 + (-r1*r4*g2*g3 + r2*r3*g1*g4)*pa2*pb2 + (r4*g1*g2*g3 + r3*g1*g2*g4 + r2*g1*g3*g4 + r1*g2*g3*g4)*pb1*pb2\n"
     ]
    }
   ],
   "source": [
    "dele1=ExtSNalpha.deletion(e1)\n",
    "dele1.printme()\n",
    "print()\n",
    "cont1=ExtSNalpha.contraction(e1)\n",
    "cont1.printme()\n",
    "print()\n",
    "termc=LhSE(cont1,cont1)\n",
    "termc.printme()\n",
    "print()\n",
    "termd=LhSE(dele1,dele1)\n",
    "termd.printme()\n",
    "print()\n",
    "TEST=termc.extN*g1+termd.extN*r1\n",
    "print(TEST)"
   ]
  },
  {
   "cell_type": "code",
   "execution_count": 18,
   "id": "c0e0c17a",
   "metadata": {},
   "outputs": [
    {
     "name": "stdout",
     "output_type": "stream",
     "text": [
      "element: p1*p2 + p1*e3 - p1*e4 - p2*e2 - p2*e4 + e2*e3 - e2*e4 - e3*e4\n",
      "set orientation: [p1, p2, e2, e3, e4]\n",
      "Volume: p1*p2*e2*e3*e4\n"
     ]
    }
   ],
   "source": [
    "tmp2=ExtSNalpha.contraction(e1)\n",
    "tmp2.printme()"
   ]
  },
  {
   "cell_type": "code",
   "execution_count": 19,
   "id": "0418ffab",
   "metadata": {},
   "outputs": [
    {
     "name": "stdout",
     "output_type": "stream",
     "text": [
      "element: -p1*p2*e2 + p1*p2*e3 + p1*p2*e4 - p1*e2*e3 - p1*e3*e4 + p2*e2*e3 + p2*e2*e4 + e2*e3*e4\n",
      "set orientation: [p1, p2, e2, e3, e4]\n",
      "Volume: p1*p2*e2*e3*e4\n"
     ]
    }
   ],
   "source": [
    "tmp3=tmp2.perp()\n",
    "tmp3.printme()"
   ]
  },
  {
   "cell_type": "code",
   "execution_count": 20,
   "id": "442eeb36",
   "metadata": {},
   "outputs": [
    {
     "name": "stdout",
     "output_type": "stream",
     "text": [
      "element: -r2*pa1*pa2*pb1*pb2*e2 + r3*pa1*pa2*pb1*pb2*e3 + r4*pa1*pa2*pb1*pb2*e4 - r2*r3*pa1*pa2*pb1*e2*e3 - r3*r4*pa1*pa2*pb1*e3*e4 + r2*r3*pa1*pa2*pb2*e2*e3 + r2*r4*pa1*pa2*pb2*e2*e4 + r2*r3*r4*pa1*pa2*e2*e3*e4 + r2*g3*pa1*pb1*pb2*e2*e3 - r2*g4*pa1*pb1*pb2*e2*e4 + (r4*g3 + r3*g4)*pa1*pb1*pb2*e3*e4 - r2*r3*g4*pa1*pb1*e2*e3*e4 + (r2*r4*g3 + r2*r3*g4)*pa1*pb2*e2*e3*e4 - r3*g2*pa2*pb1*pb2*e2*e3 + (-r4*g2 - r2*g4)*pa2*pb1*pb2*e2*e4 + r3*g4*pa2*pb1*pb2*e3*e4 + (-r3*r4*g2 - r2*r3*g4)*pa2*pb1*e2*e3*e4 + r2*r3*g4*pa2*pb2*e2*e3*e4 + (r4*g2*g3 + r3*g2*g4 + r2*g3*g4)*pb1*pb2*e2*e3*e4\n",
      "set orientation: [pa1, pa2, pb1, pb2, e2, e3, e4]\n",
      "Volume: pa1*pa2*pb1*pb2*e2*e3*e4\n",
      "element: r2*r3*r4*pa1*pa2 - r2*r3*g4*pa1*pb1 + (r2*r4*g3 + r2*r3*g4)*pa1*pb2 + (-r3*r4*g2 - r2*r3*g4)*pa2*pb1 + r2*r3*g4*pa2*pb2 + (r4*g2*g3 + r3*g2*g4 + r2*g3*g4)*pb1*pb2\n",
      "set orientation: [pa1, pa2, pb1, pb2]\n",
      "Volume: pa1*pa2*pb1*pb2\n"
     ]
    }
   ],
   "source": [
    "tmp4=LvS(tmp2,tmp3)\n",
    "tmp4.printme()\n",
    "tmp5=LvSE(tmp2,tmp3)\n",
    "tmp5.printme()"
   ]
  },
  {
   "cell_type": "code",
   "execution_count": 21,
   "id": "b3a8d9b1",
   "metadata": {},
   "outputs": [
    {
     "name": "stdout",
     "output_type": "stream",
     "text": [
      "element: p1*p2 + p1*e3 - p1*e4 + p2*e1 - p2*e3 - e1*e3 + e1*e4 - e3*e4\n",
      "set orientation: [p1, p2, e1, e3, e4]\n",
      "Volume: p1*p2*e1*e3*e4\n",
      "element: p1*p2*e1 - p1*p2*e3 + p1*p2*e4 - p1*e1*e3 + p1*e1*e4 + p2*e1*e4 - p2*e3*e4 - e1*e3*e4\n",
      "set orientation: [p1, p2, e1, e3, e4]\n",
      "Volume: p1*p2*e1*e3*e4\n",
      "\n",
      "\n",
      "\n",
      "element: r1*r3*r4*pa1*pa2 + r1*r4*g3*pa1*pb1 + (r1*r4*g3 + r1*r3*g4)*pa1*pb2 + (-r3*r4*g1 - r1*r4*g3)*pa2*pb1 - r1*r4*g3*pa2*pb2 + (r4*g1*g3 + r3*g1*g4 + r1*g3*g4)*pb1*pb2\n",
      "set orientation: [pa1, pa2, pb1, pb2]\n",
      "Volume: pa1*pa2*pb1*pb2\n",
      "\n",
      "\n",
      "\n",
      "element: (r3*r4*g1 + r1*r4*g3 + r1*r3*g4)*pa1*pa2 - r3*g1*g4*pa1*pb1 + (r4*g1*g3 + r3*g1*g4)*pa1*pb2 + (-r3*g1*g4 - r1*g3*g4)*pa2*pb1 + r3*g1*g4*pa2*pb2 + g1*g3*g4*pb1*pb2\n",
      "set orientation: [pa1, pa2, pb1, pb2]\n",
      "Volume: pa1*pa2*pb1*pb2\n",
      "(r2*r3*r4*g1 + r1*r3*r4*g2 + r1*r2*r4*g3 + r1*r2*r3*g4)*pa1*pa2 + (r1*r4*g2*g3 - r2*r3*g1*g4)*pa1*pb1 + (r2*r4*g1*g3 + r1*r4*g2*g3 + r2*r3*g1*g4 + r1*r3*g2*g4)*pa1*pb2 + (-r3*r4*g1*g2 - r1*r4*g2*g3 - r2*r3*g1*g4 - r1*r2*g3*g4)*pa2*pb1 + (-r1*r4*g2*g3 + r2*r3*g1*g4)*pa2*pb2 + (r4*g1*g2*g3 + r3*g1*g2*g4 + r2*g1*g3*g4 + r1*g2*g3*g4)*pb1*pb2\n"
     ]
    }
   ],
   "source": [
    "Ce1=ExtSNalpha.contraction(e2)\n",
    "De1=ExtSNalpha.deletion(e2)\n",
    "Ce1.printme()\n",
    "De1.printme()\n",
    "\n",
    "\n",
    "Cresult=LhSE(Ce1,Ce1)\n",
    "Dresult=LhSE(De1,De1)\n",
    "\n",
    "#De1.printme()\n",
    "\n",
    "print(\"\\n\\n\")\n",
    "Cresult.printme()\n",
    "print(\"\\n\\n\")\n",
    "Dresult.printme()\n",
    "\n",
    "\n",
    "\n",
    "\n",
    "TRY=g2*Cresult.extN+r2*Dresult.extN\n",
    "print(TRY)"
   ]
  },
  {
   "cell_type": "code",
   "execution_count": 22,
   "id": "9f5642c9",
   "metadata": {},
   "outputs": [
    {
     "ename": "NameError",
     "evalue": "name 'RESULT' is not defined",
     "output_type": "error",
     "traceback": [
      "\u001b[0;31m---------------------------------------------------------------------------\u001b[0m",
      "\u001b[0;31mNameError\u001b[0m                                 Traceback (most recent call last)",
      "\u001b[0;32m/tmp/ipykernel_40659/1637364342.py\u001b[0m in \u001b[0;36m<module>\u001b[0;34m\u001b[0m\n\u001b[0;32m----> 1\u001b[0;31m \u001b[0mTRY\u001b[0m\u001b[0;34m==\u001b[0m\u001b[0mRESULT\u001b[0m\u001b[0;34m\u001b[0m\u001b[0;34m\u001b[0m\u001b[0m\n\u001b[0m",
      "\u001b[0;31mNameError\u001b[0m: name 'RESULT' is not defined"
     ]
    }
   ],
   "source": [
    "TRY==RESULT"
   ]
  },
  {
   "cell_type": "code",
   "execution_count": 23,
   "id": "b86f1cc4",
   "metadata": {},
   "outputs": [
    {
     "name": "stdout",
     "output_type": "stream",
     "text": [
      "element: p1*p2 + p1*e3 - p1*e4 + p2*e1 - p2*e3 - e1*e3 + e1*e4 - e3*e4\n",
      "set orientation: [p1, p2, e1, e3, e4]\n",
      "Volume: p1*p2*e1*e3*e4\n"
     ]
    }
   ],
   "source": [
    "Ce1.printme()"
   ]
  },
  {
   "cell_type": "code",
   "execution_count": 24,
   "id": "7aab371e",
   "metadata": {},
   "outputs": [
    {
     "data": {
      "text/plain": [
       "-p1*p2*e1 - p1*p2*e3 - p1*p2*e4 + p1*e1*e4 + p1*e3*e4 + p2*e1*e3 + p2*e1*e4 + e1*e3*e4"
      ]
     },
     "execution_count": 24,
     "metadata": {},
     "output_type": "execute_result"
    }
   ],
   "source": [
    "Ce1.perp().extN"
   ]
  },
  {
   "cell_type": "code",
   "execution_count": 25,
   "id": "c7a7c1f2",
   "metadata": {},
   "outputs": [
    {
     "name": "stdout",
     "output_type": "stream",
     "text": [
      "element: (r2*g1 - r1*g2)*pa1*pa2*pb1*pb2*e1*e2 + (-r3*g1 + r1*g3)*pa1*pa2*pb1*pb2*e1*e3 + (r4*g1 - r1*g4)*pa1*pa2*pb1*pb2*e1*e4 + (-r3*g2 + r2*g3)*pa1*pa2*pb1*pb2*e2*e3 + (r4*g2 - r2*g4)*pa1*pa2*pb1*pb2*e2*e4 + (-r4*g3 + r3*g4)*pa1*pa2*pb1*pb2*e3*e4 + (r2*r3*g1 - r1*r3*g2)*pa1*pa2*pb1*e1*e2*e3 + (-r2*r4*g1 + r1*r4*g2)*pa1*pa2*pb1*e1*e2*e4 + (-r1*r4*g3 + r1*r3*g4)*pa1*pa2*pb1*e1*e3*e4 + (-r2*r4*g3 + r2*r3*g4)*pa1*pa2*pb1*e2*e3*e4 + (-r2*r3*g1 + r1*r2*g3)*pa1*pa2*pb2*e1*e2*e3 + (r1*r4*g2 - r1*r2*g4)*pa1*pa2*pb2*e1*e2*e4 + (r3*r4*g1 - r1*r4*g3)*pa1*pa2*pb2*e1*e3*e4 + (r3*r4*g2 - r2*r3*g4)*pa1*pa2*pb2*e2*e3*e4 + (-r2*r3*r4*g1 + r1*r3*r4*g2 + r1*r2*r4*g3 - r1*r2*r3*g4)*pa1*pa2*e1*e2*e3*e4 + (r2*g1*g3 - r1*g2*g3)*pa1*pb1*pb2*e1*e2*e3 + (-r2*g1*g4 + r1*g2*g4)*pa1*pb1*pb2*e1*e2*e4 + (-r4*g1*g3 + r3*g1*g4)*pa1*pb1*pb2*e1*e3*e4 + (-r4*g2*g3 + r3*g2*g4)*pa1*pb1*pb2*e2*e3*e4 + (r2*r4*g1*g3 - r1*r4*g2*g3 - r2*r3*g1*g4 + r1*r3*g2*g4)*pa1*pb1*e1*e2*e3*e4 + (-r1*r4*g2*g3 + r2*r3*g1*g4)*pa1*pb2*e1*e2*e3*e4 + (-r3*g1*g2 + r1*g2*g3)*pa2*pb1*pb2*e1*e2*e3 + (r4*g1*g2 - r2*g1*g4)*pa2*pb1*pb2*e1*e2*e4 + (r3*g1*g4 - r1*g3*g4)*pa2*pb1*pb2*e1*e3*e4 + (r4*g2*g3 - r2*g3*g4)*pa2*pb1*pb2*e2*e3*e4 + (r1*r4*g2*g3 - r2*r3*g1*g4)*pa2*pb1*e1*e2*e3*e4 + (-r3*r4*g1*g2 + r1*r4*g2*g3 + r2*r3*g1*g4 - r1*r2*g3*g4)*pa2*pb2*e1*e2*e3*e4 + (r4*g1*g2*g3 - r3*g1*g2*g4 - r2*g1*g3*g4 + r1*g2*g3*g4)*pb1*pb2*e1*e2*e3*e4\n",
      "set orientation: [pa1, pa2, pb1, pb2, e1, e2, e3, e4]\n",
      "Volume: pa1*pa2*pb1*pb2*e1*e2*e3*e4\n",
      "\n",
      "\n",
      "\n",
      "\n"
     ]
    }
   ],
   "source": [
    "\n",
    "LvS(ExtSNalpha,ExtSNbeta).printme()\n",
    "print(\"\\n\")\n",
    "#ExtSII(ExtSNalpha).printme()\n",
    "print(\"\\n\")\n",
    "#ExtSVV(ExtSNbeta).printme()\n",
    "\n"
   ]
  },
  {
   "cell_type": "code",
   "execution_count": null,
   "id": "31bbd445",
   "metadata": {},
   "outputs": [],
   "source": []
  },
  {
   "cell_type": "code",
   "execution_count": 26,
   "id": "deb1d3e5",
   "metadata": {},
   "outputs": [
    {
     "name": "stdout",
     "output_type": "stream",
     "text": [
      "element: p1*p2*e1 - p1*p2*e2 + p1*p2*e3 + p1*p2*e4 + p1*e1*e2 - p1*e1*e4 - p1*e2*e3 - p1*e3*e4 - p2*e1*e3 - p2*e1*e4 + p2*e2*e3 + p2*e2*e4 - e1*e2*e3 - e1*e2*e4 - e1*e3*e4 + e2*e3*e4\n",
      "set orientation: [p1, p2, e1, e2, e3, e4]\n",
      "Volume: p1*p2*e1*e2*e3*e4\n"
     ]
    }
   ],
   "source": [
    "ExtSNbetaPerp=ExtSNbeta.perp()\n",
    "ExtSNbetaPerp.printme()"
   ]
  },
  {
   "cell_type": "code",
   "execution_count": 27,
   "id": "cc0599b6",
   "metadata": {},
   "outputs": [
    {
     "name": "stdout",
     "output_type": "stream",
     "text": [
      "ExtSNalpha\n",
      "element: p1*p2*e1 + p1*p2*e2 - p1*p2*e3 + p1*p2*e4 - p1*e1*e3 + p1*e1*e4 - p1*e2*e3 + p1*e2*e4 + p2*e1*e2 + p2*e1*e4 + p2*e2*e3 - p2*e3*e4 + e1*e2*e3 - e1*e2*e4 - e1*e3*e4 - e2*e3*e4\n",
      "set orientation: [p1, p2, e1, e2, e3, e4]\n",
      "Volume: p1*p2*e1*e2*e3*e4\n",
      "\n",
      "ExtSNbeta\n",
      "element: p1*p2*e1 + p1*p2*e2 - p1*p2*e3 + p1*p2*e4 - p1*e1*e3 + p1*e1*e4 - p1*e2*e3 + p1*e2*e4 + p2*e1*e2 + p2*e1*e4 + p2*e2*e3 - p2*e3*e4 + e1*e2*e3 - e1*e2*e4 - e1*e3*e4 - e2*e3*e4\n",
      "set orientation: [p1, p2, e1, e2, e3, e4]\n",
      "Volume: p1*p2*e1*e2*e3*e4\n"
     ]
    }
   ],
   "source": [
    "print(\"ExtSNalpha\")\n",
    "ExtSNalpha.printme()\n",
    "print(\"\\nExtSNbeta\")\n",
    "ExtSNbeta.printme()"
   ]
  },
  {
   "cell_type": "code",
   "execution_count": null,
   "id": "5ed80c36",
   "metadata": {},
   "outputs": [],
   "source": []
  },
  {
   "cell_type": "code",
   "execution_count": 28,
   "id": "83f33f3e",
   "metadata": {},
   "outputs": [],
   "source": [
    "def L_E(ExtNalpha,ExtNbeta,E):\n",
    "    contract(II(ExtNalpha)*VV(ExtNbetaPerp),e1*e2*e3*e4)"
   ]
  },
  {
   "cell_type": "code",
   "execution_count": 29,
   "id": "836bbe17",
   "metadata": {},
   "outputs": [
    {
     "data": {
      "text/plain": [
       "(p1, p2, pa1, pa2, pb1, pb2, e1, e2, e3, e4)"
      ]
     },
     "execution_count": 29,
     "metadata": {},
     "output_type": "execute_result"
    }
   ],
   "source": [
    "Ext.gens()"
   ]
  },
  {
   "cell_type": "code",
   "execution_count": 30,
   "id": "f42c4c51",
   "metadata": {},
   "outputs": [],
   "source": [
    "epsilon=e1*e2*e3*e4*p1*p2"
   ]
  },
  {
   "cell_type": "code",
   "execution_count": 31,
   "id": "da17d316",
   "metadata": {},
   "outputs": [
    {
     "data": {
      "text/plain": [
       "-p1*p2*e1*e3*e4"
      ]
     },
     "execution_count": 31,
     "metadata": {},
     "output_type": "execute_result"
    }
   ],
   "source": [
    "epsilon.interior_product(e2)"
   ]
  },
  {
   "cell_type": "code",
   "execution_count": 32,
   "id": "a4a99499",
   "metadata": {},
   "outputs": [],
   "source": [
    "seq=[e1,e2,e3]"
   ]
  },
  {
   "cell_type": "code",
   "execution_count": 33,
   "id": "3c32486b",
   "metadata": {},
   "outputs": [
    {
     "data": {
      "text/plain": [
       "e1*e2*e3"
      ]
     },
     "execution_count": 33,
     "metadata": {},
     "output_type": "execute_result"
    }
   ],
   "source": [
    "prod([i for i in seq])"
   ]
  },
  {
   "cell_type": "code",
   "execution_count": 34,
   "id": "c2412fbb",
   "metadata": {},
   "outputs": [
    {
     "data": {
      "text/plain": [
       "[e1, e2, e3]"
      ]
     },
     "execution_count": 34,
     "metadata": {},
     "output_type": "execute_result"
    }
   ],
   "source": [
    "res=seq.copy()\n",
    "res"
   ]
  },
  {
   "cell_type": "code",
   "execution_count": 35,
   "id": "d7129e1c",
   "metadata": {},
   "outputs": [
    {
     "name": "stdout",
     "output_type": "stream",
     "text": [
      "[e1, e2, e3]\n"
     ]
    }
   ],
   "source": [
    "print(res)"
   ]
  },
  {
   "cell_type": "code",
   "execution_count": 36,
   "id": "c3860edb",
   "metadata": {},
   "outputs": [
    {
     "name": "stdout",
     "output_type": "stream",
     "text": [
      "[e1, e3]\n"
     ]
    }
   ],
   "source": [
    "res.remove(e2)\n",
    "print(res)"
   ]
  },
  {
   "cell_type": "code",
   "execution_count": 37,
   "id": "029897cd",
   "metadata": {},
   "outputs": [
    {
     "data": {
      "text/plain": [
       "[e1, e2, e3]"
      ]
     },
     "execution_count": 37,
     "metadata": {},
     "output_type": "execute_result"
    }
   ],
   "source": [
    "seq"
   ]
  },
  {
   "cell_type": "code",
   "execution_count": null,
   "id": "61d4ecf3",
   "metadata": {},
   "outputs": [],
   "source": []
  },
  {
   "cell_type": "code",
   "execution_count": 38,
   "id": "d11f0023",
   "metadata": {
    "scrolled": true
   },
   "outputs": [
    {
     "data": {
      "text/plain": [
       "Lazy family (Term map from Subsets of {0, 1, 2, 3, 4, 5, 6, 7, 8, 9} to The exterior algebra of rank 10 over Multivariate Polynomial Ring in r1, r2, r3, r4, g1, g2, g3, g4 over Rational Field(i))_{i in Subsets of {0, 1, 2, 3, 4, 5, 6, 7, 8, 9}}"
      ]
     },
     "execution_count": 38,
     "metadata": {},
     "output_type": "execute_result"
    }
   ],
   "source": [
    "Ext.basis()"
   ]
  },
  {
   "cell_type": "code",
   "execution_count": 39,
   "id": "960c544d",
   "metadata": {
    "scrolled": false
   },
   "outputs": [
    {
     "data": {
      "text/plain": [
       "The exterior algebra of rank 10 over Multivariate Polynomial Ring in r1, r2, r3, r4, g1, g2, g3, g4 over Rational Field"
      ]
     },
     "execution_count": 39,
     "metadata": {},
     "output_type": "execute_result"
    }
   ],
   "source": [
    "e1.parent()"
   ]
  },
  {
   "cell_type": "code",
   "execution_count": 40,
   "id": "4c281919",
   "metadata": {},
   "outputs": [
    {
     "data": {
      "text/plain": [
       "p1*p2*pa1*pa2*pb1*pb2*e1*e2*e3*e4"
      ]
     },
     "execution_count": 40,
     "metadata": {},
     "output_type": "execute_result"
    }
   ],
   "source": [
    "Ext.volume_form()"
   ]
  },
  {
   "cell_type": "code",
   "execution_count": 41,
   "id": "ff2c5f06",
   "metadata": {},
   "outputs": [],
   "source": [
    "n=UN\n",
    "p=UP\n",
    "\n",
    "var('r cr')\n",
    "\n",
    "r = 3\n",
    "\n",
    "cr = n+p-r"
   ]
  },
  {
   "cell_type": "code",
   "execution_count": 42,
   "id": "30cc7258",
   "metadata": {},
   "outputs": [],
   "source": [
    "#these will be overwritten when they are built from a graph below\n",
    "\n",
    "Nal =   matrix(Crg,  r,  n+p)\n",
    "NbePe = matrix(Crg, cr,  n+p)\n"
   ]
  },
  {
   "cell_type": "code",
   "execution_count": 43,
   "id": "0259237e",
   "metadata": {},
   "outputs": [
    {
     "data": {
      "image/png": "[encoded data removed]",
      "text/plain": [
       "Graphics object consisting of 17 graphics primitives"
      ]
     },
     "execution_count": 43,
     "metadata": {},
     "output_type": "execute_result"
    }
   ],
   "source": [
    "#\n",
    "# Supply a graph\n",
    "#\n",
    "Graph1MyEdges= [(2, 1, p1),(4, 3, p2),(1, 3, e1), (2, 3, e2), (4, 1, e3),(2, 4, e4)  ]\n",
    "#HA I can label the edges with Ext generators!\n",
    "\n",
    "Graph1=DiGraph([[1,2,3,4],Graph1MyEdges])\n",
    "\n",
    "pos_dict = {\n",
    " 1: [.33, .25],\n",
    " 2: [.33, 0],\n",
    " 3: [.6, .33],\n",
    " 4: [0.6, -.1]}\n",
    "\n",
    "myplot=Graph1.plot(edge_labels=True,vertex_labels=True,pos=pos_dict,save_pos=True)\n",
    "myplot.save(\"K4.pdf\")\n",
    "myplot"
   ]
  },
  {
   "cell_type": "code",
   "execution_count": 44,
   "id": "dd834efe",
   "metadata": {},
   "outputs": [
    {
     "data": {
      "text/plain": [
       "[ 1  0 -1  0  1  0]\n",
       "[-1  0  0 -1  0 -1]\n",
       "[ 0  1  1  1  0  0]\n",
       "[ 0 -1  0  0 -1  1]"
      ]
     },
     "execution_count": 44,
     "metadata": {},
     "output_type": "execute_result"
    }
   ],
   "source": [
    "#Graph1.edges()\n",
    "\n",
    "NalFull=Graph1.incidence_matrix(oriented=True, edges=Graph1MyEdges)\n",
    "                       \n",
    "NalFull"
   ]
  },
  {
   "cell_type": "code",
   "execution_count": 45,
   "id": "da295478",
   "metadata": {},
   "outputs": [
    {
     "data": {
      "text/plain": [
       "[ 1  0 -1  0  1  0]\n",
       "[-1  0  0 -1  0 -1]\n",
       "[ 0  1  1  1  0  0]"
      ]
     },
     "execution_count": 45,
     "metadata": {},
     "output_type": "execute_result"
    }
   ],
   "source": [
    "temp=[i for i in range(r,Graph1.num_verts())]\n",
    "Nal=NalFull.delete_rows(temp)\n",
    "assert((Nal.nrows()==r) & (Nal.ncols()==n+p))\n",
    "Nal"
   ]
  },
  {
   "cell_type": "code",
   "execution_count": 46,
   "id": "12d11aa8",
   "metadata": {},
   "outputs": [
    {
     "data": {
      "text/plain": [
       "\\left(\\begin{array}{rrrrrr}\n",
       "1 & 0 & -1 & 0 & 1 & 0 \\\\\n",
       "-1 & 0 & 0 & -1 & 0 & -1 \\\\\n",
       "0 & 1 & 1 & 1 & 0 & 0\n",
       "\\end{array}\\right)"
      ]
     },
     "execution_count": 46,
     "metadata": {},
     "output_type": "execute_result"
    }
   ],
   "source": [
    "latex(Nal)"
   ]
  },
  {
   "cell_type": "code",
   "execution_count": 47,
   "id": "6ffe1708",
   "metadata": {},
   "outputs": [
    {
     "data": {
      "text/plain": [
       "[ 1  0  0  0 -1 -1]\n",
       "[ 0  1  0 -1  0  1]\n",
       "[ 0  0  1 -1  1  1]"
      ]
     },
     "execution_count": 47,
     "metadata": {},
     "output_type": "execute_result"
    }
   ],
   "source": [
    "NbePe=Nal.right_kernel().basis_matrix()\n",
    "NbePe"
   ]
  },
  {
   "cell_type": "code",
   "execution_count": 48,
   "id": "15f8e85b",
   "metadata": {
    "scrolled": true
   },
   "outputs": [
    {
     "data": {
      "text/plain": [
       "\\left(\\begin{array}{rrrrrr}\n",
       "1 & 0 & 0 & 0 & -1 & -1 \\\\\n",
       "0 & 1 & 0 & -1 & 0 & 1 \\\\\n",
       "0 & 0 & 1 & -1 & 1 & 1\n",
       "\\end{array}\\right)"
      ]
     },
     "execution_count": 48,
     "metadata": {},
     "output_type": "execute_result"
    }
   ],
   "source": [
    "latex(NbePe)"
   ]
  },
  {
   "cell_type": "code",
   "execution_count": 49,
   "id": "590c810b",
   "metadata": {},
   "outputs": [],
   "source": [
    "NalG=   Nal  *diagonal_matrix([1 for i in range(0,p)]+Gees)\n",
    "NbePeR= NbePe*diagonal_matrix([1 for i in range(0,p)]+Rrrs)"
   ]
  },
  {
   "cell_type": "code",
   "execution_count": 50,
   "id": "f5903e6d",
   "metadata": {},
   "outputs": [
    {
     "data": {
      "text/plain": [
       "\\left(\\begin{array}{rrrrrr}\n",
       "1 & 0 & -g_{1} & 0 & g_{3} & 0 \\\\\n",
       "-1 & 0 & 0 & -g_{2} & 0 & -g_{4} \\\\\n",
       "0 & 1 & g_{1} & g_{2} & 0 & 0\n",
       "\\end{array}\\right)"
      ]
     },
     "execution_count": 50,
     "metadata": {},
     "output_type": "execute_result"
    }
   ],
   "source": [
    "latex(NalG)"
   ]
  },
  {
   "cell_type": "code",
   "execution_count": 51,
   "id": "616318ab",
   "metadata": {},
   "outputs": [
    {
     "data": {
      "text/plain": [
       "[  1   0   0   0 -r3 -r4]\n",
       "[  0   1   0 -r2   0  r4]\n",
       "[  0   0  r1 -r2  r3  r4]"
      ]
     },
     "execution_count": 51,
     "metadata": {},
     "output_type": "execute_result"
    }
   ],
   "source": [
    "NbePeR"
   ]
  },
  {
   "cell_type": "code",
   "execution_count": 52,
   "id": "acaff2c2",
   "metadata": {},
   "outputs": [
    {
     "data": {
      "text/plain": [
       "\\left(\\begin{array}{rrrrrr}\n",
       "1 & 0 & 0 & 0 & -r_{3} & -r_{4} \\\\\n",
       "0 & 1 & 0 & -r_{2} & 0 & r_{4} \\\\\n",
       "0 & 0 & r_{1} & -r_{2} & r_{3} & r_{4}\n",
       "\\end{array}\\right)"
      ]
     },
     "execution_count": 52,
     "metadata": {},
     "output_type": "execute_result"
    }
   ],
   "source": [
    "latex(NbePeR)"
   ]
  },
  {
   "cell_type": "code",
   "execution_count": 53,
   "id": "07d9108e",
   "metadata": {},
   "outputs": [
    {
     "name": "stdout",
     "output_type": "stream",
     "text": [
      "Lal:\n",
      " [ pa1 - g1*e1 + g3*e3]\n",
      "[-pa1 - g2*e2 - g4*e4]\n",
      "[ pa2 + g1*e1 + g2*e2]\n",
      "\n",
      "Lbe:\n",
      " [          pb1 - r3*e3 - r4*e4]\n",
      "[          pb2 - r2*e2 + r4*e4]\n",
      "[r1*e1 - r2*e2 + r3*e3 + r4*e4]\n"
     ]
    }
   ],
   "source": [
    "Lal=NalG   * (matrix([Paas+Eees]).transpose());print(\"Lal:\\n\",Lal)\n",
    "Lbe=NbePeR * (matrix([Pbes+Eees]).transpose());print(\"\\nLbe:\\n\",Lbe)"
   ]
  },
  {
   "cell_type": "code",
   "execution_count": 54,
   "id": "c0804540",
   "metadata": {},
   "outputs": [
    {
     "data": {
      "text/plain": [
       "{(0, 0): pa1 - g1*e1 + g3*e3,\n",
       " (1, 0): -pa1 - g2*e2 - g4*e4,\n",
       " (2, 0): pa2 + g1*e1 + g2*e2}"
      ]
     },
     "execution_count": 54,
     "metadata": {},
     "output_type": "execute_result"
    }
   ],
   "source": [
    "dictLal=Lal.dict();dictLal"
   ]
  },
  {
   "cell_type": "code",
   "execution_count": 55,
   "id": "7de959ec",
   "metadata": {},
   "outputs": [
    {
     "data": {
      "text/plain": [
       "{(0, 0): pb1 - r3*e3 - r4*e4,\n",
       " (1, 0): pb2 - r2*e2 + r4*e4,\n",
       " (2, 0): r1*e1 - r2*e2 + r3*e3 + r4*e4}"
      ]
     },
     "execution_count": 55,
     "metadata": {},
     "output_type": "execute_result"
    }
   ],
   "source": [
    "dictLbe=Lbe.dict();dictLbe"
   ]
  },
  {
   "cell_type": "code",
   "execution_count": 56,
   "id": "91b3c087",
   "metadata": {},
   "outputs": [
    {
     "name": "stdout",
     "output_type": "stream",
     "text": [
      "ResAl\n",
      "\n",
      "g1*pa1*pa2*e1 + g2*pa1*pa2*e2 - g3*pa1*pa2*e3 + g4*pa1*pa2*e4 - g1*g3*pa1*e1*e3 + g1*g4*pa1*e1*e4 - g2*g3*pa1*e2*e3 + g2*g4*pa1*e2*e4 + g1*g2*pa2*e1*e2 + g1*g4*pa2*e1*e4 + g2*g3*pa2*e2*e3 - g3*g4*pa2*e3*e4 + g1*g2*g3*e1*e2*e3 - g1*g2*g4*e1*e2*e4 - g1*g3*g4*e1*e3*e4 - g2*g3*g4*e2*e3*e4\n",
      "\n",
      "ResBe\n",
      "\n",
      "r1*pb1*pb2*e1 - r2*pb1*pb2*e2 + r3*pb1*pb2*e3 + r4*pb1*pb2*e4 + r1*r2*pb1*e1*e2 - r1*r4*pb1*e1*e4 - r2*r3*pb1*e2*e3 - r3*r4*pb1*e3*e4 - r1*r3*pb2*e1*e3 - r1*r4*pb2*e1*e4 + r2*r3*pb2*e2*e3 + r2*r4*pb2*e2*e4 - r1*r2*r3*e1*e2*e3 - r1*r2*r4*e1*e2*e4 - r1*r3*r4*e1*e3*e4 + r2*r3*r4*e2*e3*e4\n",
      "\n",
      " Res list:\n",
      "\n"
     ]
    },
    {
     "data": {
      "text/plain": [
       "[((2, 3, 4, 5, 6, 7), -r2*g1 - r1*g2),\n",
       " ((2, 3, 4, 5, 6, 8), r3*g1 + r1*g3),\n",
       " ((2, 3, 4, 5, 6, 9), r4*g1 - r1*g4),\n",
       " ((2, 3, 4, 5, 7, 8), r3*g2 - r2*g3),\n",
       " ((2, 3, 4, 5, 7, 9), r4*g2 + r2*g4),\n",
       " ((2, 3, 4, 5, 8, 9), -r4*g3 - r3*g4),\n",
       " ((2, 3, 4, 6, 7, 8), r2*r3*g1 + r1*r2*g3),\n",
       " ((2, 3, 4, 6, 7, 9), -r1*r4*g2 - r1*r2*g4),\n",
       " ((2, 3, 4, 6, 8, 9), r3*r4*g1 + r1*r4*g3),\n",
       " ((2, 3, 4, 7, 8, 9), r3*r4*g2 + r2*r3*g4),\n",
       " ((2, 3, 5, 6, 7, 8), -r2*r3*g1 - r1*r3*g2),\n",
       " ((2, 3, 5, 6, 7, 9), -r2*r4*g1 - r1*r4*g2),\n",
       " ((2, 3, 5, 6, 8, 9), r1*r4*g3 + r1*r3*g4),\n",
       " ((2, 3, 5, 7, 8, 9), -r2*r4*g3 - r2*r3*g4),\n",
       " ((2, 3, 6, 7, 8, 9), r2*r3*r4*g1 + r1*r3*r4*g2 + r1*r2*r4*g3 + r1*r2*r3*g4),\n",
       " ((2, 4, 5, 6, 7, 8), -r2*g1*g3 - r1*g2*g3),\n",
       " ((2, 4, 5, 6, 7, 9), r2*g1*g4 + r1*g2*g4),\n",
       " ((2, 4, 5, 6, 8, 9), -r4*g1*g3 - r3*g1*g4),\n",
       " ((2, 4, 5, 7, 8, 9), -r4*g2*g3 - r3*g2*g4),\n",
       " ((2, 4, 6, 7, 8, 9), r1*r4*g2*g3 - r2*r3*g1*g4),\n",
       " ((2, 5, 6, 7, 8, 9), r2*r4*g1*g3 + r1*r4*g2*g3 + r2*r3*g1*g4 + r1*r3*g2*g4),\n",
       " ((3, 4, 5, 6, 7, 8), r3*g1*g2 + r1*g2*g3),\n",
       " ((3, 4, 5, 6, 7, 9), r4*g1*g2 + r2*g1*g4),\n",
       " ((3, 4, 5, 6, 8, 9), -r3*g1*g4 - r1*g3*g4),\n",
       " ((3, 4, 5, 7, 8, 9), r4*g2*g3 + r2*g3*g4),\n",
       " ((3, 4, 6, 7, 8, 9), -r3*r4*g1*g2 - r1*r4*g2*g3 - r2*r3*g1*g4 - r1*r2*g3*g4),\n",
       " ((3, 5, 6, 7, 8, 9), -r1*r4*g2*g3 + r2*r3*g1*g4),\n",
       " ((4, 5, 6, 7, 8, 9), r4*g1*g2*g3 + r3*g1*g2*g4 + r2*g1*g3*g4 + r1*g2*g3*g4)]"
      ]
     },
     "execution_count": 56,
     "metadata": {},
     "output_type": "execute_result"
    }
   ],
   "source": [
    "ResAl=1\n",
    "for i in range(0,r):\n",
    "    ResAl=ResAl*(dictLal.get((i,0)))\n",
    "print(\"ResAl\\n\")\n",
    "print(ResAl)\n",
    "ResBe=1\n",
    "for i in range(0,cr):\n",
    "    ResBe=ResBe*(dictLbe.get((i,0)))\n",
    "print(\"\\nResBe\\n\")\n",
    "print(ResBe)\n",
    "Res=ResAl*ResBe\n",
    "\n",
    "LLL=Res\n",
    "\n",
    "#print(\"final result\")\n",
    "#print(Res)\n",
    "Reslist=Res.list()\n",
    "print(\"\\n Res list:\\n\")\n",
    "Reslist\n"
   ]
  },
  {
   "cell_type": "code",
   "execution_count": 57,
   "id": "7dd6d48e",
   "metadata": {
    "scrolled": false
   },
   "outputs": [
    {
     "name": "stdout",
     "output_type": "stream",
     "text": [
      "(6, 7, 8, 9)\n",
      "\n",
      "Try: (2, 3, 4, 5, 6, 7)\n",
      "(6, 7, 8, 9)\n",
      "\n",
      "Try: (2, 3, 4, 5, 6, 8)\n",
      "(6, 7, 8, 9)\n",
      "\n",
      "Try: (2, 3, 4, 5, 6, 9)\n",
      "(6, 7, 8, 9)\n",
      "\n",
      "Try: (2, 3, 4, 5, 7, 8)\n",
      "(6, 7, 8, 9)\n",
      "\n",
      "Try: (2, 3, 4, 5, 7, 9)\n",
      "(6, 7, 8, 9)\n",
      "\n",
      "Try: (2, 3, 4, 5, 8, 9)\n",
      "(6, 7, 8, 9)\n",
      "\n",
      "Try: (2, 3, 4, 6, 7, 8)\n",
      "(6, 7, 8, 9)\n",
      "\n",
      "Try: (2, 3, 4, 6, 7, 9)\n",
      "(6, 7, 8, 9)\n",
      "\n",
      "Try: (2, 3, 4, 6, 8, 9)\n",
      "(6, 7, 8, 9)\n",
      "\n",
      "Try: (2, 3, 4, 7, 8, 9)\n",
      "(6, 7, 8, 9)\n",
      "\n",
      "Try: (2, 3, 5, 6, 7, 8)\n",
      "(6, 7, 8, 9)\n",
      "\n",
      "Try: (2, 3, 5, 6, 7, 9)\n",
      "(6, 7, 8, 9)\n",
      "\n",
      "Try: (2, 3, 5, 6, 8, 9)\n",
      "(6, 7, 8, 9)\n",
      "\n",
      "Try: (2, 3, 5, 7, 8, 9)\n",
      "(6, 7, 8, 9)\n",
      "\n",
      "Try: (2, 3, 6, 7, 8, 9)\n",
      " \n",
      " ((2, 3, 6, 7, 8, 9), r2*r3*r4*g1 + r1*r3*r4*g2 + r1*r2*r4*g3 + r1*r2*r3*g4)\n",
      "\n",
      " (2, 3)\n",
      " \n",
      "Monomial: pa1*pa2\n",
      "Coef: r2*r3*r4*g1 + r1*r3*r4*g2 + r1*r2*r4*g3 + r1*r2*r3*g4\n",
      "(6, 7, 8, 9)\n",
      "\n",
      "Try: (2, 4, 5, 6, 7, 8)\n",
      "(6, 7, 8, 9)\n",
      "\n",
      "Try: (2, 4, 5, 6, 7, 9)\n",
      "(6, 7, 8, 9)\n",
      "\n",
      "Try: (2, 4, 5, 6, 8, 9)\n",
      "(6, 7, 8, 9)\n",
      "\n",
      "Try: (2, 4, 5, 7, 8, 9)\n",
      "(6, 7, 8, 9)\n",
      "\n",
      "Try: (2, 4, 6, 7, 8, 9)\n",
      " \n",
      " ((2, 4, 6, 7, 8, 9), r1*r4*g2*g3 - r2*r3*g1*g4)\n",
      "\n",
      " (2, 4)\n",
      " \n",
      "Monomial: pa1*pb1\n",
      "Coef: r1*r4*g2*g3 - r2*r3*g1*g4\n",
      "(6, 7, 8, 9)\n",
      "\n",
      "Try: (2, 5, 6, 7, 8, 9)\n",
      " \n",
      " ((2, 5, 6, 7, 8, 9), r2*r4*g1*g3 + r1*r4*g2*g3 + r2*r3*g1*g4 + r1*r3*g2*g4)\n",
      "\n",
      " (2, 5)\n",
      " \n",
      "Monomial: pa1*pb2\n",
      "Coef: r2*r4*g1*g3 + r1*r4*g2*g3 + r2*r3*g1*g4 + r1*r3*g2*g4\n",
      "(6, 7, 8, 9)\n",
      "\n",
      "Try: (3, 4, 5, 6, 7, 8)\n",
      "(6, 7, 8, 9)\n",
      "\n",
      "Try: (3, 4, 5, 6, 7, 9)\n",
      "(6, 7, 8, 9)\n",
      "\n",
      "Try: (3, 4, 5, 6, 8, 9)\n",
      "(6, 7, 8, 9)\n",
      "\n",
      "Try: (3, 4, 5, 7, 8, 9)\n",
      "(6, 7, 8, 9)\n",
      "\n",
      "Try: (3, 4, 6, 7, 8, 9)\n",
      " \n",
      " ((3, 4, 6, 7, 8, 9), -r3*r4*g1*g2 - r1*r4*g2*g3 - r2*r3*g1*g4 - r1*r2*g3*g4)\n",
      "\n",
      " (3, 4)\n",
      " \n",
      "Monomial: pa2*pb1\n",
      "Coef: -r3*r4*g1*g2 - r1*r4*g2*g3 - r2*r3*g1*g4 - r1*r2*g3*g4\n",
      "(6, 7, 8, 9)\n",
      "\n",
      "Try: (3, 5, 6, 7, 8, 9)\n",
      " \n",
      " ((3, 5, 6, 7, 8, 9), -r1*r4*g2*g3 + r2*r3*g1*g4)\n",
      "\n",
      " (3, 5)\n",
      " \n",
      "Monomial: pa2*pb2\n",
      "Coef: -r1*r4*g2*g3 + r2*r3*g1*g4\n",
      "(6, 7, 8, 9)\n",
      "\n",
      "Try: (4, 5, 6, 7, 8, 9)\n",
      " \n",
      " ((4, 5, 6, 7, 8, 9), r4*g1*g2*g3 + r3*g1*g2*g4 + r2*g1*g3*g4 + r1*g2*g3*g4)\n",
      "\n",
      " (4, 5)\n",
      " \n",
      "Monomial: pb1*pb2\n",
      "Coef: r4*g1*g2*g3 + r3*g1*g2*g4 + r2*g1*g3*g4 + r1*g2*g3*g4\n"
     ]
    }
   ],
   "source": [
    "RESULT=0\n",
    "for thing in Reslist:\n",
    "    print(tuple(range(3*p,3*p+n)))\n",
    "    print(\"\\nTry:\",thing[0])\n",
    "    if thing[0][p:p+n]==tuple(range(3*p,3*p+n)):\n",
    "        print(\" \\n\", thing)\n",
    "        prgens=1\n",
    "        print(\"\\n\",thing[0][0:p])\n",
    "        for i in thing[0][0:p]:\n",
    "            prgens=prgens*(Ext.gens()[i])\n",
    "        print(\" \\nMonomial:\", prgens)\n",
    "        print(\"Coef:\",thing[1])\n",
    "        term = thing[1]*prgens\n",
    "#        print(\" \\n\", term)\n",
    "        RESULT = RESULT + term\n",
    "#print(\"\\nHERE IT IS:\", RESULT)"
   ]
  },
  {
   "cell_type": "code",
   "execution_count": 58,
   "id": "3bc41617",
   "metadata": {
    "scrolled": true
   },
   "outputs": [
    {
     "data": {
      "text/plain": [
       "[((2, 3), r2*r3*r4*g1 + r1*r3*r4*g2 + r1*r2*r4*g3 + r1*r2*r3*g4),\n",
       " ((2, 4), r1*r4*g2*g3 - r2*r3*g1*g4),\n",
       " ((2, 5), r2*r4*g1*g3 + r1*r4*g2*g3 + r2*r3*g1*g4 + r1*r3*g2*g4),\n",
       " ((3, 4), -r3*r4*g1*g2 - r1*r4*g2*g3 - r2*r3*g1*g4 - r1*r2*g3*g4),\n",
       " ((3, 5), -r1*r4*g2*g3 + r2*r3*g1*g4),\n",
       " ((4, 5), r4*g1*g2*g3 + r3*g1*g2*g4 + r2*g1*g3*g4 + r1*g2*g3*g4)]"
      ]
     },
     "execution_count": 58,
     "metadata": {},
     "output_type": "execute_result"
    }
   ],
   "source": [
    "RESULT.list()"
   ]
  },
  {
   "cell_type": "code",
   "execution_count": 59,
   "id": "1f0eb38a",
   "metadata": {},
   "outputs": [
    {
     "data": {
      "text/plain": [
       "True"
      ]
     },
     "execution_count": 59,
     "metadata": {},
     "output_type": "execute_result"
    }
   ],
   "source": [
    "RESULT==GREAT"
   ]
  },
  {
   "cell_type": "code",
   "execution_count": 60,
   "id": "750c7740",
   "metadata": {},
   "outputs": [
    {
     "data": {
      "text/plain": [
       "True"
      ]
     },
     "execution_count": 60,
     "metadata": {},
     "output_type": "execute_result"
    }
   ],
   "source": [
    "HAPPYMAYBE.extN==RESULT"
   ]
  },
  {
   "cell_type": "code",
   "execution_count": 61,
   "id": "25d9c8cd",
   "metadata": {},
   "outputs": [
    {
     "data": {
      "text/plain": [
       "True"
      ]
     },
     "execution_count": 61,
     "metadata": {},
     "output_type": "execute_result"
    }
   ],
   "source": [
    "TEST==RESULT"
   ]
  },
  {
   "cell_type": "code",
   "execution_count": 62,
   "id": "5c22d7b0",
   "metadata": {},
   "outputs": [
    {
     "data": {
      "text/plain": [
       "(-r2*g1 - r1*g2)*pa1*pa2*pb1*pb2*e1*e2 + (r3*g1 + r1*g3)*pa1*pa2*pb1*pb2*e1*e3 + (r4*g1 - r1*g4)*pa1*pa2*pb1*pb2*e1*e4 + (r3*g2 - r2*g3)*pa1*pa2*pb1*pb2*e2*e3 + (r4*g2 + r2*g4)*pa1*pa2*pb1*pb2*e2*e4 + (-r4*g3 - r3*g4)*pa1*pa2*pb1*pb2*e3*e4 + (r2*r3*g1 + r1*r2*g3)*pa1*pa2*pb1*e1*e2*e3 + (-r1*r4*g2 - r1*r2*g4)*pa1*pa2*pb1*e1*e2*e4 + (r3*r4*g1 + r1*r4*g3)*pa1*pa2*pb1*e1*e3*e4 + (r3*r4*g2 + r2*r3*g4)*pa1*pa2*pb1*e2*e3*e4 + (-r2*r3*g1 - r1*r3*g2)*pa1*pa2*pb2*e1*e2*e3 + (-r2*r4*g1 - r1*r4*g2)*pa1*pa2*pb2*e1*e2*e4 + (r1*r4*g3 + r1*r3*g4)*pa1*pa2*pb2*e1*e3*e4 + (-r2*r4*g3 - r2*r3*g4)*pa1*pa2*pb2*e2*e3*e4 + (r2*r3*r4*g1 + r1*r3*r4*g2 + r1*r2*r4*g3 + r1*r2*r3*g4)*pa1*pa2*e1*e2*e3*e4 + (-r2*g1*g3 - r1*g2*g3)*pa1*pb1*pb2*e1*e2*e3 + (r2*g1*g4 + r1*g2*g4)*pa1*pb1*pb2*e1*e2*e4 + (-r4*g1*g3 - r3*g1*g4)*pa1*pb1*pb2*e1*e3*e4 + (-r4*g2*g3 - r3*g2*g4)*pa1*pb1*pb2*e2*e3*e4 + (r1*r4*g2*g3 - r2*r3*g1*g4)*pa1*pb1*e1*e2*e3*e4 + (r2*r4*g1*g3 + r1*r4*g2*g3 + r2*r3*g1*g4 + r1*r3*g2*g4)*pa1*pb2*e1*e2*e3*e4 + (r3*g1*g2 + r1*g2*g3)*pa2*pb1*pb2*e1*e2*e3 + (r4*g1*g2 + r2*g1*g4)*pa2*pb1*pb2*e1*e2*e4 + (-r3*g1*g4 - r1*g3*g4)*pa2*pb1*pb2*e1*e3*e4 + (r4*g2*g3 + r2*g3*g4)*pa2*pb1*pb2*e2*e3*e4 + (-r3*r4*g1*g2 - r1*r4*g2*g3 - r2*r3*g1*g4 - r1*r2*g3*g4)*pa2*pb1*e1*e2*e3*e4 + (-r1*r4*g2*g3 + r2*r3*g1*g4)*pa2*pb2*e1*e2*e3*e4 + (r4*g1*g2*g3 + r3*g1*g2*g4 + r2*g1*g3*g4 + r1*g2*g3*g4)*pb1*pb2*e1*e2*e3*e4"
      ]
     },
     "execution_count": 62,
     "metadata": {},
     "output_type": "execute_result"
    }
   ],
   "source": [
    "LLL"
   ]
  },
  {
   "cell_type": "code",
   "execution_count": 65,
   "id": "88b4658d",
   "metadata": {},
   "outputs": [
    {
     "data": {
      "text/plain": [
       "(-r2*g1 - r1*g2)*pa1*pa2*pb1*pb2*e1*e2 + (r3*g1 + r1*g3)*pa1*pa2*pb1*pb2*e1*e3 + (r4*g1 - r1*g4)*pa1*pa2*pb1*pb2*e1*e4 + (r3*g2 - r2*g3)*pa1*pa2*pb1*pb2*e2*e3 + (r4*g2 + r2*g4)*pa1*pa2*pb1*pb2*e2*e4 + (-r4*g3 - r3*g4)*pa1*pa2*pb1*pb2*e3*e4 + (r2*r3*g1 + r1*r2*g3)*pa1*pa2*pb1*e1*e2*e3 + (-r1*r4*g2 - r1*r2*g4)*pa1*pa2*pb1*e1*e2*e4 + (r3*r4*g1 + r1*r4*g3)*pa1*pa2*pb1*e1*e3*e4 + (r3*r4*g2 + r2*r3*g4)*pa1*pa2*pb1*e2*e3*e4 + (-r2*r3*g1 - r1*r3*g2)*pa1*pa2*pb2*e1*e2*e3 + (-r2*r4*g1 - r1*r4*g2)*pa1*pa2*pb2*e1*e2*e4 + (r1*r4*g3 + r1*r3*g4)*pa1*pa2*pb2*e1*e3*e4 + (-r2*r4*g3 - r2*r3*g4)*pa1*pa2*pb2*e2*e3*e4 + (r2*r3*r4*g1 + r1*r3*r4*g2 + r1*r2*r4*g3 + r1*r2*r3*g4)*pa1*pa2*e1*e2*e3*e4 + (-r2*g1*g3 - r1*g2*g3)*pa1*pb1*pb2*e1*e2*e3 + (r2*g1*g4 + r1*g2*g4)*pa1*pb1*pb2*e1*e2*e4 + (-r4*g1*g3 - r3*g1*g4)*pa1*pb1*pb2*e1*e3*e4 + (-r4*g2*g3 - r3*g2*g4)*pa1*pb1*pb2*e2*e3*e4 + (r1*r4*g2*g3 - r2*r3*g1*g4)*pa1*pb1*e1*e2*e3*e4 + (r2*r4*g1*g3 + r1*r4*g2*g3 + r2*r3*g1*g4 + r1*r3*g2*g4)*pa1*pb2*e1*e2*e3*e4 + (r3*g1*g2 + r1*g2*g3)*pa2*pb1*pb2*e1*e2*e3 + (r4*g1*g2 + r2*g1*g4)*pa2*pb1*pb2*e1*e2*e4 + (-r3*g1*g4 - r1*g3*g4)*pa2*pb1*pb2*e1*e3*e4 + (r4*g2*g3 + r2*g3*g4)*pa2*pb1*pb2*e2*e3*e4 + (-r3*r4*g1*g2 - r1*r4*g2*g3 - r2*r3*g1*g4 - r1*r2*g3*g4)*pa2*pb1*e1*e2*e3*e4 + (-r1*r4*g2*g3 + r2*r3*g1*g4)*pa2*pb2*e1*e2*e3*e4 + (r4*g1*g2*g3 + r3*g1*g2*g4 + r2*g1*g3*g4 + r1*g2*g3*g4)*pb1*pb2*e1*e2*e3*e4"
      ]
     },
     "execution_count": 65,
     "metadata": {},
     "output_type": "execute_result"
    }
   ],
   "source": [
    "LLL"
   ]
  },
  {
   "cell_type": "code",
   "execution_count": 67,
   "id": "673b16e8",
   "metadata": {},
   "outputs": [
    {
     "data": {
      "text/plain": [
       "(r3*g2 - r2*g3)*pa1*pa2*pb1*pb2*e2*e3 + (r4*g2 + r2*g4)*pa1*pa2*pb1*pb2*e2*e4 + (-r4*g3 - r3*g4)*pa1*pa2*pb1*pb2*e3*e4 + (r3*r4*g2 + r2*r3*g4)*pa1*pa2*pb1*e2*e3*e4 + (-r2*r4*g3 - r2*r3*g4)*pa1*pa2*pb2*e2*e3*e4 + (-r4*g2*g3 - r3*g2*g4)*pa1*pb1*pb2*e2*e3*e4 + (r4*g2*g3 + r2*g3*g4)*pa2*pb1*pb2*e2*e3*e4"
      ]
     },
     "execution_count": 67,
     "metadata": {},
     "output_type": "execute_result"
    }
   ],
   "source": [
    "delete(LLL,e1)"
   ]
  },
  {
   "cell_type": "code",
   "execution_count": 68,
   "id": "babb75ad",
   "metadata": {},
   "outputs": [
    {
     "data": {
      "text/plain": [
       "(r2*g1 + r1*g2)*pa1*pa2*pb1*pb2*e2 + (-r3*g1 - r1*g3)*pa1*pa2*pb1*pb2*e3 + (-r4*g1 + r1*g4)*pa1*pa2*pb1*pb2*e4 + (r2*r3*g1 + r1*r2*g3)*pa1*pa2*pb1*e2*e3 + (-r1*r4*g2 - r1*r2*g4)*pa1*pa2*pb1*e2*e4 + (r3*r4*g1 + r1*r4*g3)*pa1*pa2*pb1*e3*e4 + (-r2*r3*g1 - r1*r3*g2)*pa1*pa2*pb2*e2*e3 + (-r2*r4*g1 - r1*r4*g2)*pa1*pa2*pb2*e2*e4 + (r1*r4*g3 + r1*r3*g4)*pa1*pa2*pb2*e3*e4 + (-r2*r3*r4*g1 - r1*r3*r4*g2 - r1*r2*r4*g3 - r1*r2*r3*g4)*pa1*pa2*e2*e3*e4 + (-r2*g1*g3 - r1*g2*g3)*pa1*pb1*pb2*e2*e3 + (r2*g1*g4 + r1*g2*g4)*pa1*pb1*pb2*e2*e4 + (-r4*g1*g3 - r3*g1*g4)*pa1*pb1*pb2*e3*e4 + (-r1*r4*g2*g3 + r2*r3*g1*g4)*pa1*pb1*e2*e3*e4 + (-r2*r4*g1*g3 - r1*r4*g2*g3 - r2*r3*g1*g4 - r1*r3*g2*g4)*pa1*pb2*e2*e3*e4 + (r3*g1*g2 + r1*g2*g3)*pa2*pb1*pb2*e2*e3 + (r4*g1*g2 + r2*g1*g4)*pa2*pb1*pb2*e2*e4 + (-r3*g1*g4 - r1*g3*g4)*pa2*pb1*pb2*e3*e4 + (r3*r4*g1*g2 + r1*r4*g2*g3 + r2*r3*g1*g4 + r1*r2*g3*g4)*pa2*pb1*e2*e3*e4 + (r1*r4*g2*g3 - r2*r3*g1*g4)*pa2*pb2*e2*e3*e4 + (-r4*g1*g2*g3 - r3*g1*g2*g4 - r2*g1*g3*g4 - r1*g2*g3*g4)*pb1*pb2*e2*e3*e4"
      ]
     },
     "execution_count": 68,
     "metadata": {},
     "output_type": "execute_result"
    }
   ],
   "source": [
    "contract(LLL,e1)\n"
   ]
  },
  {
   "cell_type": "code",
   "execution_count": 70,
   "id": "747b2ff3",
   "metadata": {},
   "outputs": [
    {
     "data": {
      "text/plain": [
       "((r3*g2 - r2*g3)*pa1*pa2*pb1*pb2*e2*e3 + (r4*g2 + r2*g4)*pa1*pa2*pb1*pb2*e2*e4 + (-r4*g3 - r3*g4)*pa1*pa2*pb1*pb2*e3*e4 + (r3*r4*g2 + r2*r3*g4)*pa1*pa2*pb1*e2*e3*e4 + (-r2*r4*g3 - r2*r3*g4)*pa1*pa2*pb2*e2*e3*e4 + (-r4*g2*g3 - r3*g2*g4)*pa1*pb1*pb2*e2*e3*e4 + (r4*g2*g3 + r2*g3*g4)*pa2*pb1*pb2*e2*e3*e4,\n",
       " (r2*g1 + r1*g2)*pa1*pa2*pb1*pb2*e2 + (-r3*g1 - r1*g3)*pa1*pa2*pb1*pb2*e3 + (-r4*g1 + r1*g4)*pa1*pa2*pb1*pb2*e4 + (r2*r3*g1 + r1*r2*g3)*pa1*pa2*pb1*e2*e3 + (-r1*r4*g2 - r1*r2*g4)*pa1*pa2*pb1*e2*e4 + (r3*r4*g1 + r1*r4*g3)*pa1*pa2*pb1*e3*e4 + (-r2*r3*g1 - r1*r3*g2)*pa1*pa2*pb2*e2*e3 + (-r2*r4*g1 - r1*r4*g2)*pa1*pa2*pb2*e2*e4 + (r1*r4*g3 + r1*r3*g4)*pa1*pa2*pb2*e3*e4 + (-r2*r3*r4*g1 - r1*r3*r4*g2 - r1*r2*r4*g3 - r1*r2*r3*g4)*pa1*pa2*e2*e3*e4 + (-r2*g1*g3 - r1*g2*g3)*pa1*pb1*pb2*e2*e3 + (r2*g1*g4 + r1*g2*g4)*pa1*pb1*pb2*e2*e4 + (-r4*g1*g3 - r3*g1*g4)*pa1*pb1*pb2*e3*e4 + (-r1*r4*g2*g3 + r2*r3*g1*g4)*pa1*pb1*e2*e3*e4 + (-r2*r4*g1*g3 - r1*r4*g2*g3 - r2*r3*g1*g4 - r1*r3*g2*g4)*pa1*pb2*e2*e3*e4 + (r3*g1*g2 + r1*g2*g3)*pa2*pb1*pb2*e2*e3 + (r4*g1*g2 + r2*g1*g4)*pa2*pb1*pb2*e2*e4 + (-r3*g1*g4 - r1*g3*g4)*pa2*pb1*pb2*e3*e4 + (r3*r4*g1*g2 + r1*r4*g2*g3 + r2*r3*g1*g4 + r1*r2*g3*g4)*pa2*pb1*e2*e3*e4 + (r1*r4*g2*g3 - r2*r3*g1*g4)*pa2*pb2*e2*e3*e4 + (-r4*g1*g2*g3 - r3*g1*g2*g4 - r2*g1*g3*g4 - r1*g2*g3*g4)*pb1*pb2*e2*e3*e4)"
      ]
     },
     "execution_count": 70,
     "metadata": {},
     "output_type": "execute_result"
    }
   ],
   "source": [
    "delete_contract(LLL,e1)"
   ]
  },
  {
   "cell_type": "code",
   "execution_count": null,
   "id": "f4915806",
   "metadata": {},
   "outputs": [],
   "source": []
  }
 ],
 "metadata": {
  "kernelspec": {
   "display_name": "SageMath 9.6",
   "language": "sage",
   "name": "sagemath"
  },
  "language_info": {
   "codemirror_mode": {
    "name": "ipython",
    "version": 3
   },
   "file_extension": ".py",
   "mimetype": "text/x-python",
   "name": "python",
   "nbconvert_exporter": "python",
   "pygments_lexer": "ipython3",
   "version": "3.10.6"
  }
 },
 "nbformat": 4,
 "nbformat_minor": 5
}
